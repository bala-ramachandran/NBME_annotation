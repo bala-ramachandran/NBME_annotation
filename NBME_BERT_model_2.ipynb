{
  "cells": [
    {
      "cell_type": "code",
      "execution_count": null,
      "metadata": {
        "id": "kYWuh4rsJr7i"
      },
      "outputs": [],
      "source": [
        "import pandas as pd\n",
        "import numpy as np\n",
        "import matplotlib.pyplot as plt\n",
        "import seaborn as sns\n",
        "import nltk as nl\n",
        "import tensorflow as tf\n"
      ]
    },
    {
      "cell_type": "code",
      "execution_count": null,
      "metadata": {
        "colab": {
          "base_uri": "https://localhost:8080/"
        },
        "id": "VfR9S1bsJx7r",
        "outputId": "8dbaa77e-418e-4bb1-b607-7954b0d8499d"
      },
      "outputs": [
        {
          "output_type": "stream",
          "name": "stdout",
          "text": [
            "Mounted at /content/gdrive\n"
          ]
        }
      ],
      "source": [
        "from google.colab import drive\n",
        "drive.mount('/content/gdrive')"
      ]
    },
    {
      "cell_type": "code",
      "execution_count": null,
      "metadata": {
        "id": "NHMFx8CdJ5SY",
        "colab": {
          "base_uri": "https://localhost:8080/",
          "height": 520
        },
        "outputId": "a7c9c222-63ab-4a00-9b60-e4b7a08ff0c3"
      },
      "outputs": [
        {
          "output_type": "execute_result",
          "data": {
            "text/plain": [
              "    feature_num  case_num                                       feature_text  \\\n",
              "0             0         0  Family-history-of-MI-OR-Family-history-of-myoc...   \n",
              "1             1         0                 Family-history-of-thyroid-disorder   \n",
              "2             2         0                                     Chest-pressure   \n",
              "3             3         0                              Intermittent-symptoms   \n",
              "4             4         0                                        Lightheaded   \n",
              "5             5         0  No-hair-changes-OR-no-nail-changes-OR-no-tempe...   \n",
              "6             6         0                                       Adderall-use   \n",
              "7             7         0                                Shortness-of-breath   \n",
              "8             8         0                                       Caffeine-use   \n",
              "9             9         0                     heart-pounding-OR-heart-racing   \n",
              "10           10         0                                Few-months-duration   \n",
              "11           11         0                                            17-year   \n",
              "12           12         0                                               Male   \n",
              "13          100         1                               No-vaginal-discharge   \n",
              "14          101         1                                        Weight-loss   \n",
              "\n",
              "    Unnamed: 3             Tag  sex_variable  \n",
              "0          NaN  Family history             0  \n",
              "1          NaN  Family history             0  \n",
              "2          NaN        Symptoms             0  \n",
              "3          NaN        Symptoms             0  \n",
              "4          NaN        Symptoms             0  \n",
              "5          NaN      Background             0  \n",
              "6          NaN      Background             0  \n",
              "7          NaN        Symptoms             0  \n",
              "8          NaN      Background             0  \n",
              "9          NaN        Symptoms             0  \n",
              "10         NaN        Symptoms             0  \n",
              "11         NaN         Profile             0  \n",
              "12         NaN         Profile             1  \n",
              "13         NaN        Symptoms             0  \n",
              "14         NaN        Symptoms             0  "
            ],
            "text/html": [
              "\n",
              "  <div id=\"df-802c7c5c-b4b3-4da4-b432-d0377988bb2c\">\n",
              "    <div class=\"colab-df-container\">\n",
              "      <div>\n",
              "<style scoped>\n",
              "    .dataframe tbody tr th:only-of-type {\n",
              "        vertical-align: middle;\n",
              "    }\n",
              "\n",
              "    .dataframe tbody tr th {\n",
              "        vertical-align: top;\n",
              "    }\n",
              "\n",
              "    .dataframe thead th {\n",
              "        text-align: right;\n",
              "    }\n",
              "</style>\n",
              "<table border=\"1\" class=\"dataframe\">\n",
              "  <thead>\n",
              "    <tr style=\"text-align: right;\">\n",
              "      <th></th>\n",
              "      <th>feature_num</th>\n",
              "      <th>case_num</th>\n",
              "      <th>feature_text</th>\n",
              "      <th>Unnamed: 3</th>\n",
              "      <th>Tag</th>\n",
              "      <th>sex_variable</th>\n",
              "    </tr>\n",
              "  </thead>\n",
              "  <tbody>\n",
              "    <tr>\n",
              "      <th>0</th>\n",
              "      <td>0</td>\n",
              "      <td>0</td>\n",
              "      <td>Family-history-of-MI-OR-Family-history-of-myoc...</td>\n",
              "      <td>NaN</td>\n",
              "      <td>Family history</td>\n",
              "      <td>0</td>\n",
              "    </tr>\n",
              "    <tr>\n",
              "      <th>1</th>\n",
              "      <td>1</td>\n",
              "      <td>0</td>\n",
              "      <td>Family-history-of-thyroid-disorder</td>\n",
              "      <td>NaN</td>\n",
              "      <td>Family history</td>\n",
              "      <td>0</td>\n",
              "    </tr>\n",
              "    <tr>\n",
              "      <th>2</th>\n",
              "      <td>2</td>\n",
              "      <td>0</td>\n",
              "      <td>Chest-pressure</td>\n",
              "      <td>NaN</td>\n",
              "      <td>Symptoms</td>\n",
              "      <td>0</td>\n",
              "    </tr>\n",
              "    <tr>\n",
              "      <th>3</th>\n",
              "      <td>3</td>\n",
              "      <td>0</td>\n",
              "      <td>Intermittent-symptoms</td>\n",
              "      <td>NaN</td>\n",
              "      <td>Symptoms</td>\n",
              "      <td>0</td>\n",
              "    </tr>\n",
              "    <tr>\n",
              "      <th>4</th>\n",
              "      <td>4</td>\n",
              "      <td>0</td>\n",
              "      <td>Lightheaded</td>\n",
              "      <td>NaN</td>\n",
              "      <td>Symptoms</td>\n",
              "      <td>0</td>\n",
              "    </tr>\n",
              "    <tr>\n",
              "      <th>5</th>\n",
              "      <td>5</td>\n",
              "      <td>0</td>\n",
              "      <td>No-hair-changes-OR-no-nail-changes-OR-no-tempe...</td>\n",
              "      <td>NaN</td>\n",
              "      <td>Background</td>\n",
              "      <td>0</td>\n",
              "    </tr>\n",
              "    <tr>\n",
              "      <th>6</th>\n",
              "      <td>6</td>\n",
              "      <td>0</td>\n",
              "      <td>Adderall-use</td>\n",
              "      <td>NaN</td>\n",
              "      <td>Background</td>\n",
              "      <td>0</td>\n",
              "    </tr>\n",
              "    <tr>\n",
              "      <th>7</th>\n",
              "      <td>7</td>\n",
              "      <td>0</td>\n",
              "      <td>Shortness-of-breath</td>\n",
              "      <td>NaN</td>\n",
              "      <td>Symptoms</td>\n",
              "      <td>0</td>\n",
              "    </tr>\n",
              "    <tr>\n",
              "      <th>8</th>\n",
              "      <td>8</td>\n",
              "      <td>0</td>\n",
              "      <td>Caffeine-use</td>\n",
              "      <td>NaN</td>\n",
              "      <td>Background</td>\n",
              "      <td>0</td>\n",
              "    </tr>\n",
              "    <tr>\n",
              "      <th>9</th>\n",
              "      <td>9</td>\n",
              "      <td>0</td>\n",
              "      <td>heart-pounding-OR-heart-racing</td>\n",
              "      <td>NaN</td>\n",
              "      <td>Symptoms</td>\n",
              "      <td>0</td>\n",
              "    </tr>\n",
              "    <tr>\n",
              "      <th>10</th>\n",
              "      <td>10</td>\n",
              "      <td>0</td>\n",
              "      <td>Few-months-duration</td>\n",
              "      <td>NaN</td>\n",
              "      <td>Symptoms</td>\n",
              "      <td>0</td>\n",
              "    </tr>\n",
              "    <tr>\n",
              "      <th>11</th>\n",
              "      <td>11</td>\n",
              "      <td>0</td>\n",
              "      <td>17-year</td>\n",
              "      <td>NaN</td>\n",
              "      <td>Profile</td>\n",
              "      <td>0</td>\n",
              "    </tr>\n",
              "    <tr>\n",
              "      <th>12</th>\n",
              "      <td>12</td>\n",
              "      <td>0</td>\n",
              "      <td>Male</td>\n",
              "      <td>NaN</td>\n",
              "      <td>Profile</td>\n",
              "      <td>1</td>\n",
              "    </tr>\n",
              "    <tr>\n",
              "      <th>13</th>\n",
              "      <td>100</td>\n",
              "      <td>1</td>\n",
              "      <td>No-vaginal-discharge</td>\n",
              "      <td>NaN</td>\n",
              "      <td>Symptoms</td>\n",
              "      <td>0</td>\n",
              "    </tr>\n",
              "    <tr>\n",
              "      <th>14</th>\n",
              "      <td>101</td>\n",
              "      <td>1</td>\n",
              "      <td>Weight-loss</td>\n",
              "      <td>NaN</td>\n",
              "      <td>Symptoms</td>\n",
              "      <td>0</td>\n",
              "    </tr>\n",
              "  </tbody>\n",
              "</table>\n",
              "</div>\n",
              "      <button class=\"colab-df-convert\" onclick=\"convertToInteractive('df-802c7c5c-b4b3-4da4-b432-d0377988bb2c')\"\n",
              "              title=\"Convert this dataframe to an interactive table.\"\n",
              "              style=\"display:none;\">\n",
              "        \n",
              "  <svg xmlns=\"http://www.w3.org/2000/svg\" height=\"24px\"viewBox=\"0 0 24 24\"\n",
              "       width=\"24px\">\n",
              "    <path d=\"M0 0h24v24H0V0z\" fill=\"none\"/>\n",
              "    <path d=\"M18.56 5.44l.94 2.06.94-2.06 2.06-.94-2.06-.94-.94-2.06-.94 2.06-2.06.94zm-11 1L8.5 8.5l.94-2.06 2.06-.94-2.06-.94L8.5 2.5l-.94 2.06-2.06.94zm10 10l.94 2.06.94-2.06 2.06-.94-2.06-.94-.94-2.06-.94 2.06-2.06.94z\"/><path d=\"M17.41 7.96l-1.37-1.37c-.4-.4-.92-.59-1.43-.59-.52 0-1.04.2-1.43.59L10.3 9.45l-7.72 7.72c-.78.78-.78 2.05 0 2.83L4 21.41c.39.39.9.59 1.41.59.51 0 1.02-.2 1.41-.59l7.78-7.78 2.81-2.81c.8-.78.8-2.07 0-2.86zM5.41 20L4 18.59l7.72-7.72 1.47 1.35L5.41 20z\"/>\n",
              "  </svg>\n",
              "      </button>\n",
              "      \n",
              "  <style>\n",
              "    .colab-df-container {\n",
              "      display:flex;\n",
              "      flex-wrap:wrap;\n",
              "      gap: 12px;\n",
              "    }\n",
              "\n",
              "    .colab-df-convert {\n",
              "      background-color: #E8F0FE;\n",
              "      border: none;\n",
              "      border-radius: 50%;\n",
              "      cursor: pointer;\n",
              "      display: none;\n",
              "      fill: #1967D2;\n",
              "      height: 32px;\n",
              "      padding: 0 0 0 0;\n",
              "      width: 32px;\n",
              "    }\n",
              "\n",
              "    .colab-df-convert:hover {\n",
              "      background-color: #E2EBFA;\n",
              "      box-shadow: 0px 1px 2px rgba(60, 64, 67, 0.3), 0px 1px 3px 1px rgba(60, 64, 67, 0.15);\n",
              "      fill: #174EA6;\n",
              "    }\n",
              "\n",
              "    [theme=dark] .colab-df-convert {\n",
              "      background-color: #3B4455;\n",
              "      fill: #D2E3FC;\n",
              "    }\n",
              "\n",
              "    [theme=dark] .colab-df-convert:hover {\n",
              "      background-color: #434B5C;\n",
              "      box-shadow: 0px 1px 3px 1px rgba(0, 0, 0, 0.15);\n",
              "      filter: drop-shadow(0px 1px 2px rgba(0, 0, 0, 0.3));\n",
              "      fill: #FFFFFF;\n",
              "    }\n",
              "  </style>\n",
              "\n",
              "      <script>\n",
              "        const buttonEl =\n",
              "          document.querySelector('#df-802c7c5c-b4b3-4da4-b432-d0377988bb2c button.colab-df-convert');\n",
              "        buttonEl.style.display =\n",
              "          google.colab.kernel.accessAllowed ? 'block' : 'none';\n",
              "\n",
              "        async function convertToInteractive(key) {\n",
              "          const element = document.querySelector('#df-802c7c5c-b4b3-4da4-b432-d0377988bb2c');\n",
              "          const dataTable =\n",
              "            await google.colab.kernel.invokeFunction('convertToInteractive',\n",
              "                                                     [key], {});\n",
              "          if (!dataTable) return;\n",
              "\n",
              "          const docLinkHtml = 'Like what you see? Visit the ' +\n",
              "            '<a target=\"_blank\" href=https://colab.research.google.com/notebooks/data_table.ipynb>data table notebook</a>'\n",
              "            + ' to learn more about interactive tables.';\n",
              "          element.innerHTML = '';\n",
              "          dataTable['output_type'] = 'display_data';\n",
              "          await google.colab.output.renderOutput(dataTable, element);\n",
              "          const docLink = document.createElement('div');\n",
              "          docLink.innerHTML = docLinkHtml;\n",
              "          element.appendChild(docLink);\n",
              "        }\n",
              "      </script>\n",
              "    </div>\n",
              "  </div>\n",
              "  "
            ]
          },
          "metadata": {},
          "execution_count": 4
        }
      ],
      "source": [
        "dff = pd.read_csv('/content/gdrive/My Drive/NBME/features.csv')\n",
        "dff.head(15)"
      ]
    },
    {
      "cell_type": "code",
      "execution_count": null,
      "metadata": {
        "colab": {
          "base_uri": "https://localhost:8080/"
        },
        "id": "OfNRmkKHKYbE",
        "outputId": "513610f3-b755-4090-86c5-76624d230dcd"
      },
      "outputs": [
        {
          "output_type": "execute_result",
          "data": {
            "text/plain": [
              "(0    Family history\n",
              " 1    Family history\n",
              " 2          Symptoms\n",
              " 3          Symptoms\n",
              " 4          Symptoms\n",
              " Name: Tag, dtype: object, 'Family history')"
            ]
          },
          "metadata": {},
          "execution_count": 5
        }
      ],
      "source": [
        "dff['Tag'].head(), dff['Tag'][0]"
      ]
    },
    {
      "cell_type": "code",
      "execution_count": null,
      "metadata": {
        "id": "Yty0bs_uKbHW"
      },
      "outputs": [],
      "source": [
        "dfn = pd.read_csv('/content/gdrive/My Drive/NBME/patient_notes.csv')"
      ]
    },
    {
      "cell_type": "code",
      "execution_count": null,
      "metadata": {
        "colab": {
          "base_uri": "https://localhost:8080/",
          "height": 109
        },
        "id": "plB6OwZcKn9V",
        "outputId": "7f389c03-78f8-4014-c721-ca0d821f6ab2"
      },
      "outputs": [
        {
          "output_type": "execute_result",
          "data": {
            "text/plain": [
              "\"17-year-old male, has come to the student health clinic complaining of heart pounding. Mr. Cleveland's mother has given verbal consent for a history, physical examination, and treatment\\r\\n-began 2-3 months ago,sudden,intermittent for 2 days(lasting 3-4 min),worsening,non-allev/aggrav\\r\\n-associated with dispnea on exersion and rest,stressed out about school\\r\\n-reports fe feels like his heart is jumping out of his chest\\r\\n-ros:denies chest pain,dyaphoresis,wt loss,chills,fever,nausea,vomiting,pedal edeam\\r\\n-pmh:non,meds :aderol (from a friend),nkda\\r\\n-fh:father had MI recently,mother has thyroid dz\\r\\n-sh:non-smoker,mariguana 5-6 months ago,3 beers on the weekend, basketball at school\\r\\n-sh:no std\""
            ],
            "application/vnd.google.colaboratory.intrinsic+json": {
              "type": "string"
            }
          },
          "metadata": {},
          "execution_count": 7
        }
      ],
      "source": [
        "dfn['pn_history'][0]"
      ]
    },
    {
      "cell_type": "code",
      "execution_count": null,
      "metadata": {
        "colab": {
          "base_uri": "https://localhost:8080/",
          "height": 363
        },
        "id": "Az2LTvezQDXV",
        "outputId": "130ce16c-e18a-46a0-db65-ad3160b9160f"
      },
      "outputs": [
        {
          "output_type": "execute_result",
          "data": {
            "text/plain": [
              "       pn_num  case_num                                         pn_history\n",
              "10000   35073         3  Patient is a 35 yo male with no PMH who presen...\n",
              "10001   35074         3  35 yo M with 2 months of epigastric pain. Pain...\n",
              "10002   35075         3  A 35-year-old male, has come to the physician'...\n",
              "10003   35076         3  HPI:\\r\\nMr. Hamilton is a 35yo male who presen...\n",
              "10004   35077         3  Mr Hamilton is a 35 yo M with no PMH who prese...\n",
              "10005   35078         3  A 35 YO M w/ history of long term motrin use f...\n",
              "10006   35079         3  Patient is a 35 year old man experiencing abdo...\n",
              "10007   35080         3  35 y/o m in office c/o epigastric pain, starte...\n",
              "10008   35081         3  35 yo smoker M presents with 2 months of worse...\n",
              "10009   35082         3  CC:\" stomach problem\"\\r\\n35 yo M c/o gradual o..."
            ],
            "text/html": [
              "\n",
              "  <div id=\"df-d94c2f6d-f6ef-4491-b3b9-45723dcf34b4\">\n",
              "    <div class=\"colab-df-container\">\n",
              "      <div>\n",
              "<style scoped>\n",
              "    .dataframe tbody tr th:only-of-type {\n",
              "        vertical-align: middle;\n",
              "    }\n",
              "\n",
              "    .dataframe tbody tr th {\n",
              "        vertical-align: top;\n",
              "    }\n",
              "\n",
              "    .dataframe thead th {\n",
              "        text-align: right;\n",
              "    }\n",
              "</style>\n",
              "<table border=\"1\" class=\"dataframe\">\n",
              "  <thead>\n",
              "    <tr style=\"text-align: right;\">\n",
              "      <th></th>\n",
              "      <th>pn_num</th>\n",
              "      <th>case_num</th>\n",
              "      <th>pn_history</th>\n",
              "    </tr>\n",
              "  </thead>\n",
              "  <tbody>\n",
              "    <tr>\n",
              "      <th>10000</th>\n",
              "      <td>35073</td>\n",
              "      <td>3</td>\n",
              "      <td>Patient is a 35 yo male with no PMH who presen...</td>\n",
              "    </tr>\n",
              "    <tr>\n",
              "      <th>10001</th>\n",
              "      <td>35074</td>\n",
              "      <td>3</td>\n",
              "      <td>35 yo M with 2 months of epigastric pain. Pain...</td>\n",
              "    </tr>\n",
              "    <tr>\n",
              "      <th>10002</th>\n",
              "      <td>35075</td>\n",
              "      <td>3</td>\n",
              "      <td>A 35-year-old male, has come to the physician'...</td>\n",
              "    </tr>\n",
              "    <tr>\n",
              "      <th>10003</th>\n",
              "      <td>35076</td>\n",
              "      <td>3</td>\n",
              "      <td>HPI:\\r\\nMr. Hamilton is a 35yo male who presen...</td>\n",
              "    </tr>\n",
              "    <tr>\n",
              "      <th>10004</th>\n",
              "      <td>35077</td>\n",
              "      <td>3</td>\n",
              "      <td>Mr Hamilton is a 35 yo M with no PMH who prese...</td>\n",
              "    </tr>\n",
              "    <tr>\n",
              "      <th>10005</th>\n",
              "      <td>35078</td>\n",
              "      <td>3</td>\n",
              "      <td>A 35 YO M w/ history of long term motrin use f...</td>\n",
              "    </tr>\n",
              "    <tr>\n",
              "      <th>10006</th>\n",
              "      <td>35079</td>\n",
              "      <td>3</td>\n",
              "      <td>Patient is a 35 year old man experiencing abdo...</td>\n",
              "    </tr>\n",
              "    <tr>\n",
              "      <th>10007</th>\n",
              "      <td>35080</td>\n",
              "      <td>3</td>\n",
              "      <td>35 y/o m in office c/o epigastric pain, starte...</td>\n",
              "    </tr>\n",
              "    <tr>\n",
              "      <th>10008</th>\n",
              "      <td>35081</td>\n",
              "      <td>3</td>\n",
              "      <td>35 yo smoker M presents with 2 months of worse...</td>\n",
              "    </tr>\n",
              "    <tr>\n",
              "      <th>10009</th>\n",
              "      <td>35082</td>\n",
              "      <td>3</td>\n",
              "      <td>CC:\" stomach problem\"\\r\\n35 yo M c/o gradual o...</td>\n",
              "    </tr>\n",
              "  </tbody>\n",
              "</table>\n",
              "</div>\n",
              "      <button class=\"colab-df-convert\" onclick=\"convertToInteractive('df-d94c2f6d-f6ef-4491-b3b9-45723dcf34b4')\"\n",
              "              title=\"Convert this dataframe to an interactive table.\"\n",
              "              style=\"display:none;\">\n",
              "        \n",
              "  <svg xmlns=\"http://www.w3.org/2000/svg\" height=\"24px\"viewBox=\"0 0 24 24\"\n",
              "       width=\"24px\">\n",
              "    <path d=\"M0 0h24v24H0V0z\" fill=\"none\"/>\n",
              "    <path d=\"M18.56 5.44l.94 2.06.94-2.06 2.06-.94-2.06-.94-.94-2.06-.94 2.06-2.06.94zm-11 1L8.5 8.5l.94-2.06 2.06-.94-2.06-.94L8.5 2.5l-.94 2.06-2.06.94zm10 10l.94 2.06.94-2.06 2.06-.94-2.06-.94-.94-2.06-.94 2.06-2.06.94z\"/><path d=\"M17.41 7.96l-1.37-1.37c-.4-.4-.92-.59-1.43-.59-.52 0-1.04.2-1.43.59L10.3 9.45l-7.72 7.72c-.78.78-.78 2.05 0 2.83L4 21.41c.39.39.9.59 1.41.59.51 0 1.02-.2 1.41-.59l7.78-7.78 2.81-2.81c.8-.78.8-2.07 0-2.86zM5.41 20L4 18.59l7.72-7.72 1.47 1.35L5.41 20z\"/>\n",
              "  </svg>\n",
              "      </button>\n",
              "      \n",
              "  <style>\n",
              "    .colab-df-container {\n",
              "      display:flex;\n",
              "      flex-wrap:wrap;\n",
              "      gap: 12px;\n",
              "    }\n",
              "\n",
              "    .colab-df-convert {\n",
              "      background-color: #E8F0FE;\n",
              "      border: none;\n",
              "      border-radius: 50%;\n",
              "      cursor: pointer;\n",
              "      display: none;\n",
              "      fill: #1967D2;\n",
              "      height: 32px;\n",
              "      padding: 0 0 0 0;\n",
              "      width: 32px;\n",
              "    }\n",
              "\n",
              "    .colab-df-convert:hover {\n",
              "      background-color: #E2EBFA;\n",
              "      box-shadow: 0px 1px 2px rgba(60, 64, 67, 0.3), 0px 1px 3px 1px rgba(60, 64, 67, 0.15);\n",
              "      fill: #174EA6;\n",
              "    }\n",
              "\n",
              "    [theme=dark] .colab-df-convert {\n",
              "      background-color: #3B4455;\n",
              "      fill: #D2E3FC;\n",
              "    }\n",
              "\n",
              "    [theme=dark] .colab-df-convert:hover {\n",
              "      background-color: #434B5C;\n",
              "      box-shadow: 0px 1px 3px 1px rgba(0, 0, 0, 0.15);\n",
              "      filter: drop-shadow(0px 1px 2px rgba(0, 0, 0, 0.3));\n",
              "      fill: #FFFFFF;\n",
              "    }\n",
              "  </style>\n",
              "\n",
              "      <script>\n",
              "        const buttonEl =\n",
              "          document.querySelector('#df-d94c2f6d-f6ef-4491-b3b9-45723dcf34b4 button.colab-df-convert');\n",
              "        buttonEl.style.display =\n",
              "          google.colab.kernel.accessAllowed ? 'block' : 'none';\n",
              "\n",
              "        async function convertToInteractive(key) {\n",
              "          const element = document.querySelector('#df-d94c2f6d-f6ef-4491-b3b9-45723dcf34b4');\n",
              "          const dataTable =\n",
              "            await google.colab.kernel.invokeFunction('convertToInteractive',\n",
              "                                                     [key], {});\n",
              "          if (!dataTable) return;\n",
              "\n",
              "          const docLinkHtml = 'Like what you see? Visit the ' +\n",
              "            '<a target=\"_blank\" href=https://colab.research.google.com/notebooks/data_table.ipynb>data table notebook</a>'\n",
              "            + ' to learn more about interactive tables.';\n",
              "          element.innerHTML = '';\n",
              "          dataTable['output_type'] = 'display_data';\n",
              "          await google.colab.output.renderOutput(dataTable, element);\n",
              "          const docLink = document.createElement('div');\n",
              "          docLink.innerHTML = docLinkHtml;\n",
              "          element.appendChild(docLink);\n",
              "        }\n",
              "      </script>\n",
              "    </div>\n",
              "  </div>\n",
              "  "
            ]
          },
          "metadata": {},
          "execution_count": 8
        }
      ],
      "source": [
        "dfn[10000:10010]"
      ]
    },
    {
      "cell_type": "code",
      "execution_count": null,
      "metadata": {
        "colab": {
          "base_uri": "https://localhost:8080/"
        },
        "id": "Xcf62XtRgsR9",
        "outputId": "fdb717c0-008c-410c-f1e0-88c7c37dae59"
      },
      "outputs": [
        {
          "output_type": "stream",
          "name": "stdout",
          "text": [
            "[nltk_data] Downloading package punkt to /root/nltk_data...\n",
            "[nltk_data]   Unzipping tokenizers/punkt.zip.\n"
          ]
        }
      ],
      "source": [
        "from nltk.tokenize import sent_tokenize, word_tokenize\n",
        "nl.download('punkt')\n",
        "from nltk import re"
      ]
    },
    {
      "cell_type": "code",
      "execution_count": null,
      "metadata": {
        "colab": {
          "base_uri": "https://localhost:8080/"
        },
        "id": "4HipxfjXoWsb",
        "outputId": "2d2cc0b9-b9e2-4036-8b03-5db4a7632ed4"
      },
      "outputs": [
        {
          "output_type": "stream",
          "name": "stdout",
          "text": [
            "['Hey', 'this is a good song', 'I like that song']\n"
          ]
        }
      ],
      "source": [
        "string1 = \"Hey, this is a good song; I like that song\"\n",
        "\n",
        "print(re.split('; |, |\\*|\\n', string1))"
      ]
    },
    {
      "cell_type": "code",
      "execution_count": null,
      "metadata": {
        "colab": {
          "base_uri": "https://localhost:8080/"
        },
        "id": "Srb6cdVJNQko",
        "outputId": "d50638fc-5925-4c75-fb65-537b1253bda5"
      },
      "outputs": [
        {
          "output_type": "stream",
          "name": "stdout",
          "text": [
            "chars 42  words 12\n"
          ]
        }
      ],
      "source": [
        "\n",
        "charCount = len(string1)\n",
        "wordCount = len(word_tokenize(string1))\n",
        "print(f\"chars {charCount}  words {wordCount}\")"
      ]
    },
    {
      "cell_type": "code",
      "execution_count": null,
      "metadata": {
        "colab": {
          "base_uri": "https://localhost:8080/"
        },
        "id": "cyQJXwRwdoJT",
        "outputId": "7b871bda-b78b-4509-9992-1e3699a92e89"
      },
      "outputs": [
        {
          "output_type": "stream",
          "name": "stdout",
          "text": [
            "Sentence is -- This is a test -- Length is 4  \n",
            "\n",
            "Sentence is --  Hello there -- Length is 2  \n",
            "\n",
            "Sentence is -- welcome -- Length is 1  \n",
            "\n",
            "Sentence is -- My name is Bala -- Length is 4  \n",
            "\n"
          ]
        }
      ],
      "source": [
        "myString = \"This is a test\\n Hello there; welcome. My name is Bala\"\n",
        "\n",
        "#sentences = myString.split('.')\n",
        "sentences = re.split('; |\\. |, |\\*|\\n', myString)\n",
        "myString, sentences\n",
        "for sentence in sentences:\n",
        "  wordCount = len(word_tokenize(sentence))\n",
        "  print(f\"Sentence is -- {sentence} -- Length is {wordCount}  \\n\")\n"
      ]
    },
    {
      "cell_type": "code",
      "execution_count": null,
      "metadata": {
        "colab": {
          "base_uri": "https://localhost:8080/"
        },
        "id": "Hs8IkQwaQIlA",
        "outputId": "dab69349-a135-4092-ac17-6030e9097780"
      },
      "outputs": [
        {
          "output_type": "execute_result",
          "data": {
            "text/plain": [
              "42146"
            ]
          },
          "metadata": {},
          "execution_count": 13
        }
      ],
      "source": [
        "dfn.shape[0]"
      ]
    },
    {
      "cell_type": "code",
      "execution_count": null,
      "metadata": {
        "colab": {
          "base_uri": "https://localhost:8080/"
        },
        "id": "PD_vBaUxKtsU",
        "outputId": "1dacbe8a-d073-4c72-d859-e5799e15e5f3"
      },
      "outputs": [
        {
          "output_type": "stream",
          "name": "stdout",
          "text": [
            "Number of notes - 42146\n",
            "Max length in words : 187\n"
          ]
        }
      ],
      "source": [
        "# Find the longest sentence\n",
        "\n",
        "#for mySentence in sent_tokenize(paragraph):\n",
        "\n",
        "num_notes = dfn.shape[0]\n",
        "print(f\"Number of notes - {num_notes}\")\n",
        "#num_notes = 1\n",
        "maxLength = 0\n",
        "\n",
        "for i in range(num_notes):\n",
        "  paragraph = dfn['pn_history'][i]\n",
        "  sentences = re.split('; |\\. |\\* |\\n', paragraph)\n",
        "  j=0\n",
        "  for mySentence in sentences:\n",
        "    # TODO: need to remove punctuation from calculation below\n",
        "    wordLength = len(word_tokenize(mySentence))\n",
        "    maxLength = max(maxLength,wordLength)\n",
        "    #print(f\"Sentence {j} - {mySentence}\")\n",
        "    #print(f\"   Length of para {i} sentence {j} : {wordLength}\")\n",
        "    j=j+1\n",
        "\n",
        "print(f\"Max length in words : {maxLength}\")"
      ]
    },
    {
      "cell_type": "code",
      "execution_count": null,
      "metadata": {
        "id": "6wDAgz3FaSIa",
        "colab": {
          "base_uri": "https://localhost:8080/"
        },
        "outputId": "de66b586-b5d6-4ffb-cc60-b245511da909"
      },
      "outputs": [
        {
          "output_type": "stream",
          "name": "stdout",
          "text": [
            "Word# 0 - -began\n",
            "Word# 1 - 2-3\n",
            "Word# 2 - months\n",
            "Word# 3 - ago\n",
            "Word# 4 - ,\n",
            "Word# 5 - sudden\n",
            "Word# 6 - ,\n",
            "Word# 7 - intermittent\n",
            "Word# 8 - for\n",
            "Word# 9 - 2\n",
            "Word# 10 - days\n",
            "Word# 11 - (\n",
            "Word# 12 - lasting\n",
            "Word# 13 - 3-4\n",
            "Word# 14 - min\n",
            "Word# 15 - )\n",
            "Word# 16 - ,\n",
            "Word# 17 - worsening\n",
            "Word# 18 - ,\n",
            "Word# 19 - non-allev/aggrav\n"
          ]
        }
      ],
      "source": [
        "testSentence = \"-began 2-3 months ago,sudden,intermittent for 2 days(lasting 3-4 min),worsening,non-allev/aggrav\"\n",
        "wordList = word_tokenize(testSentence)\n",
        "i=0\n",
        "for myWord in wordList:\n",
        "  print(f\"Word# {i} - {myWord}\")\n",
        "  i=i+1"
      ]
    },
    {
      "cell_type": "code",
      "execution_count": null,
      "metadata": {
        "id": "x3ifUjMHvuY2"
      },
      "outputs": [],
      "source": [
        "def defineCaseFeatureVar(mycase, myfeature):\n",
        "  return mycase + myfeature"
      ]
    },
    {
      "cell_type": "code",
      "execution_count": null,
      "metadata": {
        "id": "5f9oX6pnvu6E",
        "colab": {
          "base_uri": "https://localhost:8080/",
          "height": 206
        },
        "outputId": "6a06f881-d6d4-48d7-ed01-e4aa1e538e9d"
      },
      "outputs": [
        {
          "output_type": "execute_result",
          "data": {
            "text/plain": [
              "  feature_num case_num                                       feature_text  \\\n",
              "0           0        0  Family-history-of-MI-OR-Family-history-of-myoc...   \n",
              "1           1        0                 Family-history-of-thyroid-disorder   \n",
              "2           2        0                                     Chest-pressure   \n",
              "3           3        0                              Intermittent-symptoms   \n",
              "4           4        0                                        Lightheaded   \n",
              "\n",
              "   sex_variable Category  \n",
              "0             0       00  \n",
              "1             0       01  \n",
              "2             0       02  \n",
              "3             0       03  \n",
              "4             0       04  "
            ],
            "text/html": [
              "\n",
              "  <div id=\"df-1f091303-c813-45bd-b778-1dd93cff9bfc\">\n",
              "    <div class=\"colab-df-container\">\n",
              "      <div>\n",
              "<style scoped>\n",
              "    .dataframe tbody tr th:only-of-type {\n",
              "        vertical-align: middle;\n",
              "    }\n",
              "\n",
              "    .dataframe tbody tr th {\n",
              "        vertical-align: top;\n",
              "    }\n",
              "\n",
              "    .dataframe thead th {\n",
              "        text-align: right;\n",
              "    }\n",
              "</style>\n",
              "<table border=\"1\" class=\"dataframe\">\n",
              "  <thead>\n",
              "    <tr style=\"text-align: right;\">\n",
              "      <th></th>\n",
              "      <th>feature_num</th>\n",
              "      <th>case_num</th>\n",
              "      <th>feature_text</th>\n",
              "      <th>sex_variable</th>\n",
              "      <th>Category</th>\n",
              "    </tr>\n",
              "  </thead>\n",
              "  <tbody>\n",
              "    <tr>\n",
              "      <th>0</th>\n",
              "      <td>0</td>\n",
              "      <td>0</td>\n",
              "      <td>Family-history-of-MI-OR-Family-history-of-myoc...</td>\n",
              "      <td>0</td>\n",
              "      <td>00</td>\n",
              "    </tr>\n",
              "    <tr>\n",
              "      <th>1</th>\n",
              "      <td>1</td>\n",
              "      <td>0</td>\n",
              "      <td>Family-history-of-thyroid-disorder</td>\n",
              "      <td>0</td>\n",
              "      <td>01</td>\n",
              "    </tr>\n",
              "    <tr>\n",
              "      <th>2</th>\n",
              "      <td>2</td>\n",
              "      <td>0</td>\n",
              "      <td>Chest-pressure</td>\n",
              "      <td>0</td>\n",
              "      <td>02</td>\n",
              "    </tr>\n",
              "    <tr>\n",
              "      <th>3</th>\n",
              "      <td>3</td>\n",
              "      <td>0</td>\n",
              "      <td>Intermittent-symptoms</td>\n",
              "      <td>0</td>\n",
              "      <td>03</td>\n",
              "    </tr>\n",
              "    <tr>\n",
              "      <th>4</th>\n",
              "      <td>4</td>\n",
              "      <td>0</td>\n",
              "      <td>Lightheaded</td>\n",
              "      <td>0</td>\n",
              "      <td>04</td>\n",
              "    </tr>\n",
              "  </tbody>\n",
              "</table>\n",
              "</div>\n",
              "      <button class=\"colab-df-convert\" onclick=\"convertToInteractive('df-1f091303-c813-45bd-b778-1dd93cff9bfc')\"\n",
              "              title=\"Convert this dataframe to an interactive table.\"\n",
              "              style=\"display:none;\">\n",
              "        \n",
              "  <svg xmlns=\"http://www.w3.org/2000/svg\" height=\"24px\"viewBox=\"0 0 24 24\"\n",
              "       width=\"24px\">\n",
              "    <path d=\"M0 0h24v24H0V0z\" fill=\"none\"/>\n",
              "    <path d=\"M18.56 5.44l.94 2.06.94-2.06 2.06-.94-2.06-.94-.94-2.06-.94 2.06-2.06.94zm-11 1L8.5 8.5l.94-2.06 2.06-.94-2.06-.94L8.5 2.5l-.94 2.06-2.06.94zm10 10l.94 2.06.94-2.06 2.06-.94-2.06-.94-.94-2.06-.94 2.06-2.06.94z\"/><path d=\"M17.41 7.96l-1.37-1.37c-.4-.4-.92-.59-1.43-.59-.52 0-1.04.2-1.43.59L10.3 9.45l-7.72 7.72c-.78.78-.78 2.05 0 2.83L4 21.41c.39.39.9.59 1.41.59.51 0 1.02-.2 1.41-.59l7.78-7.78 2.81-2.81c.8-.78.8-2.07 0-2.86zM5.41 20L4 18.59l7.72-7.72 1.47 1.35L5.41 20z\"/>\n",
              "  </svg>\n",
              "      </button>\n",
              "      \n",
              "  <style>\n",
              "    .colab-df-container {\n",
              "      display:flex;\n",
              "      flex-wrap:wrap;\n",
              "      gap: 12px;\n",
              "    }\n",
              "\n",
              "    .colab-df-convert {\n",
              "      background-color: #E8F0FE;\n",
              "      border: none;\n",
              "      border-radius: 50%;\n",
              "      cursor: pointer;\n",
              "      display: none;\n",
              "      fill: #1967D2;\n",
              "      height: 32px;\n",
              "      padding: 0 0 0 0;\n",
              "      width: 32px;\n",
              "    }\n",
              "\n",
              "    .colab-df-convert:hover {\n",
              "      background-color: #E2EBFA;\n",
              "      box-shadow: 0px 1px 2px rgba(60, 64, 67, 0.3), 0px 1px 3px 1px rgba(60, 64, 67, 0.15);\n",
              "      fill: #174EA6;\n",
              "    }\n",
              "\n",
              "    [theme=dark] .colab-df-convert {\n",
              "      background-color: #3B4455;\n",
              "      fill: #D2E3FC;\n",
              "    }\n",
              "\n",
              "    [theme=dark] .colab-df-convert:hover {\n",
              "      background-color: #434B5C;\n",
              "      box-shadow: 0px 1px 3px 1px rgba(0, 0, 0, 0.15);\n",
              "      filter: drop-shadow(0px 1px 2px rgba(0, 0, 0, 0.3));\n",
              "      fill: #FFFFFF;\n",
              "    }\n",
              "  </style>\n",
              "\n",
              "      <script>\n",
              "        const buttonEl =\n",
              "          document.querySelector('#df-1f091303-c813-45bd-b778-1dd93cff9bfc button.colab-df-convert');\n",
              "        buttonEl.style.display =\n",
              "          google.colab.kernel.accessAllowed ? 'block' : 'none';\n",
              "\n",
              "        async function convertToInteractive(key) {\n",
              "          const element = document.querySelector('#df-1f091303-c813-45bd-b778-1dd93cff9bfc');\n",
              "          const dataTable =\n",
              "            await google.colab.kernel.invokeFunction('convertToInteractive',\n",
              "                                                     [key], {});\n",
              "          if (!dataTable) return;\n",
              "\n",
              "          const docLinkHtml = 'Like what you see? Visit the ' +\n",
              "            '<a target=\"_blank\" href=https://colab.research.google.com/notebooks/data_table.ipynb>data table notebook</a>'\n",
              "            + ' to learn more about interactive tables.';\n",
              "          element.innerHTML = '';\n",
              "          dataTable['output_type'] = 'display_data';\n",
              "          await google.colab.output.renderOutput(dataTable, element);\n",
              "          const docLink = document.createElement('div');\n",
              "          docLink.innerHTML = docLinkHtml;\n",
              "          element.appendChild(docLink);\n",
              "        }\n",
              "      </script>\n",
              "    </div>\n",
              "  </div>\n",
              "  "
            ]
          },
          "metadata": {},
          "execution_count": 126
        }
      ],
      "source": [
        "# Assign a category variable for every combination of feature number and case number in the file features.csv\n",
        "\n",
        "dff['case_num'] = dff['case_num'].apply(str)\n",
        "dff['feature_num'] = dff['feature_num'].apply(str)\n",
        "\n",
        "dff['Category']= dff.apply(lambda x: defineCaseFeatureVar(x['case_num'],x['feature_num'] ), axis=1)\n",
        "dff = dff.drop(dff.columns[3], axis=1)\n",
        "dff.head(5)"
      ]
    },
    {
      "cell_type": "code",
      "execution_count": null,
      "metadata": {
        "id": "qj6CZM65yKdH",
        "colab": {
          "base_uri": "https://localhost:8080/",
          "height": 206
        },
        "outputId": "62f85d23-1cb8-4dac-a275-f542218f2110"
      },
      "outputs": [
        {
          "output_type": "execute_result",
          "data": {
            "text/plain": [
              "          id  case_num  pn_num  feature_num  \\\n",
              "0  00016_000         0      16            0   \n",
              "1  00016_001         0      16            1   \n",
              "2  00016_002         0      16            2   \n",
              "3  00016_003         0      16            3   \n",
              "4  00016_004         0      16            4   \n",
              "\n",
              "                                 annotation              location  \n",
              "0          ['dad with recent heart attcak']           ['696 724']  \n",
              "1             ['mom with \"thyroid disease']           ['668 693']  \n",
              "2                        ['chest pressure']           ['203 217']  \n",
              "3      ['intermittent episodes', 'episode']  ['70 91', '176 183']  \n",
              "4  ['felt as if he were going to pass out']           ['222 258']  "
            ],
            "text/html": [
              "\n",
              "  <div id=\"df-3ca4eb94-7d18-47c7-a797-8e5493d78579\">\n",
              "    <div class=\"colab-df-container\">\n",
              "      <div>\n",
              "<style scoped>\n",
              "    .dataframe tbody tr th:only-of-type {\n",
              "        vertical-align: middle;\n",
              "    }\n",
              "\n",
              "    .dataframe tbody tr th {\n",
              "        vertical-align: top;\n",
              "    }\n",
              "\n",
              "    .dataframe thead th {\n",
              "        text-align: right;\n",
              "    }\n",
              "</style>\n",
              "<table border=\"1\" class=\"dataframe\">\n",
              "  <thead>\n",
              "    <tr style=\"text-align: right;\">\n",
              "      <th></th>\n",
              "      <th>id</th>\n",
              "      <th>case_num</th>\n",
              "      <th>pn_num</th>\n",
              "      <th>feature_num</th>\n",
              "      <th>annotation</th>\n",
              "      <th>location</th>\n",
              "    </tr>\n",
              "  </thead>\n",
              "  <tbody>\n",
              "    <tr>\n",
              "      <th>0</th>\n",
              "      <td>00016_000</td>\n",
              "      <td>0</td>\n",
              "      <td>16</td>\n",
              "      <td>0</td>\n",
              "      <td>['dad with recent heart attcak']</td>\n",
              "      <td>['696 724']</td>\n",
              "    </tr>\n",
              "    <tr>\n",
              "      <th>1</th>\n",
              "      <td>00016_001</td>\n",
              "      <td>0</td>\n",
              "      <td>16</td>\n",
              "      <td>1</td>\n",
              "      <td>['mom with \"thyroid disease']</td>\n",
              "      <td>['668 693']</td>\n",
              "    </tr>\n",
              "    <tr>\n",
              "      <th>2</th>\n",
              "      <td>00016_002</td>\n",
              "      <td>0</td>\n",
              "      <td>16</td>\n",
              "      <td>2</td>\n",
              "      <td>['chest pressure']</td>\n",
              "      <td>['203 217']</td>\n",
              "    </tr>\n",
              "    <tr>\n",
              "      <th>3</th>\n",
              "      <td>00016_003</td>\n",
              "      <td>0</td>\n",
              "      <td>16</td>\n",
              "      <td>3</td>\n",
              "      <td>['intermittent episodes', 'episode']</td>\n",
              "      <td>['70 91', '176 183']</td>\n",
              "    </tr>\n",
              "    <tr>\n",
              "      <th>4</th>\n",
              "      <td>00016_004</td>\n",
              "      <td>0</td>\n",
              "      <td>16</td>\n",
              "      <td>4</td>\n",
              "      <td>['felt as if he were going to pass out']</td>\n",
              "      <td>['222 258']</td>\n",
              "    </tr>\n",
              "  </tbody>\n",
              "</table>\n",
              "</div>\n",
              "      <button class=\"colab-df-convert\" onclick=\"convertToInteractive('df-3ca4eb94-7d18-47c7-a797-8e5493d78579')\"\n",
              "              title=\"Convert this dataframe to an interactive table.\"\n",
              "              style=\"display:none;\">\n",
              "        \n",
              "  <svg xmlns=\"http://www.w3.org/2000/svg\" height=\"24px\"viewBox=\"0 0 24 24\"\n",
              "       width=\"24px\">\n",
              "    <path d=\"M0 0h24v24H0V0z\" fill=\"none\"/>\n",
              "    <path d=\"M18.56 5.44l.94 2.06.94-2.06 2.06-.94-2.06-.94-.94-2.06-.94 2.06-2.06.94zm-11 1L8.5 8.5l.94-2.06 2.06-.94-2.06-.94L8.5 2.5l-.94 2.06-2.06.94zm10 10l.94 2.06.94-2.06 2.06-.94-2.06-.94-.94-2.06-.94 2.06-2.06.94z\"/><path d=\"M17.41 7.96l-1.37-1.37c-.4-.4-.92-.59-1.43-.59-.52 0-1.04.2-1.43.59L10.3 9.45l-7.72 7.72c-.78.78-.78 2.05 0 2.83L4 21.41c.39.39.9.59 1.41.59.51 0 1.02-.2 1.41-.59l7.78-7.78 2.81-2.81c.8-.78.8-2.07 0-2.86zM5.41 20L4 18.59l7.72-7.72 1.47 1.35L5.41 20z\"/>\n",
              "  </svg>\n",
              "      </button>\n",
              "      \n",
              "  <style>\n",
              "    .colab-df-container {\n",
              "      display:flex;\n",
              "      flex-wrap:wrap;\n",
              "      gap: 12px;\n",
              "    }\n",
              "\n",
              "    .colab-df-convert {\n",
              "      background-color: #E8F0FE;\n",
              "      border: none;\n",
              "      border-radius: 50%;\n",
              "      cursor: pointer;\n",
              "      display: none;\n",
              "      fill: #1967D2;\n",
              "      height: 32px;\n",
              "      padding: 0 0 0 0;\n",
              "      width: 32px;\n",
              "    }\n",
              "\n",
              "    .colab-df-convert:hover {\n",
              "      background-color: #E2EBFA;\n",
              "      box-shadow: 0px 1px 2px rgba(60, 64, 67, 0.3), 0px 1px 3px 1px rgba(60, 64, 67, 0.15);\n",
              "      fill: #174EA6;\n",
              "    }\n",
              "\n",
              "    [theme=dark] .colab-df-convert {\n",
              "      background-color: #3B4455;\n",
              "      fill: #D2E3FC;\n",
              "    }\n",
              "\n",
              "    [theme=dark] .colab-df-convert:hover {\n",
              "      background-color: #434B5C;\n",
              "      box-shadow: 0px 1px 3px 1px rgba(0, 0, 0, 0.15);\n",
              "      filter: drop-shadow(0px 1px 2px rgba(0, 0, 0, 0.3));\n",
              "      fill: #FFFFFF;\n",
              "    }\n",
              "  </style>\n",
              "\n",
              "      <script>\n",
              "        const buttonEl =\n",
              "          document.querySelector('#df-3ca4eb94-7d18-47c7-a797-8e5493d78579 button.colab-df-convert');\n",
              "        buttonEl.style.display =\n",
              "          google.colab.kernel.accessAllowed ? 'block' : 'none';\n",
              "\n",
              "        async function convertToInteractive(key) {\n",
              "          const element = document.querySelector('#df-3ca4eb94-7d18-47c7-a797-8e5493d78579');\n",
              "          const dataTable =\n",
              "            await google.colab.kernel.invokeFunction('convertToInteractive',\n",
              "                                                     [key], {});\n",
              "          if (!dataTable) return;\n",
              "\n",
              "          const docLinkHtml = 'Like what you see? Visit the ' +\n",
              "            '<a target=\"_blank\" href=https://colab.research.google.com/notebooks/data_table.ipynb>data table notebook</a>'\n",
              "            + ' to learn more about interactive tables.';\n",
              "          element.innerHTML = '';\n",
              "          dataTable['output_type'] = 'display_data';\n",
              "          await google.colab.output.renderOutput(dataTable, element);\n",
              "          const docLink = document.createElement('div');\n",
              "          docLink.innerHTML = docLinkHtml;\n",
              "          element.appendChild(docLink);\n",
              "        }\n",
              "      </script>\n",
              "    </div>\n",
              "  </div>\n",
              "  "
            ]
          },
          "metadata": {},
          "execution_count": 18
        }
      ],
      "source": [
        "df = pd.read_csv('/content/gdrive/My Drive/NBME/train.csv')\n",
        "df.head(5)"
      ]
    },
    {
      "cell_type": "code",
      "execution_count": null,
      "metadata": {
        "id": "Q9DwybCuyKsq",
        "colab": {
          "base_uri": "https://localhost:8080/",
          "height": 520
        },
        "outputId": "eea314eb-4e1e-4f20-ffc5-835d17fe5902"
      },
      "outputs": [
        {
          "output_type": "execute_result",
          "data": {
            "text/plain": [
              "           id case_num  pn_num feature_num  \\\n",
              "0   00016_000        0      16           0   \n",
              "1   00016_001        0      16           1   \n",
              "2   00016_002        0      16           2   \n",
              "3   00016_003        0      16           3   \n",
              "4   00016_004        0      16           4   \n",
              "5   00016_005        0      16           5   \n",
              "6   00016_006        0      16           6   \n",
              "7   00016_007        0      16           7   \n",
              "8   00016_008        0      16           8   \n",
              "9   00016_009        0      16           9   \n",
              "10  00016_010        0      16          10   \n",
              "11  00016_011        0      16          11   \n",
              "12  00016_012        0      16          12   \n",
              "13  00041_000        0      41           0   \n",
              "14  00041_001        0      41           1   \n",
              "\n",
              "                                    annotation  \\\n",
              "0             ['dad with recent heart attcak']   \n",
              "1                ['mom with \"thyroid disease']   \n",
              "2                           ['chest pressure']   \n",
              "3         ['intermittent episodes', 'episode']   \n",
              "4     ['felt as if he were going to pass out']   \n",
              "5                                           []   \n",
              "6       ['adderall', 'adderrall', 'adderrall']   \n",
              "7                                           []   \n",
              "8                                           []   \n",
              "9   ['palpitations', 'heart beating/pounding']   \n",
              "10                           ['3-4 months of']   \n",
              "11                                    ['17yo']   \n",
              "12                                       ['M']   \n",
              "13                                          []   \n",
              "14                ['MOM HAS THYROID PROBLEMS']   \n",
              "\n",
              "                             location Category  \n",
              "0                         ['696 724']       00  \n",
              "1                         ['668 693']       01  \n",
              "2                         ['203 217']       02  \n",
              "3                ['70 91', '176 183']       03  \n",
              "4                         ['222 258']       04  \n",
              "5                                  []       05  \n",
              "6   ['321 329', '404 413', '652 661']       06  \n",
              "7                                  []       07  \n",
              "8                                  []       08  \n",
              "9                 ['26 38', '96 118']       09  \n",
              "10                          ['56 69']      010  \n",
              "11                            ['5 9']      011  \n",
              "12                          ['10 11']      012  \n",
              "13                                 []       00  \n",
              "14                        ['532 556']       01  "
            ],
            "text/html": [
              "\n",
              "  <div id=\"df-73f98ed9-8036-4c89-961c-78195f11b4d3\">\n",
              "    <div class=\"colab-df-container\">\n",
              "      <div>\n",
              "<style scoped>\n",
              "    .dataframe tbody tr th:only-of-type {\n",
              "        vertical-align: middle;\n",
              "    }\n",
              "\n",
              "    .dataframe tbody tr th {\n",
              "        vertical-align: top;\n",
              "    }\n",
              "\n",
              "    .dataframe thead th {\n",
              "        text-align: right;\n",
              "    }\n",
              "</style>\n",
              "<table border=\"1\" class=\"dataframe\">\n",
              "  <thead>\n",
              "    <tr style=\"text-align: right;\">\n",
              "      <th></th>\n",
              "      <th>id</th>\n",
              "      <th>case_num</th>\n",
              "      <th>pn_num</th>\n",
              "      <th>feature_num</th>\n",
              "      <th>annotation</th>\n",
              "      <th>location</th>\n",
              "      <th>Category</th>\n",
              "    </tr>\n",
              "  </thead>\n",
              "  <tbody>\n",
              "    <tr>\n",
              "      <th>0</th>\n",
              "      <td>00016_000</td>\n",
              "      <td>0</td>\n",
              "      <td>16</td>\n",
              "      <td>0</td>\n",
              "      <td>['dad with recent heart attcak']</td>\n",
              "      <td>['696 724']</td>\n",
              "      <td>00</td>\n",
              "    </tr>\n",
              "    <tr>\n",
              "      <th>1</th>\n",
              "      <td>00016_001</td>\n",
              "      <td>0</td>\n",
              "      <td>16</td>\n",
              "      <td>1</td>\n",
              "      <td>['mom with \"thyroid disease']</td>\n",
              "      <td>['668 693']</td>\n",
              "      <td>01</td>\n",
              "    </tr>\n",
              "    <tr>\n",
              "      <th>2</th>\n",
              "      <td>00016_002</td>\n",
              "      <td>0</td>\n",
              "      <td>16</td>\n",
              "      <td>2</td>\n",
              "      <td>['chest pressure']</td>\n",
              "      <td>['203 217']</td>\n",
              "      <td>02</td>\n",
              "    </tr>\n",
              "    <tr>\n",
              "      <th>3</th>\n",
              "      <td>00016_003</td>\n",
              "      <td>0</td>\n",
              "      <td>16</td>\n",
              "      <td>3</td>\n",
              "      <td>['intermittent episodes', 'episode']</td>\n",
              "      <td>['70 91', '176 183']</td>\n",
              "      <td>03</td>\n",
              "    </tr>\n",
              "    <tr>\n",
              "      <th>4</th>\n",
              "      <td>00016_004</td>\n",
              "      <td>0</td>\n",
              "      <td>16</td>\n",
              "      <td>4</td>\n",
              "      <td>['felt as if he were going to pass out']</td>\n",
              "      <td>['222 258']</td>\n",
              "      <td>04</td>\n",
              "    </tr>\n",
              "    <tr>\n",
              "      <th>5</th>\n",
              "      <td>00016_005</td>\n",
              "      <td>0</td>\n",
              "      <td>16</td>\n",
              "      <td>5</td>\n",
              "      <td>[]</td>\n",
              "      <td>[]</td>\n",
              "      <td>05</td>\n",
              "    </tr>\n",
              "    <tr>\n",
              "      <th>6</th>\n",
              "      <td>00016_006</td>\n",
              "      <td>0</td>\n",
              "      <td>16</td>\n",
              "      <td>6</td>\n",
              "      <td>['adderall', 'adderrall', 'adderrall']</td>\n",
              "      <td>['321 329', '404 413', '652 661']</td>\n",
              "      <td>06</td>\n",
              "    </tr>\n",
              "    <tr>\n",
              "      <th>7</th>\n",
              "      <td>00016_007</td>\n",
              "      <td>0</td>\n",
              "      <td>16</td>\n",
              "      <td>7</td>\n",
              "      <td>[]</td>\n",
              "      <td>[]</td>\n",
              "      <td>07</td>\n",
              "    </tr>\n",
              "    <tr>\n",
              "      <th>8</th>\n",
              "      <td>00016_008</td>\n",
              "      <td>0</td>\n",
              "      <td>16</td>\n",
              "      <td>8</td>\n",
              "      <td>[]</td>\n",
              "      <td>[]</td>\n",
              "      <td>08</td>\n",
              "    </tr>\n",
              "    <tr>\n",
              "      <th>9</th>\n",
              "      <td>00016_009</td>\n",
              "      <td>0</td>\n",
              "      <td>16</td>\n",
              "      <td>9</td>\n",
              "      <td>['palpitations', 'heart beating/pounding']</td>\n",
              "      <td>['26 38', '96 118']</td>\n",
              "      <td>09</td>\n",
              "    </tr>\n",
              "    <tr>\n",
              "      <th>10</th>\n",
              "      <td>00016_010</td>\n",
              "      <td>0</td>\n",
              "      <td>16</td>\n",
              "      <td>10</td>\n",
              "      <td>['3-4 months of']</td>\n",
              "      <td>['56 69']</td>\n",
              "      <td>010</td>\n",
              "    </tr>\n",
              "    <tr>\n",
              "      <th>11</th>\n",
              "      <td>00016_011</td>\n",
              "      <td>0</td>\n",
              "      <td>16</td>\n",
              "      <td>11</td>\n",
              "      <td>['17yo']</td>\n",
              "      <td>['5 9']</td>\n",
              "      <td>011</td>\n",
              "    </tr>\n",
              "    <tr>\n",
              "      <th>12</th>\n",
              "      <td>00016_012</td>\n",
              "      <td>0</td>\n",
              "      <td>16</td>\n",
              "      <td>12</td>\n",
              "      <td>['M']</td>\n",
              "      <td>['10 11']</td>\n",
              "      <td>012</td>\n",
              "    </tr>\n",
              "    <tr>\n",
              "      <th>13</th>\n",
              "      <td>00041_000</td>\n",
              "      <td>0</td>\n",
              "      <td>41</td>\n",
              "      <td>0</td>\n",
              "      <td>[]</td>\n",
              "      <td>[]</td>\n",
              "      <td>00</td>\n",
              "    </tr>\n",
              "    <tr>\n",
              "      <th>14</th>\n",
              "      <td>00041_001</td>\n",
              "      <td>0</td>\n",
              "      <td>41</td>\n",
              "      <td>1</td>\n",
              "      <td>['MOM HAS THYROID PROBLEMS']</td>\n",
              "      <td>['532 556']</td>\n",
              "      <td>01</td>\n",
              "    </tr>\n",
              "  </tbody>\n",
              "</table>\n",
              "</div>\n",
              "      <button class=\"colab-df-convert\" onclick=\"convertToInteractive('df-73f98ed9-8036-4c89-961c-78195f11b4d3')\"\n",
              "              title=\"Convert this dataframe to an interactive table.\"\n",
              "              style=\"display:none;\">\n",
              "        \n",
              "  <svg xmlns=\"http://www.w3.org/2000/svg\" height=\"24px\"viewBox=\"0 0 24 24\"\n",
              "       width=\"24px\">\n",
              "    <path d=\"M0 0h24v24H0V0z\" fill=\"none\"/>\n",
              "    <path d=\"M18.56 5.44l.94 2.06.94-2.06 2.06-.94-2.06-.94-.94-2.06-.94 2.06-2.06.94zm-11 1L8.5 8.5l.94-2.06 2.06-.94-2.06-.94L8.5 2.5l-.94 2.06-2.06.94zm10 10l.94 2.06.94-2.06 2.06-.94-2.06-.94-.94-2.06-.94 2.06-2.06.94z\"/><path d=\"M17.41 7.96l-1.37-1.37c-.4-.4-.92-.59-1.43-.59-.52 0-1.04.2-1.43.59L10.3 9.45l-7.72 7.72c-.78.78-.78 2.05 0 2.83L4 21.41c.39.39.9.59 1.41.59.51 0 1.02-.2 1.41-.59l7.78-7.78 2.81-2.81c.8-.78.8-2.07 0-2.86zM5.41 20L4 18.59l7.72-7.72 1.47 1.35L5.41 20z\"/>\n",
              "  </svg>\n",
              "      </button>\n",
              "      \n",
              "  <style>\n",
              "    .colab-df-container {\n",
              "      display:flex;\n",
              "      flex-wrap:wrap;\n",
              "      gap: 12px;\n",
              "    }\n",
              "\n",
              "    .colab-df-convert {\n",
              "      background-color: #E8F0FE;\n",
              "      border: none;\n",
              "      border-radius: 50%;\n",
              "      cursor: pointer;\n",
              "      display: none;\n",
              "      fill: #1967D2;\n",
              "      height: 32px;\n",
              "      padding: 0 0 0 0;\n",
              "      width: 32px;\n",
              "    }\n",
              "\n",
              "    .colab-df-convert:hover {\n",
              "      background-color: #E2EBFA;\n",
              "      box-shadow: 0px 1px 2px rgba(60, 64, 67, 0.3), 0px 1px 3px 1px rgba(60, 64, 67, 0.15);\n",
              "      fill: #174EA6;\n",
              "    }\n",
              "\n",
              "    [theme=dark] .colab-df-convert {\n",
              "      background-color: #3B4455;\n",
              "      fill: #D2E3FC;\n",
              "    }\n",
              "\n",
              "    [theme=dark] .colab-df-convert:hover {\n",
              "      background-color: #434B5C;\n",
              "      box-shadow: 0px 1px 3px 1px rgba(0, 0, 0, 0.15);\n",
              "      filter: drop-shadow(0px 1px 2px rgba(0, 0, 0, 0.3));\n",
              "      fill: #FFFFFF;\n",
              "    }\n",
              "  </style>\n",
              "\n",
              "      <script>\n",
              "        const buttonEl =\n",
              "          document.querySelector('#df-73f98ed9-8036-4c89-961c-78195f11b4d3 button.colab-df-convert');\n",
              "        buttonEl.style.display =\n",
              "          google.colab.kernel.accessAllowed ? 'block' : 'none';\n",
              "\n",
              "        async function convertToInteractive(key) {\n",
              "          const element = document.querySelector('#df-73f98ed9-8036-4c89-961c-78195f11b4d3');\n",
              "          const dataTable =\n",
              "            await google.colab.kernel.invokeFunction('convertToInteractive',\n",
              "                                                     [key], {});\n",
              "          if (!dataTable) return;\n",
              "\n",
              "          const docLinkHtml = 'Like what you see? Visit the ' +\n",
              "            '<a target=\"_blank\" href=https://colab.research.google.com/notebooks/data_table.ipynb>data table notebook</a>'\n",
              "            + ' to learn more about interactive tables.';\n",
              "          element.innerHTML = '';\n",
              "          dataTable['output_type'] = 'display_data';\n",
              "          await google.colab.output.renderOutput(dataTable, element);\n",
              "          const docLink = document.createElement('div');\n",
              "          docLink.innerHTML = docLinkHtml;\n",
              "          element.appendChild(docLink);\n",
              "        }\n",
              "      </script>\n",
              "    </div>\n",
              "  </div>\n",
              "  "
            ]
          },
          "metadata": {},
          "execution_count": 19
        }
      ],
      "source": [
        "# Determine the categorical variable for each row in the file train.csv; Use a lambda function\n",
        "df['case_num'] = df['case_num'].apply(str)\n",
        "df['feature_num'] = df['feature_num'].apply(str)\n",
        "\n",
        "df['Category']= df.apply(lambda x: defineCaseFeatureVar(x['case_num'],x['feature_num'] ), axis=1)\n",
        "df.head(15) "
      ]
    },
    {
      "cell_type": "code",
      "execution_count": null,
      "metadata": {
        "id": "bdj7XNTOyydh"
      },
      "outputs": [],
      "source": [
        "# function to get patient notes\n",
        "def getPatientNotes(pn):\n",
        "  if (pn< num_notes):\n",
        "    return dfn['pn_history'][pn]\n",
        "  else:\n",
        "    return ''"
      ]
    },
    {
      "cell_type": "code",
      "execution_count": null,
      "metadata": {
        "id": "gDFFWl3fyysP",
        "colab": {
          "base_uri": "https://localhost:8080/",
          "height": 424
        },
        "outputId": "b04146aa-aa26-4886-acbf-60986e2552a5"
      },
      "outputs": [
        {
          "output_type": "execute_result",
          "data": {
            "text/plain": [
              "              id case_num  pn_num feature_num  \\\n",
              "0      00016_000        0      16           0   \n",
              "1      00016_001        0      16           1   \n",
              "2      00016_002        0      16           2   \n",
              "3      00016_003        0      16           3   \n",
              "4      00016_004        0      16           4   \n",
              "...          ...      ...     ...         ...   \n",
              "14290  95333_907        9   95333         907   \n",
              "14291  95333_908        9   95333         908   \n",
              "14292  95333_909        9   95333         909   \n",
              "14293  95333_910        9   95333         910   \n",
              "14294  95333_911        9   95333         911   \n",
              "\n",
              "                                     annotation              location  \\\n",
              "0              ['dad with recent heart attcak']           ['696 724']   \n",
              "1                 ['mom with \"thyroid disease']           ['668 693']   \n",
              "2                            ['chest pressure']           ['203 217']   \n",
              "3          ['intermittent episodes', 'episode']  ['70 91', '176 183']   \n",
              "4      ['felt as if he were going to pass out']           ['222 258']   \n",
              "...                                         ...                   ...   \n",
              "14290                                        []                    []   \n",
              "14291                                ['Nausea']           ['354 360']   \n",
              "14292                                        []                    []   \n",
              "14293                    ['lives with roomate']           ['576 594']   \n",
              "14294                                        []                    []   \n",
              "\n",
              "      Category                                      patient_notes  \n",
              "0           00  HPI: 17yo M presents with palpitations. Patien...  \n",
              "1           01  HPI: 17yo M presents with palpitations. Patien...  \n",
              "2           02  HPI: 17yo M presents with palpitations. Patien...  \n",
              "3           03  HPI: 17yo M presents with palpitations. Patien...  \n",
              "4           04  HPI: 17yo M presents with palpitations. Patien...  \n",
              "...        ...                                                ...  \n",
              "14290     9907                                                     \n",
              "14291     9908                                                     \n",
              "14292     9909                                                     \n",
              "14293     9910                                                     \n",
              "14294     9911                                                     \n",
              "\n",
              "[14295 rows x 8 columns]"
            ],
            "text/html": [
              "\n",
              "  <div id=\"df-195156f1-3da8-47e8-a3d1-f680a202df60\">\n",
              "    <div class=\"colab-df-container\">\n",
              "      <div>\n",
              "<style scoped>\n",
              "    .dataframe tbody tr th:only-of-type {\n",
              "        vertical-align: middle;\n",
              "    }\n",
              "\n",
              "    .dataframe tbody tr th {\n",
              "        vertical-align: top;\n",
              "    }\n",
              "\n",
              "    .dataframe thead th {\n",
              "        text-align: right;\n",
              "    }\n",
              "</style>\n",
              "<table border=\"1\" class=\"dataframe\">\n",
              "  <thead>\n",
              "    <tr style=\"text-align: right;\">\n",
              "      <th></th>\n",
              "      <th>id</th>\n",
              "      <th>case_num</th>\n",
              "      <th>pn_num</th>\n",
              "      <th>feature_num</th>\n",
              "      <th>annotation</th>\n",
              "      <th>location</th>\n",
              "      <th>Category</th>\n",
              "      <th>patient_notes</th>\n",
              "    </tr>\n",
              "  </thead>\n",
              "  <tbody>\n",
              "    <tr>\n",
              "      <th>0</th>\n",
              "      <td>00016_000</td>\n",
              "      <td>0</td>\n",
              "      <td>16</td>\n",
              "      <td>0</td>\n",
              "      <td>['dad with recent heart attcak']</td>\n",
              "      <td>['696 724']</td>\n",
              "      <td>00</td>\n",
              "      <td>HPI: 17yo M presents with palpitations. Patien...</td>\n",
              "    </tr>\n",
              "    <tr>\n",
              "      <th>1</th>\n",
              "      <td>00016_001</td>\n",
              "      <td>0</td>\n",
              "      <td>16</td>\n",
              "      <td>1</td>\n",
              "      <td>['mom with \"thyroid disease']</td>\n",
              "      <td>['668 693']</td>\n",
              "      <td>01</td>\n",
              "      <td>HPI: 17yo M presents with palpitations. Patien...</td>\n",
              "    </tr>\n",
              "    <tr>\n",
              "      <th>2</th>\n",
              "      <td>00016_002</td>\n",
              "      <td>0</td>\n",
              "      <td>16</td>\n",
              "      <td>2</td>\n",
              "      <td>['chest pressure']</td>\n",
              "      <td>['203 217']</td>\n",
              "      <td>02</td>\n",
              "      <td>HPI: 17yo M presents with palpitations. Patien...</td>\n",
              "    </tr>\n",
              "    <tr>\n",
              "      <th>3</th>\n",
              "      <td>00016_003</td>\n",
              "      <td>0</td>\n",
              "      <td>16</td>\n",
              "      <td>3</td>\n",
              "      <td>['intermittent episodes', 'episode']</td>\n",
              "      <td>['70 91', '176 183']</td>\n",
              "      <td>03</td>\n",
              "      <td>HPI: 17yo M presents with palpitations. Patien...</td>\n",
              "    </tr>\n",
              "    <tr>\n",
              "      <th>4</th>\n",
              "      <td>00016_004</td>\n",
              "      <td>0</td>\n",
              "      <td>16</td>\n",
              "      <td>4</td>\n",
              "      <td>['felt as if he were going to pass out']</td>\n",
              "      <td>['222 258']</td>\n",
              "      <td>04</td>\n",
              "      <td>HPI: 17yo M presents with palpitations. Patien...</td>\n",
              "    </tr>\n",
              "    <tr>\n",
              "      <th>...</th>\n",
              "      <td>...</td>\n",
              "      <td>...</td>\n",
              "      <td>...</td>\n",
              "      <td>...</td>\n",
              "      <td>...</td>\n",
              "      <td>...</td>\n",
              "      <td>...</td>\n",
              "      <td>...</td>\n",
              "    </tr>\n",
              "    <tr>\n",
              "      <th>14290</th>\n",
              "      <td>95333_907</td>\n",
              "      <td>9</td>\n",
              "      <td>95333</td>\n",
              "      <td>907</td>\n",
              "      <td>[]</td>\n",
              "      <td>[]</td>\n",
              "      <td>9907</td>\n",
              "      <td></td>\n",
              "    </tr>\n",
              "    <tr>\n",
              "      <th>14291</th>\n",
              "      <td>95333_908</td>\n",
              "      <td>9</td>\n",
              "      <td>95333</td>\n",
              "      <td>908</td>\n",
              "      <td>['Nausea']</td>\n",
              "      <td>['354 360']</td>\n",
              "      <td>9908</td>\n",
              "      <td></td>\n",
              "    </tr>\n",
              "    <tr>\n",
              "      <th>14292</th>\n",
              "      <td>95333_909</td>\n",
              "      <td>9</td>\n",
              "      <td>95333</td>\n",
              "      <td>909</td>\n",
              "      <td>[]</td>\n",
              "      <td>[]</td>\n",
              "      <td>9909</td>\n",
              "      <td></td>\n",
              "    </tr>\n",
              "    <tr>\n",
              "      <th>14293</th>\n",
              "      <td>95333_910</td>\n",
              "      <td>9</td>\n",
              "      <td>95333</td>\n",
              "      <td>910</td>\n",
              "      <td>['lives with roomate']</td>\n",
              "      <td>['576 594']</td>\n",
              "      <td>9910</td>\n",
              "      <td></td>\n",
              "    </tr>\n",
              "    <tr>\n",
              "      <th>14294</th>\n",
              "      <td>95333_911</td>\n",
              "      <td>9</td>\n",
              "      <td>95333</td>\n",
              "      <td>911</td>\n",
              "      <td>[]</td>\n",
              "      <td>[]</td>\n",
              "      <td>9911</td>\n",
              "      <td></td>\n",
              "    </tr>\n",
              "  </tbody>\n",
              "</table>\n",
              "<p>14295 rows × 8 columns</p>\n",
              "</div>\n",
              "      <button class=\"colab-df-convert\" onclick=\"convertToInteractive('df-195156f1-3da8-47e8-a3d1-f680a202df60')\"\n",
              "              title=\"Convert this dataframe to an interactive table.\"\n",
              "              style=\"display:none;\">\n",
              "        \n",
              "  <svg xmlns=\"http://www.w3.org/2000/svg\" height=\"24px\"viewBox=\"0 0 24 24\"\n",
              "       width=\"24px\">\n",
              "    <path d=\"M0 0h24v24H0V0z\" fill=\"none\"/>\n",
              "    <path d=\"M18.56 5.44l.94 2.06.94-2.06 2.06-.94-2.06-.94-.94-2.06-.94 2.06-2.06.94zm-11 1L8.5 8.5l.94-2.06 2.06-.94-2.06-.94L8.5 2.5l-.94 2.06-2.06.94zm10 10l.94 2.06.94-2.06 2.06-.94-2.06-.94-.94-2.06-.94 2.06-2.06.94z\"/><path d=\"M17.41 7.96l-1.37-1.37c-.4-.4-.92-.59-1.43-.59-.52 0-1.04.2-1.43.59L10.3 9.45l-7.72 7.72c-.78.78-.78 2.05 0 2.83L4 21.41c.39.39.9.59 1.41.59.51 0 1.02-.2 1.41-.59l7.78-7.78 2.81-2.81c.8-.78.8-2.07 0-2.86zM5.41 20L4 18.59l7.72-7.72 1.47 1.35L5.41 20z\"/>\n",
              "  </svg>\n",
              "      </button>\n",
              "      \n",
              "  <style>\n",
              "    .colab-df-container {\n",
              "      display:flex;\n",
              "      flex-wrap:wrap;\n",
              "      gap: 12px;\n",
              "    }\n",
              "\n",
              "    .colab-df-convert {\n",
              "      background-color: #E8F0FE;\n",
              "      border: none;\n",
              "      border-radius: 50%;\n",
              "      cursor: pointer;\n",
              "      display: none;\n",
              "      fill: #1967D2;\n",
              "      height: 32px;\n",
              "      padding: 0 0 0 0;\n",
              "      width: 32px;\n",
              "    }\n",
              "\n",
              "    .colab-df-convert:hover {\n",
              "      background-color: #E2EBFA;\n",
              "      box-shadow: 0px 1px 2px rgba(60, 64, 67, 0.3), 0px 1px 3px 1px rgba(60, 64, 67, 0.15);\n",
              "      fill: #174EA6;\n",
              "    }\n",
              "\n",
              "    [theme=dark] .colab-df-convert {\n",
              "      background-color: #3B4455;\n",
              "      fill: #D2E3FC;\n",
              "    }\n",
              "\n",
              "    [theme=dark] .colab-df-convert:hover {\n",
              "      background-color: #434B5C;\n",
              "      box-shadow: 0px 1px 3px 1px rgba(0, 0, 0, 0.15);\n",
              "      filter: drop-shadow(0px 1px 2px rgba(0, 0, 0, 0.3));\n",
              "      fill: #FFFFFF;\n",
              "    }\n",
              "  </style>\n",
              "\n",
              "      <script>\n",
              "        const buttonEl =\n",
              "          document.querySelector('#df-195156f1-3da8-47e8-a3d1-f680a202df60 button.colab-df-convert');\n",
              "        buttonEl.style.display =\n",
              "          google.colab.kernel.accessAllowed ? 'block' : 'none';\n",
              "\n",
              "        async function convertToInteractive(key) {\n",
              "          const element = document.querySelector('#df-195156f1-3da8-47e8-a3d1-f680a202df60');\n",
              "          const dataTable =\n",
              "            await google.colab.kernel.invokeFunction('convertToInteractive',\n",
              "                                                     [key], {});\n",
              "          if (!dataTable) return;\n",
              "\n",
              "          const docLinkHtml = 'Like what you see? Visit the ' +\n",
              "            '<a target=\"_blank\" href=https://colab.research.google.com/notebooks/data_table.ipynb>data table notebook</a>'\n",
              "            + ' to learn more about interactive tables.';\n",
              "          element.innerHTML = '';\n",
              "          dataTable['output_type'] = 'display_data';\n",
              "          await google.colab.output.renderOutput(dataTable, element);\n",
              "          const docLink = document.createElement('div');\n",
              "          docLink.innerHTML = docLinkHtml;\n",
              "          element.appendChild(docLink);\n",
              "        }\n",
              "      </script>\n",
              "    </div>\n",
              "  </div>\n",
              "  "
            ]
          },
          "metadata": {},
          "execution_count": 21
        }
      ],
      "source": [
        "## Add patient notes in train.csv dataframe\n",
        "df['pn_num'] = df['pn_num'].apply(int)\n",
        "\n",
        "df['patient_notes'] = df.apply(lambda x: getPatientNotes(x['pn_num']), axis=1)\n",
        "df.head(-5)"
      ]
    },
    {
      "cell_type": "code",
      "execution_count": null,
      "metadata": {
        "id": "8PicpLKskPwn",
        "colab": {
          "base_uri": "https://localhost:8080/",
          "height": 206
        },
        "outputId": "efadf675-cfe4-454e-e65d-102af9630d91"
      },
      "outputs": [
        {
          "output_type": "execute_result",
          "data": {
            "text/plain": [
              "  feature_num case_num                                       feature_text  \\\n",
              "0           0        0  Family-history-of-MI-OR-Family-history-of-myoc...   \n",
              "1           1        0                 Family-history-of-thyroid-disorder   \n",
              "2           2        0                                     Chest-pressure   \n",
              "3           3        0                              Intermittent-symptoms   \n",
              "4           4        0                                        Lightheaded   \n",
              "\n",
              "              Tag  sex_variable Category  \n",
              "0  Family history             0       00  \n",
              "1  Family history             0       01  \n",
              "2        Symptoms             0       02  \n",
              "3        Symptoms             0       03  \n",
              "4        Symptoms             0       04  "
            ],
            "text/html": [
              "\n",
              "  <div id=\"df-e8b3a011-42be-4c0d-8f00-e109301e433b\">\n",
              "    <div class=\"colab-df-container\">\n",
              "      <div>\n",
              "<style scoped>\n",
              "    .dataframe tbody tr th:only-of-type {\n",
              "        vertical-align: middle;\n",
              "    }\n",
              "\n",
              "    .dataframe tbody tr th {\n",
              "        vertical-align: top;\n",
              "    }\n",
              "\n",
              "    .dataframe thead th {\n",
              "        text-align: right;\n",
              "    }\n",
              "</style>\n",
              "<table border=\"1\" class=\"dataframe\">\n",
              "  <thead>\n",
              "    <tr style=\"text-align: right;\">\n",
              "      <th></th>\n",
              "      <th>feature_num</th>\n",
              "      <th>case_num</th>\n",
              "      <th>feature_text</th>\n",
              "      <th>Tag</th>\n",
              "      <th>sex_variable</th>\n",
              "      <th>Category</th>\n",
              "    </tr>\n",
              "  </thead>\n",
              "  <tbody>\n",
              "    <tr>\n",
              "      <th>0</th>\n",
              "      <td>0</td>\n",
              "      <td>0</td>\n",
              "      <td>Family-history-of-MI-OR-Family-history-of-myoc...</td>\n",
              "      <td>Family history</td>\n",
              "      <td>0</td>\n",
              "      <td>00</td>\n",
              "    </tr>\n",
              "    <tr>\n",
              "      <th>1</th>\n",
              "      <td>1</td>\n",
              "      <td>0</td>\n",
              "      <td>Family-history-of-thyroid-disorder</td>\n",
              "      <td>Family history</td>\n",
              "      <td>0</td>\n",
              "      <td>01</td>\n",
              "    </tr>\n",
              "    <tr>\n",
              "      <th>2</th>\n",
              "      <td>2</td>\n",
              "      <td>0</td>\n",
              "      <td>Chest-pressure</td>\n",
              "      <td>Symptoms</td>\n",
              "      <td>0</td>\n",
              "      <td>02</td>\n",
              "    </tr>\n",
              "    <tr>\n",
              "      <th>3</th>\n",
              "      <td>3</td>\n",
              "      <td>0</td>\n",
              "      <td>Intermittent-symptoms</td>\n",
              "      <td>Symptoms</td>\n",
              "      <td>0</td>\n",
              "      <td>03</td>\n",
              "    </tr>\n",
              "    <tr>\n",
              "      <th>4</th>\n",
              "      <td>4</td>\n",
              "      <td>0</td>\n",
              "      <td>Lightheaded</td>\n",
              "      <td>Symptoms</td>\n",
              "      <td>0</td>\n",
              "      <td>04</td>\n",
              "    </tr>\n",
              "  </tbody>\n",
              "</table>\n",
              "</div>\n",
              "      <button class=\"colab-df-convert\" onclick=\"convertToInteractive('df-e8b3a011-42be-4c0d-8f00-e109301e433b')\"\n",
              "              title=\"Convert this dataframe to an interactive table.\"\n",
              "              style=\"display:none;\">\n",
              "        \n",
              "  <svg xmlns=\"http://www.w3.org/2000/svg\" height=\"24px\"viewBox=\"0 0 24 24\"\n",
              "       width=\"24px\">\n",
              "    <path d=\"M0 0h24v24H0V0z\" fill=\"none\"/>\n",
              "    <path d=\"M18.56 5.44l.94 2.06.94-2.06 2.06-.94-2.06-.94-.94-2.06-.94 2.06-2.06.94zm-11 1L8.5 8.5l.94-2.06 2.06-.94-2.06-.94L8.5 2.5l-.94 2.06-2.06.94zm10 10l.94 2.06.94-2.06 2.06-.94-2.06-.94-.94-2.06-.94 2.06-2.06.94z\"/><path d=\"M17.41 7.96l-1.37-1.37c-.4-.4-.92-.59-1.43-.59-.52 0-1.04.2-1.43.59L10.3 9.45l-7.72 7.72c-.78.78-.78 2.05 0 2.83L4 21.41c.39.39.9.59 1.41.59.51 0 1.02-.2 1.41-.59l7.78-7.78 2.81-2.81c.8-.78.8-2.07 0-2.86zM5.41 20L4 18.59l7.72-7.72 1.47 1.35L5.41 20z\"/>\n",
              "  </svg>\n",
              "      </button>\n",
              "      \n",
              "  <style>\n",
              "    .colab-df-container {\n",
              "      display:flex;\n",
              "      flex-wrap:wrap;\n",
              "      gap: 12px;\n",
              "    }\n",
              "\n",
              "    .colab-df-convert {\n",
              "      background-color: #E8F0FE;\n",
              "      border: none;\n",
              "      border-radius: 50%;\n",
              "      cursor: pointer;\n",
              "      display: none;\n",
              "      fill: #1967D2;\n",
              "      height: 32px;\n",
              "      padding: 0 0 0 0;\n",
              "      width: 32px;\n",
              "    }\n",
              "\n",
              "    .colab-df-convert:hover {\n",
              "      background-color: #E2EBFA;\n",
              "      box-shadow: 0px 1px 2px rgba(60, 64, 67, 0.3), 0px 1px 3px 1px rgba(60, 64, 67, 0.15);\n",
              "      fill: #174EA6;\n",
              "    }\n",
              "\n",
              "    [theme=dark] .colab-df-convert {\n",
              "      background-color: #3B4455;\n",
              "      fill: #D2E3FC;\n",
              "    }\n",
              "\n",
              "    [theme=dark] .colab-df-convert:hover {\n",
              "      background-color: #434B5C;\n",
              "      box-shadow: 0px 1px 3px 1px rgba(0, 0, 0, 0.15);\n",
              "      filter: drop-shadow(0px 1px 2px rgba(0, 0, 0, 0.3));\n",
              "      fill: #FFFFFF;\n",
              "    }\n",
              "  </style>\n",
              "\n",
              "      <script>\n",
              "        const buttonEl =\n",
              "          document.querySelector('#df-e8b3a011-42be-4c0d-8f00-e109301e433b button.colab-df-convert');\n",
              "        buttonEl.style.display =\n",
              "          google.colab.kernel.accessAllowed ? 'block' : 'none';\n",
              "\n",
              "        async function convertToInteractive(key) {\n",
              "          const element = document.querySelector('#df-e8b3a011-42be-4c0d-8f00-e109301e433b');\n",
              "          const dataTable =\n",
              "            await google.colab.kernel.invokeFunction('convertToInteractive',\n",
              "                                                     [key], {});\n",
              "          if (!dataTable) return;\n",
              "\n",
              "          const docLinkHtml = 'Like what you see? Visit the ' +\n",
              "            '<a target=\"_blank\" href=https://colab.research.google.com/notebooks/data_table.ipynb>data table notebook</a>'\n",
              "            + ' to learn more about interactive tables.';\n",
              "          element.innerHTML = '';\n",
              "          dataTable['output_type'] = 'display_data';\n",
              "          await google.colab.output.renderOutput(dataTable, element);\n",
              "          const docLink = document.createElement('div');\n",
              "          docLink.innerHTML = docLinkHtml;\n",
              "          element.appendChild(docLink);\n",
              "        }\n",
              "      </script>\n",
              "    </div>\n",
              "  </div>\n",
              "  "
            ]
          },
          "metadata": {},
          "execution_count": 22
        }
      ],
      "source": [
        "dff.head()"
      ]
    },
    {
      "cell_type": "code",
      "execution_count": null,
      "metadata": {
        "id": "2Dntk5EX2D8E",
        "colab": {
          "base_uri": "https://localhost:8080/",
          "height": 555
        },
        "outputId": "e99d224d-e238-4297-a223-df0c9063c898"
      },
      "outputs": [
        {
          "output_type": "execute_result",
          "data": {
            "text/plain": [
              "              id case_num  pn_num feature_num  \\\n",
              "0      00016_000        0      16           0   \n",
              "1      00016_001        0      16           1   \n",
              "2      00016_002        0      16           2   \n",
              "3      00016_003        0      16           3   \n",
              "4      00016_004        0      16           4   \n",
              "...          ...      ...     ...         ...   \n",
              "14290  95333_907        9   95333         907   \n",
              "14291  95333_908        9   95333         908   \n",
              "14292  95333_909        9   95333         909   \n",
              "14293  95333_910        9   95333         910   \n",
              "14294  95333_911        9   95333         911   \n",
              "\n",
              "                                     annotation              location  \\\n",
              "0              ['dad with recent heart attcak']           ['696 724']   \n",
              "1                 ['mom with \"thyroid disease']           ['668 693']   \n",
              "2                            ['chest pressure']           ['203 217']   \n",
              "3          ['intermittent episodes', 'episode']  ['70 91', '176 183']   \n",
              "4      ['felt as if he were going to pass out']           ['222 258']   \n",
              "...                                         ...                   ...   \n",
              "14290                                        []                    []   \n",
              "14291                                ['Nausea']           ['354 360']   \n",
              "14292                                        []                    []   \n",
              "14293                    ['lives with roomate']           ['576 594']   \n",
              "14294                                        []                    []   \n",
              "\n",
              "      Category                                      patient_notes  \\\n",
              "0           00  HPI: 17yo M presents with palpitations. Patien...   \n",
              "1           01  HPI: 17yo M presents with palpitations. Patien...   \n",
              "2           02  HPI: 17yo M presents with palpitations. Patien...   \n",
              "3           03  HPI: 17yo M presents with palpitations. Patien...   \n",
              "4           04  HPI: 17yo M presents with palpitations. Patien...   \n",
              "...        ...                                                ...   \n",
              "14290     9907                                                      \n",
              "14291     9908                                                      \n",
              "14292     9909                                                      \n",
              "14293     9910                                                      \n",
              "14294     9911                                                      \n",
              "\n",
              "                           clean_annotation  \n",
              "0              dad with recent heart attcak  \n",
              "1                 mom with \"thyroid disease  \n",
              "2                            chest pressure  \n",
              "3          intermittent episodes', 'episode  \n",
              "4      felt as if he were going to pass out  \n",
              "...                                     ...  \n",
              "14290                                        \n",
              "14291                                Nausea  \n",
              "14292                                        \n",
              "14293                    lives with roomate  \n",
              "14294                                        \n",
              "\n",
              "[14295 rows x 9 columns]"
            ],
            "text/html": [
              "\n",
              "  <div id=\"df-b8c72601-c91e-4546-9ddd-8afc6ce24a29\">\n",
              "    <div class=\"colab-df-container\">\n",
              "      <div>\n",
              "<style scoped>\n",
              "    .dataframe tbody tr th:only-of-type {\n",
              "        vertical-align: middle;\n",
              "    }\n",
              "\n",
              "    .dataframe tbody tr th {\n",
              "        vertical-align: top;\n",
              "    }\n",
              "\n",
              "    .dataframe thead th {\n",
              "        text-align: right;\n",
              "    }\n",
              "</style>\n",
              "<table border=\"1\" class=\"dataframe\">\n",
              "  <thead>\n",
              "    <tr style=\"text-align: right;\">\n",
              "      <th></th>\n",
              "      <th>id</th>\n",
              "      <th>case_num</th>\n",
              "      <th>pn_num</th>\n",
              "      <th>feature_num</th>\n",
              "      <th>annotation</th>\n",
              "      <th>location</th>\n",
              "      <th>Category</th>\n",
              "      <th>patient_notes</th>\n",
              "      <th>clean_annotation</th>\n",
              "    </tr>\n",
              "  </thead>\n",
              "  <tbody>\n",
              "    <tr>\n",
              "      <th>0</th>\n",
              "      <td>00016_000</td>\n",
              "      <td>0</td>\n",
              "      <td>16</td>\n",
              "      <td>0</td>\n",
              "      <td>['dad with recent heart attcak']</td>\n",
              "      <td>['696 724']</td>\n",
              "      <td>00</td>\n",
              "      <td>HPI: 17yo M presents with palpitations. Patien...</td>\n",
              "      <td>dad with recent heart attcak</td>\n",
              "    </tr>\n",
              "    <tr>\n",
              "      <th>1</th>\n",
              "      <td>00016_001</td>\n",
              "      <td>0</td>\n",
              "      <td>16</td>\n",
              "      <td>1</td>\n",
              "      <td>['mom with \"thyroid disease']</td>\n",
              "      <td>['668 693']</td>\n",
              "      <td>01</td>\n",
              "      <td>HPI: 17yo M presents with palpitations. Patien...</td>\n",
              "      <td>mom with \"thyroid disease</td>\n",
              "    </tr>\n",
              "    <tr>\n",
              "      <th>2</th>\n",
              "      <td>00016_002</td>\n",
              "      <td>0</td>\n",
              "      <td>16</td>\n",
              "      <td>2</td>\n",
              "      <td>['chest pressure']</td>\n",
              "      <td>['203 217']</td>\n",
              "      <td>02</td>\n",
              "      <td>HPI: 17yo M presents with palpitations. Patien...</td>\n",
              "      <td>chest pressure</td>\n",
              "    </tr>\n",
              "    <tr>\n",
              "      <th>3</th>\n",
              "      <td>00016_003</td>\n",
              "      <td>0</td>\n",
              "      <td>16</td>\n",
              "      <td>3</td>\n",
              "      <td>['intermittent episodes', 'episode']</td>\n",
              "      <td>['70 91', '176 183']</td>\n",
              "      <td>03</td>\n",
              "      <td>HPI: 17yo M presents with palpitations. Patien...</td>\n",
              "      <td>intermittent episodes', 'episode</td>\n",
              "    </tr>\n",
              "    <tr>\n",
              "      <th>4</th>\n",
              "      <td>00016_004</td>\n",
              "      <td>0</td>\n",
              "      <td>16</td>\n",
              "      <td>4</td>\n",
              "      <td>['felt as if he were going to pass out']</td>\n",
              "      <td>['222 258']</td>\n",
              "      <td>04</td>\n",
              "      <td>HPI: 17yo M presents with palpitations. Patien...</td>\n",
              "      <td>felt as if he were going to pass out</td>\n",
              "    </tr>\n",
              "    <tr>\n",
              "      <th>...</th>\n",
              "      <td>...</td>\n",
              "      <td>...</td>\n",
              "      <td>...</td>\n",
              "      <td>...</td>\n",
              "      <td>...</td>\n",
              "      <td>...</td>\n",
              "      <td>...</td>\n",
              "      <td>...</td>\n",
              "      <td>...</td>\n",
              "    </tr>\n",
              "    <tr>\n",
              "      <th>14290</th>\n",
              "      <td>95333_907</td>\n",
              "      <td>9</td>\n",
              "      <td>95333</td>\n",
              "      <td>907</td>\n",
              "      <td>[]</td>\n",
              "      <td>[]</td>\n",
              "      <td>9907</td>\n",
              "      <td></td>\n",
              "      <td></td>\n",
              "    </tr>\n",
              "    <tr>\n",
              "      <th>14291</th>\n",
              "      <td>95333_908</td>\n",
              "      <td>9</td>\n",
              "      <td>95333</td>\n",
              "      <td>908</td>\n",
              "      <td>['Nausea']</td>\n",
              "      <td>['354 360']</td>\n",
              "      <td>9908</td>\n",
              "      <td></td>\n",
              "      <td>Nausea</td>\n",
              "    </tr>\n",
              "    <tr>\n",
              "      <th>14292</th>\n",
              "      <td>95333_909</td>\n",
              "      <td>9</td>\n",
              "      <td>95333</td>\n",
              "      <td>909</td>\n",
              "      <td>[]</td>\n",
              "      <td>[]</td>\n",
              "      <td>9909</td>\n",
              "      <td></td>\n",
              "      <td></td>\n",
              "    </tr>\n",
              "    <tr>\n",
              "      <th>14293</th>\n",
              "      <td>95333_910</td>\n",
              "      <td>9</td>\n",
              "      <td>95333</td>\n",
              "      <td>910</td>\n",
              "      <td>['lives with roomate']</td>\n",
              "      <td>['576 594']</td>\n",
              "      <td>9910</td>\n",
              "      <td></td>\n",
              "      <td>lives with roomate</td>\n",
              "    </tr>\n",
              "    <tr>\n",
              "      <th>14294</th>\n",
              "      <td>95333_911</td>\n",
              "      <td>9</td>\n",
              "      <td>95333</td>\n",
              "      <td>911</td>\n",
              "      <td>[]</td>\n",
              "      <td>[]</td>\n",
              "      <td>9911</td>\n",
              "      <td></td>\n",
              "      <td></td>\n",
              "    </tr>\n",
              "  </tbody>\n",
              "</table>\n",
              "<p>14295 rows × 9 columns</p>\n",
              "</div>\n",
              "      <button class=\"colab-df-convert\" onclick=\"convertToInteractive('df-b8c72601-c91e-4546-9ddd-8afc6ce24a29')\"\n",
              "              title=\"Convert this dataframe to an interactive table.\"\n",
              "              style=\"display:none;\">\n",
              "        \n",
              "  <svg xmlns=\"http://www.w3.org/2000/svg\" height=\"24px\"viewBox=\"0 0 24 24\"\n",
              "       width=\"24px\">\n",
              "    <path d=\"M0 0h24v24H0V0z\" fill=\"none\"/>\n",
              "    <path d=\"M18.56 5.44l.94 2.06.94-2.06 2.06-.94-2.06-.94-.94-2.06-.94 2.06-2.06.94zm-11 1L8.5 8.5l.94-2.06 2.06-.94-2.06-.94L8.5 2.5l-.94 2.06-2.06.94zm10 10l.94 2.06.94-2.06 2.06-.94-2.06-.94-.94-2.06-.94 2.06-2.06.94z\"/><path d=\"M17.41 7.96l-1.37-1.37c-.4-.4-.92-.59-1.43-.59-.52 0-1.04.2-1.43.59L10.3 9.45l-7.72 7.72c-.78.78-.78 2.05 0 2.83L4 21.41c.39.39.9.59 1.41.59.51 0 1.02-.2 1.41-.59l7.78-7.78 2.81-2.81c.8-.78.8-2.07 0-2.86zM5.41 20L4 18.59l7.72-7.72 1.47 1.35L5.41 20z\"/>\n",
              "  </svg>\n",
              "      </button>\n",
              "      \n",
              "  <style>\n",
              "    .colab-df-container {\n",
              "      display:flex;\n",
              "      flex-wrap:wrap;\n",
              "      gap: 12px;\n",
              "    }\n",
              "\n",
              "    .colab-df-convert {\n",
              "      background-color: #E8F0FE;\n",
              "      border: none;\n",
              "      border-radius: 50%;\n",
              "      cursor: pointer;\n",
              "      display: none;\n",
              "      fill: #1967D2;\n",
              "      height: 32px;\n",
              "      padding: 0 0 0 0;\n",
              "      width: 32px;\n",
              "    }\n",
              "\n",
              "    .colab-df-convert:hover {\n",
              "      background-color: #E2EBFA;\n",
              "      box-shadow: 0px 1px 2px rgba(60, 64, 67, 0.3), 0px 1px 3px 1px rgba(60, 64, 67, 0.15);\n",
              "      fill: #174EA6;\n",
              "    }\n",
              "\n",
              "    [theme=dark] .colab-df-convert {\n",
              "      background-color: #3B4455;\n",
              "      fill: #D2E3FC;\n",
              "    }\n",
              "\n",
              "    [theme=dark] .colab-df-convert:hover {\n",
              "      background-color: #434B5C;\n",
              "      box-shadow: 0px 1px 3px 1px rgba(0, 0, 0, 0.15);\n",
              "      filter: drop-shadow(0px 1px 2px rgba(0, 0, 0, 0.3));\n",
              "      fill: #FFFFFF;\n",
              "    }\n",
              "  </style>\n",
              "\n",
              "      <script>\n",
              "        const buttonEl =\n",
              "          document.querySelector('#df-b8c72601-c91e-4546-9ddd-8afc6ce24a29 button.colab-df-convert');\n",
              "        buttonEl.style.display =\n",
              "          google.colab.kernel.accessAllowed ? 'block' : 'none';\n",
              "\n",
              "        async function convertToInteractive(key) {\n",
              "          const element = document.querySelector('#df-b8c72601-c91e-4546-9ddd-8afc6ce24a29');\n",
              "          const dataTable =\n",
              "            await google.colab.kernel.invokeFunction('convertToInteractive',\n",
              "                                                     [key], {});\n",
              "          if (!dataTable) return;\n",
              "\n",
              "          const docLinkHtml = 'Like what you see? Visit the ' +\n",
              "            '<a target=\"_blank\" href=https://colab.research.google.com/notebooks/data_table.ipynb>data table notebook</a>'\n",
              "            + ' to learn more about interactive tables.';\n",
              "          element.innerHTML = '';\n",
              "          dataTable['output_type'] = 'display_data';\n",
              "          await google.colab.output.renderOutput(dataTable, element);\n",
              "          const docLink = document.createElement('div');\n",
              "          docLink.innerHTML = docLinkHtml;\n",
              "          element.appendChild(docLink);\n",
              "        }\n",
              "      </script>\n",
              "    </div>\n",
              "  </div>\n",
              "  "
            ]
          },
          "metadata": {},
          "execution_count": 23
        }
      ],
      "source": [
        "# Clean the annotation field; remove the initial brackets, quotes and their closing\n",
        "# IMPROVE MORE WITH REGEX\n",
        "\n",
        "df['clean_annotation'] = df['annotation'].apply(lambda x: x[2:-2] )\n",
        "df.head(-5)"
      ]
    },
    {
      "cell_type": "code",
      "execution_count": null,
      "metadata": {
        "id": "mcduvU5TIYCq"
      },
      "outputs": [],
      "source": [
        "# function to get tag based on case number & feature number\n",
        "\n",
        "def defineTagBasedOnCaseFeature(mycase, myfeature):\n",
        "  mycategory = str(mycase) + str(myfeature)\n",
        "  # print(f\"Case - {mycase}, Feature - {myfeature}, Tag - {tagvalue}\")\n",
        "  return dff[dff['Category'] == mycategory].iloc[0,3]"
      ]
    },
    {
      "cell_type": "code",
      "execution_count": null,
      "metadata": {
        "id": "3CruYjT2QSFp",
        "colab": {
          "base_uri": "https://localhost:8080/"
        },
        "outputId": "d01a23e0-822c-4465-c172-0f3f3bab2364"
      },
      "outputs": [
        {
          "output_type": "stream",
          "name": "stdout",
          "text": [
            "Testtag - SSymptomsE\n"
          ]
        }
      ],
      "source": [
        "# Testing\n",
        "testtag = defineTagBasedOnCaseFeature('0', '2')\n",
        "print(f\"Testtag - S{testtag}E\")"
      ]
    },
    {
      "cell_type": "code",
      "execution_count": null,
      "metadata": {
        "id": "HreJ2PWt3yIp"
      },
      "outputs": [],
      "source": [
        "# Populate tag column to df dataframe\n",
        "#   - For each row in df dataframe, find its case number-feature number \n",
        "#   - identify corresponding Tag from dff dataframe & populate in tag column in df dataframe\n",
        "\n",
        "df['Tag'] = df.apply(lambda x: defineTagBasedOnCaseFeature(x['case_num'], x['feature_num']), axis=1)"
      ]
    },
    {
      "cell_type": "code",
      "execution_count": null,
      "metadata": {
        "id": "eUZ9nM1y5jlA",
        "colab": {
          "base_uri": "https://localhost:8080/"
        },
        "outputId": "09dc46a2-6fae-433c-9681-64f34f868200"
      },
      "outputs": [
        {
          "output_type": "stream",
          "name": "stdout",
          "text": [
            "Number of test entries - 14300\n"
          ]
        }
      ],
      "source": [
        "num_test_entries = df.shape[0]  \n",
        "print(f\"Number of test entries - {num_test_entries}\")"
      ]
    },
    {
      "cell_type": "code",
      "execution_count": null,
      "metadata": {
        "id": "u2fMDosL2EL8",
        "colab": {
          "base_uri": "https://localhost:8080/"
        },
        "outputId": "ccc2d015-90c7-4327-bca7-5617c2b4407b"
      },
      "outputs": [
        {
          "output_type": "stream",
          "name": "stdout",
          "text": [
            "Number of test entries - 14300\n",
            "Number of unique notes - 1000\n"
          ]
        }
      ],
      "source": [
        "# Count number of unique notes in train file\n",
        "\n",
        "#df['pn_num'].value_counts()\n",
        "list_of_notes = df['pn_num'].unique()\n",
        "num_unique_notes = len(list_of_notes)\n",
        "print(f\"Number of test entries - {num_test_entries}\")\n",
        "print(f\"Number of unique notes - {num_unique_notes}\")\n",
        "#df['patient_notes'][11:20]\n",
        "\n"
      ]
    },
    {
      "cell_type": "code",
      "execution_count": null,
      "metadata": {
        "id": "OmTja_Hf-3tF",
        "colab": {
          "base_uri": "https://localhost:8080/"
        },
        "outputId": "2105dba1-b567-49e2-817b-bef5ade82f16"
      },
      "outputs": [
        {
          "output_type": "stream",
          "name": "stdout",
          "text": [
            "['adderall', 'adderrall', 'adderrall']\n",
            "['adderall', 'adderrall', 'adderrall']\n",
            "adderall', 'adderrall', 'adderrall\n",
            "adderall, adderrall, adderrall\n",
            "Number of phrases: 3\n",
            "adderall\n",
            "adderrall\n",
            "adderrall\n"
          ]
        }
      ],
      "source": [
        "#teststring = '[\\'palpitations\\', \\'heart beating/pounding\\', \\'hi there\\']'\n",
        "teststring = '[\\'adderall\\', \\'adderrall\\', \\'adderrall\\']'\n",
        "print(f\"{teststring}\")\n",
        "\n",
        "teststring = re.sub(\"/\",\" \",teststring)\n",
        "print(f\"{teststring}\")\n",
        "\n",
        "teststring = teststring[2:-2]\n",
        "print(f\"{teststring}\")\n",
        "\n",
        "teststring = re.sub(\"'\",\"\",teststring)\n",
        "print(f\"{teststring}\")\n",
        "\n",
        "teststring = re.sub(\", \",\",\", teststring)\n",
        "\n",
        "phrases = re.split(',', teststring)\n",
        "num_phrases = len(phrases)\n",
        "print(f\"Number of phrases: {num_phrases}\")\n",
        "for phrase in phrases:\n",
        "  print(f\"{phrase}\")\n",
        "\n",
        "\n"
      ]
    },
    {
      "cell_type": "code",
      "execution_count": null,
      "metadata": {
        "id": "-XPq0l9YOLpG"
      },
      "outputs": [],
      "source": [
        "def cleanText(myText):\n",
        "  myText = re.sub(\"/\",\" \",myText)\n",
        "  #myText = myText[2:-2]\n",
        "  myText = re.sub(\"'\",\"\",myText)\n",
        "  #myText = re.sub(\", \", \",\",myText)\n",
        "  myText = re.sub(\",\", \" \", myText)\n",
        "  myText = re.sub(\"\\r\",\"\",myText)\n",
        "  myText = re.sub(\"\\\"\",\"\",myText)\n",
        "  myText = re.sub(\"  \", \" \", myText)\n",
        "  myText = re.sub(\"   \", \" \", myText)\n",
        "  return myText"
      ]
    },
    {
      "cell_type": "code",
      "execution_count": null,
      "metadata": {
        "id": "HTpd0DWh-72R",
        "colab": {
          "base_uri": "https://localhost:8080/"
        },
        "outputId": "9060cbb2-e165-482e-87be-e488d47ec5a8"
      },
      "outputs": [
        {
          "output_type": "stream",
          "name": "stdout",
          "text": [
            "BEFORE Dropping - Number of test entries - 14300\n",
            "AFTER Dropping - Number of test entries - 9901\n"
          ]
        }
      ],
      "source": [
        "# drop rows with empty annotations\n",
        "print(f\"BEFORE Dropping - Number of test entries - {num_test_entries}\")\n",
        "df = df[df['annotation'] != '[]']\n",
        "df.reset_index(inplace=True)\n",
        "num_test_entries = df.shape[0]\n",
        "print(f\"AFTER Dropping - Number of test entries - {num_test_entries}\")\n"
      ]
    },
    {
      "cell_type": "code",
      "execution_count": null,
      "metadata": {
        "id": "TdczaV2_DNQv",
        "colab": {
          "base_uri": "https://localhost:8080/",
          "height": 824
        },
        "outputId": "bc2c059d-433e-4d7f-e8ef-accdb3ef23ed"
      },
      "outputs": [
        {
          "output_type": "execute_result",
          "data": {
            "text/plain": [
              "    index         id case_num  pn_num feature_num  \\\n",
              "0       0  00016_000        0      16           0   \n",
              "1       1  00016_001        0      16           1   \n",
              "2       2  00016_002        0      16           2   \n",
              "3       3  00016_003        0      16           3   \n",
              "4       4  00016_004        0      16           4   \n",
              "5       6  00016_006        0      16           6   \n",
              "6       9  00016_009        0      16           9   \n",
              "7      10  00016_010        0      16          10   \n",
              "8      11  00016_011        0      16          11   \n",
              "9      12  00016_012        0      16          12   \n",
              "10     14  00041_001        0      41           1   \n",
              "11     15  00041_002        0      41           2   \n",
              "12     16  00041_003        0      41           3   \n",
              "13     20  00041_007        0      41           7   \n",
              "14     22  00041_009        0      41           9   \n",
              "\n",
              "                                    annotation  \\\n",
              "0             ['dad with recent heart attcak']   \n",
              "1                ['mom with \"thyroid disease']   \n",
              "2                           ['chest pressure']   \n",
              "3         ['intermittent episodes', 'episode']   \n",
              "4     ['felt as if he were going to pass out']   \n",
              "5       ['adderall', 'adderrall', 'adderrall']   \n",
              "6   ['palpitations', 'heart beating/pounding']   \n",
              "7                            ['3-4 months of']   \n",
              "8                                     ['17yo']   \n",
              "9                                        ['M']   \n",
              "10                ['MOM HAS THYROID PROBLEMS']   \n",
              "11                   ['PRESSURE ON HER CHEST']   \n",
              "12    ['COMES AND GOES', 'HAPPENED 5-6 TIMES']   \n",
              "13                                     ['SOB']   \n",
              "14                          ['HEART POUNDING']   \n",
              "\n",
              "                             location Category  \\\n",
              "0                         ['696 724']       00   \n",
              "1                         ['668 693']       01   \n",
              "2                         ['203 217']       02   \n",
              "3                ['70 91', '176 183']       03   \n",
              "4                         ['222 258']       04   \n",
              "5   ['321 329', '404 413', '652 661']       06   \n",
              "6                 ['26 38', '96 118']       09   \n",
              "7                           ['56 69']      010   \n",
              "8                             ['5 9']      011   \n",
              "9                           ['10 11']      012   \n",
              "10                        ['532 556']       01   \n",
              "11                        ['263 284']       02   \n",
              "12             ['131 145', '150 168']       03   \n",
              "13                        ['258 261']       07   \n",
              "14                          ['32 46']       09   \n",
              "\n",
              "                                        patient_notes  \\\n",
              "0   HPI: 17yo M presents with palpitations. Patien...   \n",
              "1   HPI: 17yo M presents with palpitations. Patien...   \n",
              "2   HPI: 17yo M presents with palpitations. Patien...   \n",
              "3   HPI: 17yo M presents with palpitations. Patien...   \n",
              "4   HPI: 17yo M presents with palpitations. Patien...   \n",
              "5   HPI: 17yo M presents with palpitations. Patien...   \n",
              "6   HPI: 17yo M presents with palpitations. Patien...   \n",
              "7   HPI: 17yo M presents with palpitations. Patien...   \n",
              "8   HPI: 17yo M presents with palpitations. Patien...   \n",
              "9   HPI: 17yo M presents with palpitations. Patien...   \n",
              "10  - 17 y/o M presents with 3 months of intermitt...   \n",
              "11  - 17 y/o M presents with 3 months of intermitt...   \n",
              "12  - 17 y/o M presents with 3 months of intermitt...   \n",
              "13  - 17 y/o M presents with 3 months of intermitt...   \n",
              "14  - 17 y/o M presents with 3 months of intermitt...   \n",
              "\n",
              "                          clean_annotation             Tag  \n",
              "0             dad with recent heart attcak  Family history  \n",
              "1                mom with \"thyroid disease  Family history  \n",
              "2                           chest pressure        Symptoms  \n",
              "3         intermittent episodes', 'episode        Symptoms  \n",
              "4     felt as if he were going to pass out        Symptoms  \n",
              "5       adderall', 'adderrall', 'adderrall      Background  \n",
              "6   palpitations', 'heart beating/pounding        Symptoms  \n",
              "7                            3-4 months of        Symptoms  \n",
              "8                                     17yo         Profile  \n",
              "9                                        M         Profile  \n",
              "10                MOM HAS THYROID PROBLEMS  Family history  \n",
              "11                   PRESSURE ON HER CHEST        Symptoms  \n",
              "12    COMES AND GOES', 'HAPPENED 5-6 TIMES        Symptoms  \n",
              "13                                     SOB        Symptoms  \n",
              "14                          HEART POUNDING        Symptoms  "
            ],
            "text/html": [
              "\n",
              "  <div id=\"df-9987589d-ecce-4fb0-89b8-d6957a031fca\">\n",
              "    <div class=\"colab-df-container\">\n",
              "      <div>\n",
              "<style scoped>\n",
              "    .dataframe tbody tr th:only-of-type {\n",
              "        vertical-align: middle;\n",
              "    }\n",
              "\n",
              "    .dataframe tbody tr th {\n",
              "        vertical-align: top;\n",
              "    }\n",
              "\n",
              "    .dataframe thead th {\n",
              "        text-align: right;\n",
              "    }\n",
              "</style>\n",
              "<table border=\"1\" class=\"dataframe\">\n",
              "  <thead>\n",
              "    <tr style=\"text-align: right;\">\n",
              "      <th></th>\n",
              "      <th>index</th>\n",
              "      <th>id</th>\n",
              "      <th>case_num</th>\n",
              "      <th>pn_num</th>\n",
              "      <th>feature_num</th>\n",
              "      <th>annotation</th>\n",
              "      <th>location</th>\n",
              "      <th>Category</th>\n",
              "      <th>patient_notes</th>\n",
              "      <th>clean_annotation</th>\n",
              "      <th>Tag</th>\n",
              "    </tr>\n",
              "  </thead>\n",
              "  <tbody>\n",
              "    <tr>\n",
              "      <th>0</th>\n",
              "      <td>0</td>\n",
              "      <td>00016_000</td>\n",
              "      <td>0</td>\n",
              "      <td>16</td>\n",
              "      <td>0</td>\n",
              "      <td>['dad with recent heart attcak']</td>\n",
              "      <td>['696 724']</td>\n",
              "      <td>00</td>\n",
              "      <td>HPI: 17yo M presents with palpitations. Patien...</td>\n",
              "      <td>dad with recent heart attcak</td>\n",
              "      <td>Family history</td>\n",
              "    </tr>\n",
              "    <tr>\n",
              "      <th>1</th>\n",
              "      <td>1</td>\n",
              "      <td>00016_001</td>\n",
              "      <td>0</td>\n",
              "      <td>16</td>\n",
              "      <td>1</td>\n",
              "      <td>['mom with \"thyroid disease']</td>\n",
              "      <td>['668 693']</td>\n",
              "      <td>01</td>\n",
              "      <td>HPI: 17yo M presents with palpitations. Patien...</td>\n",
              "      <td>mom with \"thyroid disease</td>\n",
              "      <td>Family history</td>\n",
              "    </tr>\n",
              "    <tr>\n",
              "      <th>2</th>\n",
              "      <td>2</td>\n",
              "      <td>00016_002</td>\n",
              "      <td>0</td>\n",
              "      <td>16</td>\n",
              "      <td>2</td>\n",
              "      <td>['chest pressure']</td>\n",
              "      <td>['203 217']</td>\n",
              "      <td>02</td>\n",
              "      <td>HPI: 17yo M presents with palpitations. Patien...</td>\n",
              "      <td>chest pressure</td>\n",
              "      <td>Symptoms</td>\n",
              "    </tr>\n",
              "    <tr>\n",
              "      <th>3</th>\n",
              "      <td>3</td>\n",
              "      <td>00016_003</td>\n",
              "      <td>0</td>\n",
              "      <td>16</td>\n",
              "      <td>3</td>\n",
              "      <td>['intermittent episodes', 'episode']</td>\n",
              "      <td>['70 91', '176 183']</td>\n",
              "      <td>03</td>\n",
              "      <td>HPI: 17yo M presents with palpitations. Patien...</td>\n",
              "      <td>intermittent episodes', 'episode</td>\n",
              "      <td>Symptoms</td>\n",
              "    </tr>\n",
              "    <tr>\n",
              "      <th>4</th>\n",
              "      <td>4</td>\n",
              "      <td>00016_004</td>\n",
              "      <td>0</td>\n",
              "      <td>16</td>\n",
              "      <td>4</td>\n",
              "      <td>['felt as if he were going to pass out']</td>\n",
              "      <td>['222 258']</td>\n",
              "      <td>04</td>\n",
              "      <td>HPI: 17yo M presents with palpitations. Patien...</td>\n",
              "      <td>felt as if he were going to pass out</td>\n",
              "      <td>Symptoms</td>\n",
              "    </tr>\n",
              "    <tr>\n",
              "      <th>5</th>\n",
              "      <td>6</td>\n",
              "      <td>00016_006</td>\n",
              "      <td>0</td>\n",
              "      <td>16</td>\n",
              "      <td>6</td>\n",
              "      <td>['adderall', 'adderrall', 'adderrall']</td>\n",
              "      <td>['321 329', '404 413', '652 661']</td>\n",
              "      <td>06</td>\n",
              "      <td>HPI: 17yo M presents with palpitations. Patien...</td>\n",
              "      <td>adderall', 'adderrall', 'adderrall</td>\n",
              "      <td>Background</td>\n",
              "    </tr>\n",
              "    <tr>\n",
              "      <th>6</th>\n",
              "      <td>9</td>\n",
              "      <td>00016_009</td>\n",
              "      <td>0</td>\n",
              "      <td>16</td>\n",
              "      <td>9</td>\n",
              "      <td>['palpitations', 'heart beating/pounding']</td>\n",
              "      <td>['26 38', '96 118']</td>\n",
              "      <td>09</td>\n",
              "      <td>HPI: 17yo M presents with palpitations. Patien...</td>\n",
              "      <td>palpitations', 'heart beating/pounding</td>\n",
              "      <td>Symptoms</td>\n",
              "    </tr>\n",
              "    <tr>\n",
              "      <th>7</th>\n",
              "      <td>10</td>\n",
              "      <td>00016_010</td>\n",
              "      <td>0</td>\n",
              "      <td>16</td>\n",
              "      <td>10</td>\n",
              "      <td>['3-4 months of']</td>\n",
              "      <td>['56 69']</td>\n",
              "      <td>010</td>\n",
              "      <td>HPI: 17yo M presents with palpitations. Patien...</td>\n",
              "      <td>3-4 months of</td>\n",
              "      <td>Symptoms</td>\n",
              "    </tr>\n",
              "    <tr>\n",
              "      <th>8</th>\n",
              "      <td>11</td>\n",
              "      <td>00016_011</td>\n",
              "      <td>0</td>\n",
              "      <td>16</td>\n",
              "      <td>11</td>\n",
              "      <td>['17yo']</td>\n",
              "      <td>['5 9']</td>\n",
              "      <td>011</td>\n",
              "      <td>HPI: 17yo M presents with palpitations. Patien...</td>\n",
              "      <td>17yo</td>\n",
              "      <td>Profile</td>\n",
              "    </tr>\n",
              "    <tr>\n",
              "      <th>9</th>\n",
              "      <td>12</td>\n",
              "      <td>00016_012</td>\n",
              "      <td>0</td>\n",
              "      <td>16</td>\n",
              "      <td>12</td>\n",
              "      <td>['M']</td>\n",
              "      <td>['10 11']</td>\n",
              "      <td>012</td>\n",
              "      <td>HPI: 17yo M presents with palpitations. Patien...</td>\n",
              "      <td>M</td>\n",
              "      <td>Profile</td>\n",
              "    </tr>\n",
              "    <tr>\n",
              "      <th>10</th>\n",
              "      <td>14</td>\n",
              "      <td>00041_001</td>\n",
              "      <td>0</td>\n",
              "      <td>41</td>\n",
              "      <td>1</td>\n",
              "      <td>['MOM HAS THYROID PROBLEMS']</td>\n",
              "      <td>['532 556']</td>\n",
              "      <td>01</td>\n",
              "      <td>- 17 y/o M presents with 3 months of intermitt...</td>\n",
              "      <td>MOM HAS THYROID PROBLEMS</td>\n",
              "      <td>Family history</td>\n",
              "    </tr>\n",
              "    <tr>\n",
              "      <th>11</th>\n",
              "      <td>15</td>\n",
              "      <td>00041_002</td>\n",
              "      <td>0</td>\n",
              "      <td>41</td>\n",
              "      <td>2</td>\n",
              "      <td>['PRESSURE ON HER CHEST']</td>\n",
              "      <td>['263 284']</td>\n",
              "      <td>02</td>\n",
              "      <td>- 17 y/o M presents with 3 months of intermitt...</td>\n",
              "      <td>PRESSURE ON HER CHEST</td>\n",
              "      <td>Symptoms</td>\n",
              "    </tr>\n",
              "    <tr>\n",
              "      <th>12</th>\n",
              "      <td>16</td>\n",
              "      <td>00041_003</td>\n",
              "      <td>0</td>\n",
              "      <td>41</td>\n",
              "      <td>3</td>\n",
              "      <td>['COMES AND GOES', 'HAPPENED 5-6 TIMES']</td>\n",
              "      <td>['131 145', '150 168']</td>\n",
              "      <td>03</td>\n",
              "      <td>- 17 y/o M presents with 3 months of intermitt...</td>\n",
              "      <td>COMES AND GOES', 'HAPPENED 5-6 TIMES</td>\n",
              "      <td>Symptoms</td>\n",
              "    </tr>\n",
              "    <tr>\n",
              "      <th>13</th>\n",
              "      <td>20</td>\n",
              "      <td>00041_007</td>\n",
              "      <td>0</td>\n",
              "      <td>41</td>\n",
              "      <td>7</td>\n",
              "      <td>['SOB']</td>\n",
              "      <td>['258 261']</td>\n",
              "      <td>07</td>\n",
              "      <td>- 17 y/o M presents with 3 months of intermitt...</td>\n",
              "      <td>SOB</td>\n",
              "      <td>Symptoms</td>\n",
              "    </tr>\n",
              "    <tr>\n",
              "      <th>14</th>\n",
              "      <td>22</td>\n",
              "      <td>00041_009</td>\n",
              "      <td>0</td>\n",
              "      <td>41</td>\n",
              "      <td>9</td>\n",
              "      <td>['HEART POUNDING']</td>\n",
              "      <td>['32 46']</td>\n",
              "      <td>09</td>\n",
              "      <td>- 17 y/o M presents with 3 months of intermitt...</td>\n",
              "      <td>HEART POUNDING</td>\n",
              "      <td>Symptoms</td>\n",
              "    </tr>\n",
              "  </tbody>\n",
              "</table>\n",
              "</div>\n",
              "      <button class=\"colab-df-convert\" onclick=\"convertToInteractive('df-9987589d-ecce-4fb0-89b8-d6957a031fca')\"\n",
              "              title=\"Convert this dataframe to an interactive table.\"\n",
              "              style=\"display:none;\">\n",
              "        \n",
              "  <svg xmlns=\"http://www.w3.org/2000/svg\" height=\"24px\"viewBox=\"0 0 24 24\"\n",
              "       width=\"24px\">\n",
              "    <path d=\"M0 0h24v24H0V0z\" fill=\"none\"/>\n",
              "    <path d=\"M18.56 5.44l.94 2.06.94-2.06 2.06-.94-2.06-.94-.94-2.06-.94 2.06-2.06.94zm-11 1L8.5 8.5l.94-2.06 2.06-.94-2.06-.94L8.5 2.5l-.94 2.06-2.06.94zm10 10l.94 2.06.94-2.06 2.06-.94-2.06-.94-.94-2.06-.94 2.06-2.06.94z\"/><path d=\"M17.41 7.96l-1.37-1.37c-.4-.4-.92-.59-1.43-.59-.52 0-1.04.2-1.43.59L10.3 9.45l-7.72 7.72c-.78.78-.78 2.05 0 2.83L4 21.41c.39.39.9.59 1.41.59.51 0 1.02-.2 1.41-.59l7.78-7.78 2.81-2.81c.8-.78.8-2.07 0-2.86zM5.41 20L4 18.59l7.72-7.72 1.47 1.35L5.41 20z\"/>\n",
              "  </svg>\n",
              "      </button>\n",
              "      \n",
              "  <style>\n",
              "    .colab-df-container {\n",
              "      display:flex;\n",
              "      flex-wrap:wrap;\n",
              "      gap: 12px;\n",
              "    }\n",
              "\n",
              "    .colab-df-convert {\n",
              "      background-color: #E8F0FE;\n",
              "      border: none;\n",
              "      border-radius: 50%;\n",
              "      cursor: pointer;\n",
              "      display: none;\n",
              "      fill: #1967D2;\n",
              "      height: 32px;\n",
              "      padding: 0 0 0 0;\n",
              "      width: 32px;\n",
              "    }\n",
              "\n",
              "    .colab-df-convert:hover {\n",
              "      background-color: #E2EBFA;\n",
              "      box-shadow: 0px 1px 2px rgba(60, 64, 67, 0.3), 0px 1px 3px 1px rgba(60, 64, 67, 0.15);\n",
              "      fill: #174EA6;\n",
              "    }\n",
              "\n",
              "    [theme=dark] .colab-df-convert {\n",
              "      background-color: #3B4455;\n",
              "      fill: #D2E3FC;\n",
              "    }\n",
              "\n",
              "    [theme=dark] .colab-df-convert:hover {\n",
              "      background-color: #434B5C;\n",
              "      box-shadow: 0px 1px 3px 1px rgba(0, 0, 0, 0.15);\n",
              "      filter: drop-shadow(0px 1px 2px rgba(0, 0, 0, 0.3));\n",
              "      fill: #FFFFFF;\n",
              "    }\n",
              "  </style>\n",
              "\n",
              "      <script>\n",
              "        const buttonEl =\n",
              "          document.querySelector('#df-9987589d-ecce-4fb0-89b8-d6957a031fca button.colab-df-convert');\n",
              "        buttonEl.style.display =\n",
              "          google.colab.kernel.accessAllowed ? 'block' : 'none';\n",
              "\n",
              "        async function convertToInteractive(key) {\n",
              "          const element = document.querySelector('#df-9987589d-ecce-4fb0-89b8-d6957a031fca');\n",
              "          const dataTable =\n",
              "            await google.colab.kernel.invokeFunction('convertToInteractive',\n",
              "                                                     [key], {});\n",
              "          if (!dataTable) return;\n",
              "\n",
              "          const docLinkHtml = 'Like what you see? Visit the ' +\n",
              "            '<a target=\"_blank\" href=https://colab.research.google.com/notebooks/data_table.ipynb>data table notebook</a>'\n",
              "            + ' to learn more about interactive tables.';\n",
              "          element.innerHTML = '';\n",
              "          dataTable['output_type'] = 'display_data';\n",
              "          await google.colab.output.renderOutput(dataTable, element);\n",
              "          const docLink = document.createElement('div');\n",
              "          docLink.innerHTML = docLinkHtml;\n",
              "          element.appendChild(docLink);\n",
              "        }\n",
              "      </script>\n",
              "    </div>\n",
              "  </div>\n",
              "  "
            ]
          },
          "metadata": {},
          "execution_count": 32
        }
      ],
      "source": [
        "df.head(15)"
      ]
    },
    {
      "cell_type": "code",
      "execution_count": null,
      "metadata": {
        "id": "7L4SJ9j1x7gp",
        "colab": {
          "base_uri": "https://localhost:8080/"
        },
        "outputId": "30c0368b-8201-4dba-fe60-343aeda3af2d"
      },
      "outputs": [
        {
          "output_type": "stream",
          "name": "stdout",
          "text": [
            "DONE\n"
          ]
        }
      ],
      "source": [
        "# If multiple annotations in one row in test.csv, separate them into multiple lines\n",
        "\n",
        "# - check if number of annotations is one or more. If one, no action needed\n",
        "# - If more then one annotation, separate them into additional rows\n",
        "\n",
        "#num_unique_notes = 10\n",
        "for i in range(num_unique_notes):\n",
        "  #print(f\"====================================================\")\n",
        "  this_note_number = list_of_notes[i]\n",
        "  #print(f\"Reviewing note {this_note_number}  - Type: {type(this_note_number)}\")\n",
        "\n",
        "  this_note = getPatientNotes(this_note_number)\n",
        "  #print(f\"NOTE: {this_note}\")\n",
        "\n",
        "  # \n",
        "  df_temp = df[df['pn_num'] == this_note_number]\n",
        "  list_annotations = df_temp.iloc[:,5]\n",
        "  num_annotations = len(df_temp)\n",
        "  #print(f\"Number of annotations {num_annotations}\")\n",
        "  #print(f\"SUB-ANNOTATIONS\\n{list_annotations}\")\n",
        "\n",
        "  j=0\n",
        "  for annotation in list_annotations:\n",
        "    #print(f\"Note {this_note_number}  j={j}\")\n",
        "    this_category = df_temp.iloc[j,7]\n",
        "    #print(f\"--> GETTING CATEGORY : {this_category}\")\n",
        "\n",
        "    #print(f\"Reviewing annotation {j}: {annotation}\")\n",
        "    annotation = cleanText(annotation)\n",
        "\n",
        "    sub_annotations = re.split(',', annotation)\n",
        "    num_sub_annotations = len(sub_annotations) \n",
        "    #print(f\"-->Number of subannotations {num_sub_annotations}\")\n",
        "    j=j+1\n",
        "\n",
        "    if num_sub_annotations > 1:\n",
        "      for k in range(num_sub_annotations):\n",
        "        dfnew = {'pn_num': this_note_number, 'clean_annotation': sub_annotations[k], 'Category': this_category}\n",
        "        df = df.append(dfnew,ignore_index=True)\n",
        "        \n",
        "      \n",
        "print(f\"DONE\")"
      ]
    },
    {
      "cell_type": "code",
      "execution_count": null,
      "metadata": {
        "id": "vUPrFMhWxCGd",
        "colab": {
          "base_uri": "https://localhost:8080/"
        },
        "outputId": "3a19771c-c426-43d1-d1f5-2cb29f2fcb5a"
      },
      "outputs": [
        {
          "output_type": "stream",
          "name": "stdout",
          "text": [
            "AFTER adding additional test entries - Number of test entries - 9901\n"
          ]
        }
      ],
      "source": [
        "num_test_entries = df.shape[0]\n",
        "print(f\"AFTER adding additional test entries - Number of test entries - {num_test_entries}\")"
      ]
    },
    {
      "cell_type": "code",
      "execution_count": null,
      "metadata": {
        "id": "dn4xoqES9YHq"
      },
      "outputs": [],
      "source": [
        "def CheckAnnotationsNotInSentence(mysentence, list_annotations, num_annotation):\n",
        "  for annotation in list_annotations:\n",
        "    if ((annotation in mysentence) and (annotation != '')):\n",
        "      return bool(False)\n",
        "  return bool(True)"
      ]
    },
    {
      "cell_type": "code",
      "execution_count": null,
      "metadata": {
        "id": "HZOzbP4P-6m_",
        "colab": {
          "base_uri": "https://localhost:8080/"
        },
        "outputId": "dea23764-e388-42d1-a52c-ab62d6717b96"
      },
      "outputs": [
        {
          "output_type": "execute_result",
          "data": {
            "text/plain": [
              "True"
            ]
          },
          "metadata": {},
          "execution_count": 36
        }
      ],
      "source": [
        "#flag = CheckAnnotationsNotInSentence('This is a test for me',['hey','a test'],2)\n",
        "flag = CheckAnnotationsNotInSentence('Of note patient endorses abusing adderall, primarily to study (1-3 times per week)',['','a test'],2)\n",
        "flag"
      ]
    },
    {
      "cell_type": "code",
      "execution_count": null,
      "metadata": {
        "id": "WTll2ysLNNcr"
      },
      "outputs": [],
      "source": [
        "def MakeSureSentenceIsNotEmpty(myText):\n",
        "  myText = re.sub(\" \",\"\",myText)\n",
        "  myText = re.sub(\",\",\"\",myText)\n",
        "  thislength = len(myText)\n",
        "  if thislength > 0:\n",
        "    return True\n",
        "  return False\n",
        "  "
      ]
    },
    {
      "cell_type": "code",
      "execution_count": null,
      "metadata": {
        "id": "GWTudL89N8WN",
        "colab": {
          "base_uri": "https://localhost:8080/"
        },
        "outputId": "10262e8b-9839-43b7-fe6a-a54cf22524de"
      },
      "outputs": [
        {
          "output_type": "stream",
          "name": "stdout",
          "text": [
            "Sentence is not empty\n"
          ]
        }
      ],
      "source": [
        "#testing\n",
        "testsen = \"   a \"\n",
        "flag = MakeSureSentenceIsNotEmpty(testsen)\n",
        "if flag == True:\n",
        "  print(f\"Sentence is not empty\")\n",
        "else:\n",
        "  print(f\"Sentence is empty\")"
      ]
    },
    {
      "cell_type": "code",
      "execution_count": null,
      "metadata": {
        "id": "016_NQPIWaAk",
        "colab": {
          "base_uri": "https://localhost:8080/",
          "height": 146
        },
        "outputId": "c7028392-c14a-4563-b6f6-bd8b4e71f95d"
      },
      "outputs": [
        {
          "output_type": "execute_result",
          "data": {
            "text/plain": [
              "'HPI: 17yo M presents with palpitations. Patient reports 3-4 months of intermittent episodes of \"heart beating/pounding out of my chest.\" 2 days ago during a soccer game had an episode, but this time had chest pressure and felt as if he were going to pass out (did not lose conciousness). Of note patient endorses abusing adderall, primarily to study (1-3 times per week). Before recent soccer game, took adderrall night before and morning of game. Denies shortness of breath, diaphoresis, fevers, chills, headache, fatigue, changes in sleep, changes in vision/hearing, abdominal paun, changes in bowel or urinary habits. \\r\\nPMHx: none\\r\\nRx: uses friends adderrall\\r\\nFHx: mom with \"thyroid disease,\" dad with recent heart attcak\\r\\nAll: none\\r\\nImmunizations: up to date\\r\\nSHx: Freshmen in college. Endorses 3-4 drinks 3 nights / week (on weekends), denies tabacco, endorses trying marijuana. Sexually active with girlfriend x 1 year, uses condoms'"
            ],
            "application/vnd.google.colaboratory.intrinsic+json": {
              "type": "string"
            }
          },
          "metadata": {},
          "execution_count": 39
        }
      ],
      "source": [
        "dfn['pn_history'][16]"
      ]
    },
    {
      "cell_type": "code",
      "execution_count": null,
      "metadata": {
        "id": "Zt9ezorM2aBB",
        "colab": {
          "base_uri": "https://localhost:8080/"
        },
        "outputId": "05169021-cb4e-407d-beb0-9bc25681773e"
      },
      "outputs": [
        {
          "output_type": "stream",
          "name": "stdout",
          "text": [
            "Number of new entries  - 0\n",
            "Total number of train entries - 9901\n"
          ]
        }
      ],
      "source": [
        "# Add additional rows to test.csv showing Category DISCARD\n",
        "\n",
        "#   - Get notes# from list of notes in test.csv\n",
        "#   - Get full notes for notes#. Tokenize by sentence\n",
        "#   - For every sentence, find if some part of it has been annotated\n",
        "#   - If no part of the sentence is annotated, add sentence to df dataframe with Category 'DISCARD', and Tage 'DISCARD'\n",
        "\n",
        "#num_unique_notes = 10\n",
        "counter = num_test_entries\n",
        "\n",
        "for i in range(num_unique_notes):\n",
        "  this_note_number = list_of_notes[i]\n",
        "  #print(f\"Reviewing note {this_note_number}  - Type: {type(this_note_number)}\")\n",
        "\n",
        "  this_note = getPatientNotes(this_note_number)\n",
        "  #print(f\"NOTE: {this_note}\")\n",
        "\n",
        "  # check if any training annotation is contained in mysentence\n",
        "  df_temp = df[df['pn_num'] == this_note_number]\n",
        "  list_annotations = df_temp.iloc[:,9]\n",
        "  num_annotations = len(df_temp)\n",
        "  \n",
        "  #list_sub_annotations = df[df['pn_num'] == this_note_number].loc[:,'clean_annotation']\n",
        "  #num_sub_annotations = len(df[df['pn_num'] == this_note_number])\n",
        "  #print(f\"Number of sub annotations {num_annotations}\")\n",
        "  #print(f\"ANNOTATIONS\\n{list_annotations}\")\n",
        "\n",
        "  this_note = cleanText(this_note)\n",
        "  sentences = re.split('; |\\. |\\* |\\n', this_note)\n",
        "  #print(f\"Number of sentences in note: {len(sentences)}\")\n",
        "  for mysentence in sentences:\n",
        "    #print(f\"\\nSentence # - {mysentence}\")\n",
        "    if CheckAnnotationsNotInSentence(mysentence,list_annotations,num_annotations):\n",
        "      if MakeSureSentenceIsNotEmpty(mysentence):\n",
        "        dfnew = {'pn_num': this_note_number, 'clean_annotation': mysentence, 'Category':'DISCARD'}\n",
        "        #df = df.append(dfnew,ignore_index=True)\n",
        "        #print(f\"\\nAdding sentence -> Note # {this_note_number} Sentence -> {mysentence}, Length - {len(mysentence)}\")\n",
        "        #counter = counter+1\n",
        "    else:\n",
        "      #print(f\"\\nAnnotation in Sentence -- {mysentence}\")\n",
        "      counter = counter\n",
        "\n",
        "\n",
        "print(f\"Number of new entries  - {counter-num_test_entries}\")\n",
        "print(f\"Total number of train entries - {df.shape[0]}\")\n"
      ]
    },
    {
      "cell_type": "code",
      "execution_count": null,
      "metadata": {
        "id": "PKT4JaVo40zx",
        "colab": {
          "base_uri": "https://localhost:8080/"
        },
        "outputId": "539dbe3b-3293-4ede-c2c4-e4ff6a648b48"
      },
      "outputs": [
        {
          "output_type": "stream",
          "name": "stdout",
          "text": [
            "All done; Ready to review\n"
          ]
        }
      ],
      "source": [
        "  print(f\"All done; Ready to review\")\n"
      ]
    },
    {
      "cell_type": "code",
      "execution_count": null,
      "metadata": {
        "id": "oR_wXc8-RCcR",
        "colab": {
          "base_uri": "https://localhost:8080/"
        },
        "outputId": "580f42f9-072e-48f2-f172-ce457c0e1b58"
      },
      "outputs": [
        {
          "output_type": "execute_result",
          "data": {
            "text/plain": [
              "1000"
            ]
          },
          "metadata": {},
          "execution_count": 42
        }
      ],
      "source": [
        "num_unique_notes"
      ]
    },
    {
      "cell_type": "markdown",
      "metadata": {
        "id": "_gHew0w286Yf"
      },
      "source": [
        "# **NEURAL NETWORK MODEL**\n",
        "\n",
        "---\n",
        "\n"
      ]
    },
    {
      "cell_type": "code",
      "execution_count": null,
      "metadata": {
        "id": "SYr5C1iAzlpz",
        "colab": {
          "base_uri": "https://localhost:8080/"
        },
        "outputId": "965818ca-1833-4301-ddb2-80c36c953bc5"
      },
      "outputs": [
        {
          "output_type": "stream",
          "name": "stdout",
          "text": [
            "BEFORE -- Total number of train entries - 9901\n",
            "AFTER -- Total number of train entries - 9897\n"
          ]
        }
      ],
      "source": [
        "# drop rows with category of count 1 -> 8807, 2209\n",
        "print(f\"BEFORE -- Total number of train entries - {df.shape[0]}\")\n",
        "df = df[df['Category'] != str(2209)]\n",
        "df = df[df['Category'] != str(8807)]\n",
        "df = df[df['Category'] != str(9911)]\n",
        "print(f\"AFTER -- Total number of train entries - {df.shape[0]}\")"
      ]
    },
    {
      "cell_type": "code",
      "execution_count": null,
      "metadata": {
        "id": "-S3wk0OK9UM-",
        "colab": {
          "base_uri": "https://localhost:8080/",
          "height": 268
        },
        "outputId": "ab84d163-cc7c-4e06-eb1b-e20f5551f9a9"
      },
      "outputs": [
        {
          "output_type": "execute_result",
          "data": {
            "text/plain": [
              "      index         id case_num  pn_num feature_num  \\\n",
              "7025   9898  61768_610        6   61768         610   \n",
              "5328   7608  52932_506        5   52932         506   \n",
              "8787  12410  83953_808        8   83953         808   \n",
              "5636   8051  54511_517        5   54511         517   \n",
              "7038   9915  70163_706        7   70163         706   \n",
              "\n",
              "                                    annotation                location  \\\n",
              "7025      ['albuteral inhaler without relief']             ['374 406']   \n",
              "5328               ['negative for chest pain']     ['689 701;762 772']   \n",
              "8787                   ['Started 3 weeks ago']               ['41 60']   \n",
              "5636                                    ['26']               ['17 19']   \n",
              "7038  ['never became pregnant', 'infertility']  ['362 383', '440 451']   \n",
              "\n",
              "     Category patient_notes                      clean_annotation         Tag  \n",
              "7025     6610                    albuteral inhaler without relief    Symptoms  \n",
              "5328     5506                             negative for chest pain    Symptoms  \n",
              "8787     8808                                 Started 3 weeks ago    Symptoms  \n",
              "5636     5517                                                  26     Profile  \n",
              "7038     7706                never became pregnant', 'infertility  Background  "
            ],
            "text/html": [
              "\n",
              "  <div id=\"df-3d5480d6-1fbd-4c10-9ae1-572331e35232\">\n",
              "    <div class=\"colab-df-container\">\n",
              "      <div>\n",
              "<style scoped>\n",
              "    .dataframe tbody tr th:only-of-type {\n",
              "        vertical-align: middle;\n",
              "    }\n",
              "\n",
              "    .dataframe tbody tr th {\n",
              "        vertical-align: top;\n",
              "    }\n",
              "\n",
              "    .dataframe thead th {\n",
              "        text-align: right;\n",
              "    }\n",
              "</style>\n",
              "<table border=\"1\" class=\"dataframe\">\n",
              "  <thead>\n",
              "    <tr style=\"text-align: right;\">\n",
              "      <th></th>\n",
              "      <th>index</th>\n",
              "      <th>id</th>\n",
              "      <th>case_num</th>\n",
              "      <th>pn_num</th>\n",
              "      <th>feature_num</th>\n",
              "      <th>annotation</th>\n",
              "      <th>location</th>\n",
              "      <th>Category</th>\n",
              "      <th>patient_notes</th>\n",
              "      <th>clean_annotation</th>\n",
              "      <th>Tag</th>\n",
              "    </tr>\n",
              "  </thead>\n",
              "  <tbody>\n",
              "    <tr>\n",
              "      <th>7025</th>\n",
              "      <td>9898</td>\n",
              "      <td>61768_610</td>\n",
              "      <td>6</td>\n",
              "      <td>61768</td>\n",
              "      <td>610</td>\n",
              "      <td>['albuteral inhaler without relief']</td>\n",
              "      <td>['374 406']</td>\n",
              "      <td>6610</td>\n",
              "      <td></td>\n",
              "      <td>albuteral inhaler without relief</td>\n",
              "      <td>Symptoms</td>\n",
              "    </tr>\n",
              "    <tr>\n",
              "      <th>5328</th>\n",
              "      <td>7608</td>\n",
              "      <td>52932_506</td>\n",
              "      <td>5</td>\n",
              "      <td>52932</td>\n",
              "      <td>506</td>\n",
              "      <td>['negative for chest pain']</td>\n",
              "      <td>['689 701;762 772']</td>\n",
              "      <td>5506</td>\n",
              "      <td></td>\n",
              "      <td>negative for chest pain</td>\n",
              "      <td>Symptoms</td>\n",
              "    </tr>\n",
              "    <tr>\n",
              "      <th>8787</th>\n",
              "      <td>12410</td>\n",
              "      <td>83953_808</td>\n",
              "      <td>8</td>\n",
              "      <td>83953</td>\n",
              "      <td>808</td>\n",
              "      <td>['Started 3 weeks ago']</td>\n",
              "      <td>['41 60']</td>\n",
              "      <td>8808</td>\n",
              "      <td></td>\n",
              "      <td>Started 3 weeks ago</td>\n",
              "      <td>Symptoms</td>\n",
              "    </tr>\n",
              "    <tr>\n",
              "      <th>5636</th>\n",
              "      <td>8051</td>\n",
              "      <td>54511_517</td>\n",
              "      <td>5</td>\n",
              "      <td>54511</td>\n",
              "      <td>517</td>\n",
              "      <td>['26']</td>\n",
              "      <td>['17 19']</td>\n",
              "      <td>5517</td>\n",
              "      <td></td>\n",
              "      <td>26</td>\n",
              "      <td>Profile</td>\n",
              "    </tr>\n",
              "    <tr>\n",
              "      <th>7038</th>\n",
              "      <td>9915</td>\n",
              "      <td>70163_706</td>\n",
              "      <td>7</td>\n",
              "      <td>70163</td>\n",
              "      <td>706</td>\n",
              "      <td>['never became pregnant', 'infertility']</td>\n",
              "      <td>['362 383', '440 451']</td>\n",
              "      <td>7706</td>\n",
              "      <td></td>\n",
              "      <td>never became pregnant', 'infertility</td>\n",
              "      <td>Background</td>\n",
              "    </tr>\n",
              "  </tbody>\n",
              "</table>\n",
              "</div>\n",
              "      <button class=\"colab-df-convert\" onclick=\"convertToInteractive('df-3d5480d6-1fbd-4c10-9ae1-572331e35232')\"\n",
              "              title=\"Convert this dataframe to an interactive table.\"\n",
              "              style=\"display:none;\">\n",
              "        \n",
              "  <svg xmlns=\"http://www.w3.org/2000/svg\" height=\"24px\"viewBox=\"0 0 24 24\"\n",
              "       width=\"24px\">\n",
              "    <path d=\"M0 0h24v24H0V0z\" fill=\"none\"/>\n",
              "    <path d=\"M18.56 5.44l.94 2.06.94-2.06 2.06-.94-2.06-.94-.94-2.06-.94 2.06-2.06.94zm-11 1L8.5 8.5l.94-2.06 2.06-.94-2.06-.94L8.5 2.5l-.94 2.06-2.06.94zm10 10l.94 2.06.94-2.06 2.06-.94-2.06-.94-.94-2.06-.94 2.06-2.06.94z\"/><path d=\"M17.41 7.96l-1.37-1.37c-.4-.4-.92-.59-1.43-.59-.52 0-1.04.2-1.43.59L10.3 9.45l-7.72 7.72c-.78.78-.78 2.05 0 2.83L4 21.41c.39.39.9.59 1.41.59.51 0 1.02-.2 1.41-.59l7.78-7.78 2.81-2.81c.8-.78.8-2.07 0-2.86zM5.41 20L4 18.59l7.72-7.72 1.47 1.35L5.41 20z\"/>\n",
              "  </svg>\n",
              "      </button>\n",
              "      \n",
              "  <style>\n",
              "    .colab-df-container {\n",
              "      display:flex;\n",
              "      flex-wrap:wrap;\n",
              "      gap: 12px;\n",
              "    }\n",
              "\n",
              "    .colab-df-convert {\n",
              "      background-color: #E8F0FE;\n",
              "      border: none;\n",
              "      border-radius: 50%;\n",
              "      cursor: pointer;\n",
              "      display: none;\n",
              "      fill: #1967D2;\n",
              "      height: 32px;\n",
              "      padding: 0 0 0 0;\n",
              "      width: 32px;\n",
              "    }\n",
              "\n",
              "    .colab-df-convert:hover {\n",
              "      background-color: #E2EBFA;\n",
              "      box-shadow: 0px 1px 2px rgba(60, 64, 67, 0.3), 0px 1px 3px 1px rgba(60, 64, 67, 0.15);\n",
              "      fill: #174EA6;\n",
              "    }\n",
              "\n",
              "    [theme=dark] .colab-df-convert {\n",
              "      background-color: #3B4455;\n",
              "      fill: #D2E3FC;\n",
              "    }\n",
              "\n",
              "    [theme=dark] .colab-df-convert:hover {\n",
              "      background-color: #434B5C;\n",
              "      box-shadow: 0px 1px 3px 1px rgba(0, 0, 0, 0.15);\n",
              "      filter: drop-shadow(0px 1px 2px rgba(0, 0, 0, 0.3));\n",
              "      fill: #FFFFFF;\n",
              "    }\n",
              "  </style>\n",
              "\n",
              "      <script>\n",
              "        const buttonEl =\n",
              "          document.querySelector('#df-3d5480d6-1fbd-4c10-9ae1-572331e35232 button.colab-df-convert');\n",
              "        buttonEl.style.display =\n",
              "          google.colab.kernel.accessAllowed ? 'block' : 'none';\n",
              "\n",
              "        async function convertToInteractive(key) {\n",
              "          const element = document.querySelector('#df-3d5480d6-1fbd-4c10-9ae1-572331e35232');\n",
              "          const dataTable =\n",
              "            await google.colab.kernel.invokeFunction('convertToInteractive',\n",
              "                                                     [key], {});\n",
              "          if (!dataTable) return;\n",
              "\n",
              "          const docLinkHtml = 'Like what you see? Visit the ' +\n",
              "            '<a target=\"_blank\" href=https://colab.research.google.com/notebooks/data_table.ipynb>data table notebook</a>'\n",
              "            + ' to learn more about interactive tables.';\n",
              "          element.innerHTML = '';\n",
              "          dataTable['output_type'] = 'display_data';\n",
              "          await google.colab.output.renderOutput(dataTable, element);\n",
              "          const docLink = document.createElement('div');\n",
              "          docLink.innerHTML = docLinkHtml;\n",
              "          element.appendChild(docLink);\n",
              "        }\n",
              "      </script>\n",
              "    </div>\n",
              "  </div>\n",
              "  "
            ]
          },
          "metadata": {},
          "execution_count": 44
        }
      ],
      "source": [
        "# Shuffle df\n",
        "df_shuffled = df.sample(frac=1, random_state=53) \n",
        "df_shuffled.head()"
      ]
    },
    {
      "cell_type": "code",
      "execution_count": null,
      "metadata": {
        "id": "UQLnvbgMy20A"
      },
      "outputs": [],
      "source": [
        ""
      ]
    },
    {
      "cell_type": "code",
      "execution_count": null,
      "metadata": {
        "id": "WBl2J9fG9DC4"
      },
      "outputs": [],
      "source": [
        "# Split test data into test & validate - frac = 10%\n",
        "from sklearn.model_selection import train_test_split\n",
        "train_annotations, val_annotations, train_labels, val_labels = train_test_split(df_shuffled['clean_annotation'].to_numpy(), df_shuffled['Category'].to_numpy(), test_size=0.1, random_state=32)"
      ]
    },
    {
      "cell_type": "code",
      "execution_count": null,
      "metadata": {
        "id": "L94gPk8lvuzb"
      },
      "outputs": [],
      "source": [
        "from sklearn.model_selection import StratifiedShuffleSplit\n",
        "mysplitter = StratifiedShuffleSplit(n_splits=1,random_state=12)\n",
        "X = df_shuffled['clean_annotation']\n",
        "y = df_shuffled['Category']\n",
        "\n",
        "# Good read for stratification - https://www.kaggle.com/code/viswanathanc/stratifiedshufflesplit-working-with-less-data/notebook\n"
      ]
    },
    {
      "cell_type": "code",
      "execution_count": null,
      "metadata": {
        "id": "kw4bFYJdyEC-",
        "colab": {
          "base_uri": "https://localhost:8080/"
        },
        "outputId": "963f8569-e619-442a-e585-22185843ec79"
      },
      "outputs": [
        {
          "output_type": "execute_result",
          "data": {
            "text/plain": [
              "Category\n",
              "5501        100\n",
              "4401        100\n",
              "2205        100\n",
              "4409        100\n",
              "8802         99\n",
              "           ... \n",
              "5515         19\n",
              "2215         15\n",
              "9907         11\n",
              "2207         11\n",
              "8809          7\n",
              "Length: 140, dtype: int64"
            ]
          },
          "metadata": {},
          "execution_count": 47
        }
      ],
      "source": [
        "pd.DataFrame(y).value_counts()"
      ]
    },
    {
      "cell_type": "code",
      "execution_count": null,
      "metadata": {
        "id": "TNUHhDkGytFo"
      },
      "outputs": [],
      "source": [
        ""
      ]
    },
    {
      "cell_type": "code",
      "execution_count": null,
      "metadata": {
        "id": "JkotQ3L8x2w2"
      },
      "outputs": [],
      "source": [
        "for train,test in mysplitter.split(X,y):     #this will splits the index\n",
        "    train_annotations = X.iloc[train]\n",
        "    train_labels = y.iloc[train]\n",
        "    val_annotations = X.iloc[test]\n",
        "    val_labels = y.iloc[test]"
      ]
    },
    {
      "cell_type": "code",
      "execution_count": null,
      "metadata": {
        "id": "r6Wc0FLiEMpf",
        "colab": {
          "base_uri": "https://localhost:8080/"
        },
        "outputId": "67e1c984-cb2d-4993-b7d2-3df749515c68"
      },
      "outputs": [
        {
          "output_type": "stream",
          "name": "stdout",
          "text": [
            "(8907,) (8907,) (990,) (990,)\n",
            "Number of categories in original set 140 \n",
            "Number of categories in train set Category    140\n",
            "dtype: int64 \n",
            "Number of categories in val set Category    140\n",
            "dtype: int64 \n"
          ]
        }
      ],
      "source": [
        "print (train_annotations.shape, train_labels.shape, val_annotations.shape, val_labels.shape)\n",
        "num_categories_in_original = df_shuffled['Category'].nunique()\n",
        "print (f\"Number of categories in original set {num_categories_in_original} \")\n",
        "\n",
        "num_categories_in_train = pd.DataFrame(train_labels).nunique()\n",
        "print (f\"Number of categories in train set {num_categories_in_train} \")\n",
        "num_categories_in_train.value_counts()\n",
        "\n",
        "num_categories_in_val = pd.DataFrame(val_labels).nunique()\n",
        "print (f\"Number of categories in val set {num_categories_in_val} \")\n",
        "#num_categories_in_val\n",
        "\n",
        "# Get missing categories"
      ]
    },
    {
      "cell_type": "code",
      "execution_count": null,
      "metadata": {
        "id": "w_iFkscTW7Ng",
        "colab": {
          "base_uri": "https://localhost:8080/"
        },
        "outputId": "2c9eff4b-60c5-4a1b-970d-9dc6e3958242"
      },
      "outputs": [
        {
          "output_type": "execute_result",
          "data": {
            "text/plain": [
              "Category\n",
              "5501        90\n",
              "2205        90\n",
              "4409        90\n",
              "4401        90\n",
              "8802        89\n",
              "            ..\n",
              "5515        17\n",
              "2215        14\n",
              "9907        10\n",
              "2207        10\n",
              "8809         6\n",
              "Length: 140, dtype: int64"
            ]
          },
          "metadata": {},
          "execution_count": 50
        }
      ],
      "source": [
        "pd.DataFrame(train_labels).value_counts()"
      ]
    },
    {
      "cell_type": "code",
      "execution_count": null,
      "metadata": {
        "id": "SAYVsaixXUvx",
        "colab": {
          "base_uri": "https://localhost:8080/"
        },
        "outputId": "870597f8-2add-40e2-82b1-a818a5074384"
      },
      "outputs": [
        {
          "output_type": "execute_result",
          "data": {
            "text/plain": [
              "56"
            ]
          },
          "metadata": {},
          "execution_count": 51
        }
      ],
      "source": [
        "pd.DataFrame(val_labels).value_counts().loc['4400']\n",
        "len(\"Pain has been constant and began shortly after waking up\")"
      ]
    },
    {
      "cell_type": "code",
      "execution_count": null,
      "metadata": {
        "id": "UpvhesaiVgBV",
        "colab": {
          "base_uri": "https://localhost:8080/"
        },
        "outputId": "fafca816-3c73-4d71-e483-90936d1263ef"
      },
      "outputs": [
        {
          "output_type": "stream",
          "name": "stdout",
          "text": [
            " Number of training samples 8907\n",
            "Average length - 18.5515\n"
          ]
        }
      ],
      "source": [
        "# find the maximum length of any annotated text\n",
        "num_training_samples = len(train_annotations)\n",
        "print(f\" Number of training samples {num_training_samples}\")\n",
        "this_sum =0\n",
        "numavg = 2000\n",
        "for i in range(numavg):\n",
        "  #print(f\"i = {i} - text = {df_shuffled['clean_annotation'][i]}\")\n",
        "  this_sum = this_sum + len(df_shuffled['clean_annotation'][i])\n",
        "\n",
        "this_sum = this_sum/numavg\n",
        "print(f\"Average length - {this_sum}\")"
      ]
    },
    {
      "cell_type": "code",
      "execution_count": null,
      "metadata": {
        "id": "WOMPjeYTB-UB",
        "colab": {
          "base_uri": "https://localhost:8080/"
        },
        "outputId": "b8b2d48e-8a54-4792-ba60-2a6f26cfee0a"
      },
      "outputs": [
        {
          "output_type": "stream",
          "name": "stdout",
          "text": [
            "[' ', '\"', '&', \"'\", '(', ')', '*', '+', ',', '-', '.', '/', '0', '1', '2', '3', '4', '5', '6', '7', '8', '9', ':', ';', '=', 'A', 'B', 'C', 'D', 'E', 'F', 'G', 'H', 'I', 'J', 'K', 'L', 'M', 'N', 'O', 'P', 'Q', 'R', 'S', 'T', 'U', 'V', 'W', 'X', 'Y', '[', '\\\\', ']', 'a', 'b', 'c', 'd', 'e', 'f', 'g', 'h', 'i', 'j', 'k', 'l', 'm', 'n', 'o', 'p', 'q', 'r', 's', 't', 'u', 'v', 'w', 'x', 'y', 'z', '~']\n"
          ]
        },
        {
          "output_type": "execute_result",
          "data": {
            "text/plain": [
              "80"
            ]
          },
          "metadata": {},
          "execution_count": 53
        }
      ],
      "source": [
        "# Merge all the text in clean_annotation into one text. Generate a vocab from that\n",
        "\n",
        "text = ''\n",
        "length = df.shape[0]\n",
        "\n",
        "for i in range(length):\n",
        "  text = text + df.iloc[i,9]\n",
        " \n",
        "vocab = sorted(set(text))\n",
        "print(vocab)\n",
        "len(vocab)"
      ]
    },
    {
      "cell_type": "code",
      "execution_count": null,
      "metadata": {
        "id": "h3_78HODB-x2",
        "colab": {
          "base_uri": "https://localhost:8080/"
        },
        "outputId": "893fc63f-e397-4087-e9d4-ac026e3d6ee0"
      },
      "outputs": [
        {
          "output_type": "execute_result",
          "data": {
            "text/plain": [
              "32"
            ]
          },
          "metadata": {},
          "execution_count": 54
        }
      ],
      "source": [
        "# Determine a mapping for the vocabulary: char_to_ind and ind_to_char\n",
        "# for pair in enumerate(vocab):\n",
        "#    print(pair)\n",
        "\n",
        "char_to_ind = {u:i for i, u in enumerate(vocab)}\n",
        "char_to_ind['H']"
      ]
    },
    {
      "cell_type": "code",
      "execution_count": null,
      "metadata": {
        "id": "2vjaEtw7Cb1f",
        "colab": {
          "base_uri": "https://localhost:8080/",
          "height": 36
        },
        "outputId": "cc55c8e2-0677-4628-adfc-7c6bb6a7292e"
      },
      "outputs": [
        {
          "output_type": "execute_result",
          "data": {
            "text/plain": [
              "'H'"
            ],
            "application/vnd.google.colaboratory.intrinsic+json": {
              "type": "string"
            }
          },
          "metadata": {},
          "execution_count": 55
        }
      ],
      "source": [
        "# build reverse mapping - ind_to_char\n",
        "ind_to_char = np.array(vocab)\n",
        "ind_to_char[32]"
      ]
    },
    {
      "cell_type": "markdown",
      "metadata": {
        "id": "5DkaqpUNeC45"
      },
      "source": [
        "**Potential Tweaks from here**\n",
        "\n",
        "---\n",
        "\n",
        "- take vectorization from BERT\n",
        "- take embedding from BERT\n"
      ]
    },
    {
      "cell_type": "code",
      "execution_count": null,
      "metadata": {
        "id": "74N_zjwzm62K",
        "colab": {
          "base_uri": "https://localhost:8080/"
        },
        "outputId": "4b9da183-4879-4eb9-90e4-49917b868fe1"
      },
      "outputs": [
        {
          "output_type": "stream",
          "name": "stdout",
          "text": [
            "\u001b[K     |████████████████████████████████| 4.9 MB 4.3 MB/s \n",
            "\u001b[K     |████████████████████████████████| 462 kB 70.5 MB/s \n",
            "\u001b[?25h"
          ]
        }
      ],
      "source": [
        "!pip install -q -U \"tensorflow-text==2.8.*\""
      ]
    },
    {
      "cell_type": "code",
      "execution_count": null,
      "metadata": {
        "id": "AmHA9xPfeiQc"
      },
      "outputs": [],
      "source": [
        "import tensorflow as tf\n",
        "import tensorflow_hub as hub\n",
        "import tensorflow_text as text "
      ]
    },
    {
      "cell_type": "code",
      "execution_count": null,
      "metadata": {
        "id": "KqrRyPlIekU9",
        "colab": {
          "base_uri": "https://localhost:8080/"
        },
        "outputId": "348b8a3c-fa13-4a9b-df30-b1dac182ad63"
      },
      "outputs": [
        {
          "output_type": "stream",
          "name": "stdout",
          "text": [
            "BERT model selected           : https://tfhub.dev/tensorflow/bert_en_uncased_L-12_H-768_A-12/3\n",
            "Preprocessing model auto-selected: https://tfhub.dev/tensorflow/bert_en_uncased_preprocess/3\n"
          ]
        }
      ],
      "source": [
        "tfhub_handle_encoder = 'https://tfhub.dev/tensorflow/bert_en_uncased_L-12_H-768_A-12/3'\n",
        "tfhub_handle_preprocess = 'https://tfhub.dev/tensorflow/bert_en_uncased_preprocess/3'\n",
        "\n",
        "print('BERT model selected           :', tfhub_handle_encoder)\n",
        "print('Preprocessing model auto-selected:', tfhub_handle_preprocess)"
      ]
    },
    {
      "cell_type": "code",
      "execution_count": null,
      "metadata": {
        "id": "b7w6BTK0ekdC"
      },
      "outputs": [],
      "source": [
        "bert_preprocess_model = hub.KerasLayer(tfhub_handle_preprocess)\n",
        "\n",
        "text_test = ['this is such an amazing movie. I loved it']\n",
        "text_preprocessed = bert_preprocess_model(text_test)"
      ]
    },
    {
      "cell_type": "code",
      "execution_count": null,
      "metadata": {
        "id": "tiLKrXRqF9cG",
        "colab": {
          "base_uri": "https://localhost:8080/"
        },
        "outputId": "a8bfd151-eb0b-4f41-f321-71073af32c7b"
      },
      "outputs": [
        {
          "output_type": "execute_result",
          "data": {
            "text/plain": [
              "{'input_mask': <tf.Tensor: shape=(1, 128), dtype=int32, numpy=\n",
              " array([[1, 1, 1, 1, 1, 1, 1, 1, 1, 1, 1, 1, 0, 0, 0, 0, 0, 0, 0, 0, 0, 0,\n",
              "         0, 0, 0, 0, 0, 0, 0, 0, 0, 0, 0, 0, 0, 0, 0, 0, 0, 0, 0, 0, 0, 0,\n",
              "         0, 0, 0, 0, 0, 0, 0, 0, 0, 0, 0, 0, 0, 0, 0, 0, 0, 0, 0, 0, 0, 0,\n",
              "         0, 0, 0, 0, 0, 0, 0, 0, 0, 0, 0, 0, 0, 0, 0, 0, 0, 0, 0, 0, 0, 0,\n",
              "         0, 0, 0, 0, 0, 0, 0, 0, 0, 0, 0, 0, 0, 0, 0, 0, 0, 0, 0, 0, 0, 0,\n",
              "         0, 0, 0, 0, 0, 0, 0, 0, 0, 0, 0, 0, 0, 0, 0, 0, 0, 0]],\n",
              "       dtype=int32)>,\n",
              " 'input_type_ids': <tf.Tensor: shape=(1, 128), dtype=int32, numpy=\n",
              " array([[0, 0, 0, 0, 0, 0, 0, 0, 0, 0, 0, 0, 0, 0, 0, 0, 0, 0, 0, 0, 0, 0,\n",
              "         0, 0, 0, 0, 0, 0, 0, 0, 0, 0, 0, 0, 0, 0, 0, 0, 0, 0, 0, 0, 0, 0,\n",
              "         0, 0, 0, 0, 0, 0, 0, 0, 0, 0, 0, 0, 0, 0, 0, 0, 0, 0, 0, 0, 0, 0,\n",
              "         0, 0, 0, 0, 0, 0, 0, 0, 0, 0, 0, 0, 0, 0, 0, 0, 0, 0, 0, 0, 0, 0,\n",
              "         0, 0, 0, 0, 0, 0, 0, 0, 0, 0, 0, 0, 0, 0, 0, 0, 0, 0, 0, 0, 0, 0,\n",
              "         0, 0, 0, 0, 0, 0, 0, 0, 0, 0, 0, 0, 0, 0, 0, 0, 0, 0]],\n",
              "       dtype=int32)>,\n",
              " 'input_word_ids': <tf.Tensor: shape=(1, 128), dtype=int32, numpy=\n",
              " array([[ 101, 2023, 2003, 2107, 2019, 6429, 3185, 1012, 1045, 3866, 2009,\n",
              "          102,    0,    0,    0,    0,    0,    0,    0,    0,    0,    0,\n",
              "            0,    0,    0,    0,    0,    0,    0,    0,    0,    0,    0,\n",
              "            0,    0,    0,    0,    0,    0,    0,    0,    0,    0,    0,\n",
              "            0,    0,    0,    0,    0,    0,    0,    0,    0,    0,    0,\n",
              "            0,    0,    0,    0,    0,    0,    0,    0,    0,    0,    0,\n",
              "            0,    0,    0,    0,    0,    0,    0,    0,    0,    0,    0,\n",
              "            0,    0,    0,    0,    0,    0,    0,    0,    0,    0,    0,\n",
              "            0,    0,    0,    0,    0,    0,    0,    0,    0,    0,    0,\n",
              "            0,    0,    0,    0,    0,    0,    0,    0,    0,    0,    0,\n",
              "            0,    0,    0,    0,    0,    0,    0,    0,    0,    0,    0,\n",
              "            0,    0,    0,    0,    0,    0,    0]], dtype=int32)>}"
            ]
          },
          "metadata": {},
          "execution_count": 60
        }
      ],
      "source": [
        "text_preprocessed"
      ]
    },
    {
      "cell_type": "code",
      "execution_count": null,
      "metadata": {
        "id": "-uzQHs3somgz"
      },
      "outputs": [],
      "source": [
        "bert_model = hub.KerasLayer(tfhub_handle_encoder)"
      ]
    },
    {
      "cell_type": "code",
      "execution_count": null,
      "metadata": {
        "id": "bARoCT0spBPh",
        "colab": {
          "base_uri": "https://localhost:8080/"
        },
        "outputId": "a6e53074-01a3-4d9d-db6f-1ade2ccff90e"
      },
      "outputs": [
        {
          "output_type": "stream",
          "name": "stdout",
          "text": [
            "Loaded BERT: https://tfhub.dev/tensorflow/bert_en_uncased_L-12_H-768_A-12/3\n",
            "Pooled Outputs Shape:(1, 768)\n",
            "Pooled Outputs Values:[-0.92580503 -0.35639146 -0.67353773  0.637214    0.6406335  -0.22586766\n",
            "  0.642733    0.14035171 -0.7676265  -0.99996054 -0.37259412  0.9434641 ]\n",
            "Sequence Outputs Shape:(1, 128, 768)\n",
            "Sequence Outputs Values:[[ 0.32184064  0.00989162  0.16893226 ... -0.25000465  0.4130199\n",
            "   0.25615606]\n",
            " [-0.28587258 -0.44366628  0.2979756  ... -0.6674695   1.1626828\n",
            "   0.15335408]\n",
            " [ 0.16452767 -0.19023006  0.70756656 ... -0.5410915   0.38242954\n",
            "   0.45496365]\n",
            " ...\n",
            " [ 1.1526556   0.35924572  0.4864326  ...  0.2751942   0.59719443\n",
            "  -0.10572643]\n",
            " [-0.06283119 -0.73079026  0.05512173 ...  0.23924887  0.29840034\n",
            "  -0.07768309]\n",
            " [ 0.42760342  0.16895297  0.2984304  ...  0.27277425 -0.334918\n",
            "  -0.1694208 ]]\n"
          ]
        }
      ],
      "source": [
        "bert_results = bert_model(text_preprocessed)\n",
        "print(f'Loaded BERT: {tfhub_handle_encoder}')\n",
        "print(f'Pooled Outputs Shape:{bert_results[\"pooled_output\"].shape}')\n",
        "print(f'Pooled Outputs Values:{bert_results[\"pooled_output\"][0, :12]}')\n",
        "print(f'Sequence Outputs Shape:{bert_results[\"sequence_output\"].shape}')\n",
        "print(f'Sequence Outputs Values:{bert_results[\"sequence_output\"][0, :12]}')"
      ]
    },
    {
      "cell_type": "code",
      "execution_count": null,
      "metadata": {
        "id": "-wdIgV46IFyo"
      },
      "outputs": [],
      "source": [
        "#bert_results"
      ]
    },
    {
      "cell_type": "code",
      "execution_count": null,
      "metadata": {
        "id": "Hc-CwNZKwOV3"
      },
      "outputs": [],
      "source": [
        "num_features = 140"
      ]
    },
    {
      "cell_type": "code",
      "execution_count": null,
      "metadata": {
        "id": "ySOP842SpBbn"
      },
      "outputs": [],
      "source": [
        "def build_classifier_model():\n",
        "  text_input = tf.keras.layers.Input(shape=(), dtype=tf.string, name='text')\n",
        "  preprocessing_layer = hub.KerasLayer(tfhub_handle_preprocess, name='preprocessing')\n",
        "  encoder_inputs = preprocessing_layer(text_input)\n",
        "  encoder = hub.KerasLayer(tfhub_handle_encoder, trainable=True, name='BERT_encoder')\n",
        "  outputs = encoder(encoder_inputs)\n",
        "  net = outputs['pooled_output']\n",
        "  net = tf.keras.layers.Dense(256, activation=\"relu\")(net)\n",
        "  net = tf.keras.layers.Dropout(0.1)(net)\n",
        "  net = tf.keras.layers.Dense(num_features, activation=\"softmax\", name='classifier')(net)\n",
        "  return tf.keras.Model(text_input, net)\n",
        "  "
      ]
    },
    {
      "cell_type": "code",
      "execution_count": null,
      "metadata": {
        "id": "MW09m7GXpBkE",
        "colab": {
          "base_uri": "https://localhost:8080/"
        },
        "outputId": "2cd120e1-bbd8-4a3b-def3-5912a6590772"
      },
      "outputs": [
        {
          "output_type": "stream",
          "name": "stdout",
          "text": [
            "tf.Tensor(\n",
            "[[0.01462091 0.00168487 0.0037172  0.01047975 0.00461892 0.00520836\n",
            "  0.0107609  0.00811682 0.00540504 0.01072337 0.0028747  0.01040114\n",
            "  0.00414098 0.00585564 0.00283975 0.0028308  0.01127828 0.00715692\n",
            "  0.00747569 0.00316231 0.0045781  0.00640382 0.0055347  0.00755234\n",
            "  0.00864311 0.01089834 0.00268795 0.00990468 0.00644157 0.00646901\n",
            "  0.00913095 0.00326319 0.00284125 0.0031074  0.00574736 0.01064423\n",
            "  0.01712609 0.01087894 0.02673116 0.00417142 0.01391566 0.00659613\n",
            "  0.00446289 0.00534453 0.00673268 0.00572785 0.0088497  0.01330645\n",
            "  0.00739794 0.00488527 0.00596907 0.01196017 0.00396977 0.00527379\n",
            "  0.00207617 0.00296162 0.00337455 0.00583989 0.00383748 0.0068911\n",
            "  0.00840387 0.02061106 0.00361792 0.00683483 0.00734265 0.00680311\n",
            "  0.00401473 0.00278826 0.01026511 0.01327167 0.00435023 0.00673169\n",
            "  0.00372033 0.00894618 0.00449668 0.00737978 0.00530058 0.00800397\n",
            "  0.00665969 0.00542668 0.00677438 0.00361606 0.0042475  0.00284455\n",
            "  0.00212435 0.00200821 0.00448443 0.00628114 0.00871936 0.00461527\n",
            "  0.01105361 0.00321758 0.00784257 0.01271042 0.00406438 0.00708144\n",
            "  0.00376669 0.00850892 0.00497425 0.00784906 0.00404687 0.01316168\n",
            "  0.01475429 0.00701299 0.00423487 0.00697225 0.0081195  0.00942293\n",
            "  0.01970663 0.00283624 0.01050226 0.00519521 0.0111089  0.00432968\n",
            "  0.00707998 0.00341664 0.01805455 0.0055519  0.00592719 0.00621977\n",
            "  0.00680162 0.00251431 0.01054378 0.00907711 0.01419104 0.00232311\n",
            "  0.00361512 0.01001126 0.0090542  0.00440414 0.00383052 0.00584185\n",
            "  0.00325677 0.00843371 0.00795266 0.00157995 0.00571091 0.00934643\n",
            "  0.01830911 0.0083142 ]], shape=(1, 140), dtype=float32)\n"
          ]
        }
      ],
      "source": [
        "classifier_model = build_classifier_model()\n",
        "bert_raw_result = classifier_model(tf.constant(text_test))\n",
        "print(bert_raw_result)"
      ]
    },
    {
      "cell_type": "code",
      "execution_count": null,
      "metadata": {
        "id": "48wjM53hpBvB",
        "colab": {
          "base_uri": "https://localhost:8080/",
          "height": 564
        },
        "outputId": "a7aefcae-ee70-474a-a8dc-f2173ad3ec0e"
      },
      "outputs": [
        {
          "output_type": "execute_result",
          "data": {
            "text/plain": [
              "<IPython.core.display.Image object>"
            ],
            "image/png": "[encoded data removed]"
          },
          "metadata": {},
          "execution_count": 67
        }
      ],
      "source": [
        "tf.keras.utils.plot_model(classifier_model)"
      ]
    },
    {
      "cell_type": "code",
      "execution_count": null,
      "metadata": {
        "id": "WRQ-VwrLvWE-"
      },
      "outputs": [],
      "source": [
        "loss = tf.keras.losses.CategoricalCrossentropy(from_logits=True)\n",
        "metrics = tf.metrics.CategoricalAccuracy()"
      ]
    },
    {
      "cell_type": "code",
      "execution_count": null,
      "metadata": {
        "id": "9lA5SRD82Kpd",
        "colab": {
          "base_uri": "https://localhost:8080/"
        },
        "outputId": "8a28841f-bcb4-493a-ecd9-d5296ba1cd76"
      },
      "outputs": [
        {
          "output_type": "stream",
          "name": "stdout",
          "text": [
            "\u001b[K     |████████████████████████████████| 1.8 MB 4.2 MB/s \n",
            "\u001b[K     |████████████████████████████████| 99 kB 11.1 MB/s \n",
            "\u001b[K     |████████████████████████████████| 352 kB 67.1 MB/s \n",
            "\u001b[K     |████████████████████████████████| 237 kB 73.8 MB/s \n",
            "\u001b[K     |████████████████████████████████| 596 kB 59.9 MB/s \n",
            "\u001b[K     |████████████████████████████████| 90 kB 13.1 MB/s \n",
            "\u001b[K     |████████████████████████████████| 1.1 MB 54.8 MB/s \n",
            "\u001b[K     |████████████████████████████████| 47.8 MB 70.5 MB/s \n",
            "\u001b[K     |████████████████████████████████| 43 kB 2.5 MB/s \n",
            "\u001b[K     |████████████████████████████████| 1.2 MB 55.2 MB/s \n",
            "\u001b[?25h  Building wheel for py-cpuinfo (setup.py) ... \u001b[?25l\u001b[?25hdone\n",
            "  Building wheel for seqeval (setup.py) ... \u001b[?25l\u001b[?25hdone\n"
          ]
        }
      ],
      "source": [
        "!pip install -q tf-models-official==2.7.0"
      ]
    },
    {
      "cell_type": "code",
      "execution_count": null,
      "metadata": {
        "id": "Jzu6kCeA1-uV"
      },
      "outputs": [],
      "source": [
        "from official.nlp import optimization  # to create AdamW optimizer"
      ]
    },
    {
      "cell_type": "code",
      "execution_count": null,
      "metadata": {
        "id": "cPWZwZBLPTQC",
        "colab": {
          "base_uri": "https://localhost:8080/"
        },
        "outputId": "8692f2ab-5d29-4322-d808-eeea57e6d0df"
      },
      "outputs": [
        {
          "output_type": "execute_result",
          "data": {
            "text/plain": [
              "(140, 8907)"
            ]
          },
          "metadata": {},
          "execution_count": 71
        }
      ],
      "source": [
        "num_features, num_training_samples"
      ]
    },
    {
      "cell_type": "code",
      "execution_count": null,
      "metadata": {
        "id": "YIp8eJ5hvWRu"
      },
      "outputs": [],
      "source": [
        "epochs = 1\n",
        "steps_per_epoch = num_training_samples\n",
        "num_train_steps = steps_per_epoch * epochs\n",
        "num_warmup_steps = int(0.1*num_train_steps)\n",
        "\n",
        "init_lr = 3e-5\n",
        "optimizer = optimization.create_optimizer(init_lr=init_lr,\n",
        "                                          num_train_steps=num_train_steps,\n",
        "                                          num_warmup_steps=num_warmup_steps,\n",
        "                                          optimizer_type='adamw')"
      ]
    },
    {
      "cell_type": "code",
      "execution_count": null,
      "metadata": {
        "id": "0bYb_Pgy05wH"
      },
      "outputs": [],
      "source": [
        "classifier_model.compile(optimizer=optimizer,\n",
        "                         loss=loss,\n",
        "                         metrics=metrics)"
      ]
    },
    {
      "cell_type": "code",
      "execution_count": null,
      "metadata": {
        "id": "jfvqoYXHQdC-",
        "colab": {
          "base_uri": "https://localhost:8080/"
        },
        "outputId": "5d2f1b3b-af89-4c79-edfb-fa3c3df527f4"
      },
      "outputs": [
        {
          "output_type": "execute_result",
          "data": {
            "text/plain": [
              "(dtype('<U294'), dtype('<U4'), dtype('<U214'), dtype('<U4'))"
            ]
          },
          "metadata": {},
          "execution_count": 74
        }
      ],
      "source": [
        "train_annotations = train_annotations.to_numpy().astype('str')\n",
        "train_labels = train_labels.to_numpy().astype('str')\n",
        "val_annotations = val_annotations.to_numpy().astype('str')\n",
        "val_labels = val_labels.to_numpy().astype('str')\n",
        "train_annotations.dtype, train_labels.dtype, val_annotations.dtype, val_labels.dtype"
      ]
    },
    {
      "cell_type": "code",
      "execution_count": null,
      "metadata": {
        "id": "-HI3ztMaQf0r",
        "colab": {
          "base_uri": "https://localhost:8080/",
          "height": 424
        },
        "outputId": "974703bc-7a52-4134-c828-cbf0c5943ca9"
      },
      "outputs": [
        {
          "output_type": "execute_result",
          "data": {
            "text/plain": [
              "      00  01  010  011  012  02  03  04  05  06  ...  9906  9907  9908  9909  \\\n",
              "0      0   0    0    0    0   0   0   0   0   0  ...     0     0     0     0   \n",
              "1      0   0    0    0    0   0   0   0   0   0  ...     0     0     0     0   \n",
              "2      0   0    0    0    0   0   0   0   0   0  ...     0     0     0     0   \n",
              "3      0   0    0    0    0   0   0   0   0   0  ...     0     0     0     0   \n",
              "4      0   0    0    0    0   0   0   0   0   0  ...     1     0     0     0   \n",
              "...   ..  ..  ...  ...  ...  ..  ..  ..  ..  ..  ...   ...   ...   ...   ...   \n",
              "8902   0   0    0    0    0   0   0   0   0   0  ...     0     0     0     0   \n",
              "8903   0   0    0    0    0   0   0   0   0   0  ...     0     0     0     0   \n",
              "8904   0   0    0    0    0   0   0   0   0   0  ...     0     0     0     0   \n",
              "8905   0   0    0    0    0   0   0   0   0   0  ...     0     0     0     0   \n",
              "8906   0   0    0    0    0   0   0   0   0   0  ...     0     0     0     0   \n",
              "\n",
              "      9910  9912  9913  9914  9915  9916  \n",
              "0        0     0     0     0     0     0  \n",
              "1        0     0     0     0     0     0  \n",
              "2        0     0     0     0     0     0  \n",
              "3        0     0     0     0     0     0  \n",
              "4        0     0     0     0     0     0  \n",
              "...    ...   ...   ...   ...   ...   ...  \n",
              "8902     0     0     0     0     0     0  \n",
              "8903     0     0     0     0     0     0  \n",
              "8904     0     0     0     0     0     0  \n",
              "8905     0     0     0     0     0     0  \n",
              "8906     0     0     0     0     0     0  \n",
              "\n",
              "[8907 rows x 140 columns]"
            ],
            "text/html": [
              "\n",
              "  <div id=\"df-e84bccab-cf3b-4f18-b8fb-b1e511c6dbcb\">\n",
              "    <div class=\"colab-df-container\">\n",
              "      <div>\n",
              "<style scoped>\n",
              "    .dataframe tbody tr th:only-of-type {\n",
              "        vertical-align: middle;\n",
              "    }\n",
              "\n",
              "    .dataframe tbody tr th {\n",
              "        vertical-align: top;\n",
              "    }\n",
              "\n",
              "    .dataframe thead th {\n",
              "        text-align: right;\n",
              "    }\n",
              "</style>\n",
              "<table border=\"1\" class=\"dataframe\">\n",
              "  <thead>\n",
              "    <tr style=\"text-align: right;\">\n",
              "      <th></th>\n",
              "      <th>00</th>\n",
              "      <th>01</th>\n",
              "      <th>010</th>\n",
              "      <th>011</th>\n",
              "      <th>012</th>\n",
              "      <th>02</th>\n",
              "      <th>03</th>\n",
              "      <th>04</th>\n",
              "      <th>05</th>\n",
              "      <th>06</th>\n",
              "      <th>...</th>\n",
              "      <th>9906</th>\n",
              "      <th>9907</th>\n",
              "      <th>9908</th>\n",
              "      <th>9909</th>\n",
              "      <th>9910</th>\n",
              "      <th>9912</th>\n",
              "      <th>9913</th>\n",
              "      <th>9914</th>\n",
              "      <th>9915</th>\n",
              "      <th>9916</th>\n",
              "    </tr>\n",
              "  </thead>\n",
              "  <tbody>\n",
              "    <tr>\n",
              "      <th>0</th>\n",
              "      <td>0</td>\n",
              "      <td>0</td>\n",
              "      <td>0</td>\n",
              "      <td>0</td>\n",
              "      <td>0</td>\n",
              "      <td>0</td>\n",
              "      <td>0</td>\n",
              "      <td>0</td>\n",
              "      <td>0</td>\n",
              "      <td>0</td>\n",
              "      <td>...</td>\n",
              "      <td>0</td>\n",
              "      <td>0</td>\n",
              "      <td>0</td>\n",
              "      <td>0</td>\n",
              "      <td>0</td>\n",
              "      <td>0</td>\n",
              "      <td>0</td>\n",
              "      <td>0</td>\n",
              "      <td>0</td>\n",
              "      <td>0</td>\n",
              "    </tr>\n",
              "    <tr>\n",
              "      <th>1</th>\n",
              "      <td>0</td>\n",
              "      <td>0</td>\n",
              "      <td>0</td>\n",
              "      <td>0</td>\n",
              "      <td>0</td>\n",
              "      <td>0</td>\n",
              "      <td>0</td>\n",
              "      <td>0</td>\n",
              "      <td>0</td>\n",
              "      <td>0</td>\n",
              "      <td>...</td>\n",
              "      <td>0</td>\n",
              "      <td>0</td>\n",
              "      <td>0</td>\n",
              "      <td>0</td>\n",
              "      <td>0</td>\n",
              "      <td>0</td>\n",
              "      <td>0</td>\n",
              "      <td>0</td>\n",
              "      <td>0</td>\n",
              "      <td>0</td>\n",
              "    </tr>\n",
              "    <tr>\n",
              "      <th>2</th>\n",
              "      <td>0</td>\n",
              "      <td>0</td>\n",
              "      <td>0</td>\n",
              "      <td>0</td>\n",
              "      <td>0</td>\n",
              "      <td>0</td>\n",
              "      <td>0</td>\n",
              "      <td>0</td>\n",
              "      <td>0</td>\n",
              "      <td>0</td>\n",
              "      <td>...</td>\n",
              "      <td>0</td>\n",
              "      <td>0</td>\n",
              "      <td>0</td>\n",
              "      <td>0</td>\n",
              "      <td>0</td>\n",
              "      <td>0</td>\n",
              "      <td>0</td>\n",
              "      <td>0</td>\n",
              "      <td>0</td>\n",
              "      <td>0</td>\n",
              "    </tr>\n",
              "    <tr>\n",
              "      <th>3</th>\n",
              "      <td>0</td>\n",
              "      <td>0</td>\n",
              "      <td>0</td>\n",
              "      <td>0</td>\n",
              "      <td>0</td>\n",
              "      <td>0</td>\n",
              "      <td>0</td>\n",
              "      <td>0</td>\n",
              "      <td>0</td>\n",
              "      <td>0</td>\n",
              "      <td>...</td>\n",
              "      <td>0</td>\n",
              "      <td>0</td>\n",
              "      <td>0</td>\n",
              "      <td>0</td>\n",
              "      <td>0</td>\n",
              "      <td>0</td>\n",
              "      <td>0</td>\n",
              "      <td>0</td>\n",
              "      <td>0</td>\n",
              "      <td>0</td>\n",
              "    </tr>\n",
              "    <tr>\n",
              "      <th>4</th>\n",
              "      <td>0</td>\n",
              "      <td>0</td>\n",
              "      <td>0</td>\n",
              "      <td>0</td>\n",
              "      <td>0</td>\n",
              "      <td>0</td>\n",
              "      <td>0</td>\n",
              "      <td>0</td>\n",
              "      <td>0</td>\n",
              "      <td>0</td>\n",
              "      <td>...</td>\n",
              "      <td>1</td>\n",
              "      <td>0</td>\n",
              "      <td>0</td>\n",
              "      <td>0</td>\n",
              "      <td>0</td>\n",
              "      <td>0</td>\n",
              "      <td>0</td>\n",
              "      <td>0</td>\n",
              "      <td>0</td>\n",
              "      <td>0</td>\n",
              "    </tr>\n",
              "    <tr>\n",
              "      <th>...</th>\n",
              "      <td>...</td>\n",
              "      <td>...</td>\n",
              "      <td>...</td>\n",
              "      <td>...</td>\n",
              "      <td>...</td>\n",
              "      <td>...</td>\n",
              "      <td>...</td>\n",
              "      <td>...</td>\n",
              "      <td>...</td>\n",
              "      <td>...</td>\n",
              "      <td>...</td>\n",
              "      <td>...</td>\n",
              "      <td>...</td>\n",
              "      <td>...</td>\n",
              "      <td>...</td>\n",
              "      <td>...</td>\n",
              "      <td>...</td>\n",
              "      <td>...</td>\n",
              "      <td>...</td>\n",
              "      <td>...</td>\n",
              "      <td>...</td>\n",
              "    </tr>\n",
              "    <tr>\n",
              "      <th>8902</th>\n",
              "      <td>0</td>\n",
              "      <td>0</td>\n",
              "      <td>0</td>\n",
              "      <td>0</td>\n",
              "      <td>0</td>\n",
              "      <td>0</td>\n",
              "      <td>0</td>\n",
              "      <td>0</td>\n",
              "      <td>0</td>\n",
              "      <td>0</td>\n",
              "      <td>...</td>\n",
              "      <td>0</td>\n",
              "      <td>0</td>\n",
              "      <td>0</td>\n",
              "      <td>0</td>\n",
              "      <td>0</td>\n",
              "      <td>0</td>\n",
              "      <td>0</td>\n",
              "      <td>0</td>\n",
              "      <td>0</td>\n",
              "      <td>0</td>\n",
              "    </tr>\n",
              "    <tr>\n",
              "      <th>8903</th>\n",
              "      <td>0</td>\n",
              "      <td>0</td>\n",
              "      <td>0</td>\n",
              "      <td>0</td>\n",
              "      <td>0</td>\n",
              "      <td>0</td>\n",
              "      <td>0</td>\n",
              "      <td>0</td>\n",
              "      <td>0</td>\n",
              "      <td>0</td>\n",
              "      <td>...</td>\n",
              "      <td>0</td>\n",
              "      <td>0</td>\n",
              "      <td>0</td>\n",
              "      <td>0</td>\n",
              "      <td>0</td>\n",
              "      <td>0</td>\n",
              "      <td>0</td>\n",
              "      <td>0</td>\n",
              "      <td>0</td>\n",
              "      <td>0</td>\n",
              "    </tr>\n",
              "    <tr>\n",
              "      <th>8904</th>\n",
              "      <td>0</td>\n",
              "      <td>0</td>\n",
              "      <td>0</td>\n",
              "      <td>0</td>\n",
              "      <td>0</td>\n",
              "      <td>0</td>\n",
              "      <td>0</td>\n",
              "      <td>0</td>\n",
              "      <td>0</td>\n",
              "      <td>0</td>\n",
              "      <td>...</td>\n",
              "      <td>0</td>\n",
              "      <td>0</td>\n",
              "      <td>0</td>\n",
              "      <td>0</td>\n",
              "      <td>0</td>\n",
              "      <td>0</td>\n",
              "      <td>0</td>\n",
              "      <td>0</td>\n",
              "      <td>0</td>\n",
              "      <td>0</td>\n",
              "    </tr>\n",
              "    <tr>\n",
              "      <th>8905</th>\n",
              "      <td>0</td>\n",
              "      <td>0</td>\n",
              "      <td>0</td>\n",
              "      <td>0</td>\n",
              "      <td>0</td>\n",
              "      <td>0</td>\n",
              "      <td>0</td>\n",
              "      <td>0</td>\n",
              "      <td>0</td>\n",
              "      <td>0</td>\n",
              "      <td>...</td>\n",
              "      <td>0</td>\n",
              "      <td>0</td>\n",
              "      <td>0</td>\n",
              "      <td>0</td>\n",
              "      <td>0</td>\n",
              "      <td>0</td>\n",
              "      <td>0</td>\n",
              "      <td>0</td>\n",
              "      <td>0</td>\n",
              "      <td>0</td>\n",
              "    </tr>\n",
              "    <tr>\n",
              "      <th>8906</th>\n",
              "      <td>0</td>\n",
              "      <td>0</td>\n",
              "      <td>0</td>\n",
              "      <td>0</td>\n",
              "      <td>0</td>\n",
              "      <td>0</td>\n",
              "      <td>0</td>\n",
              "      <td>0</td>\n",
              "      <td>0</td>\n",
              "      <td>0</td>\n",
              "      <td>...</td>\n",
              "      <td>0</td>\n",
              "      <td>0</td>\n",
              "      <td>0</td>\n",
              "      <td>0</td>\n",
              "      <td>0</td>\n",
              "      <td>0</td>\n",
              "      <td>0</td>\n",
              "      <td>0</td>\n",
              "      <td>0</td>\n",
              "      <td>0</td>\n",
              "    </tr>\n",
              "  </tbody>\n",
              "</table>\n",
              "<p>8907 rows × 140 columns</p>\n",
              "</div>\n",
              "      <button class=\"colab-df-convert\" onclick=\"convertToInteractive('df-e84bccab-cf3b-4f18-b8fb-b1e511c6dbcb')\"\n",
              "              title=\"Convert this dataframe to an interactive table.\"\n",
              "              style=\"display:none;\">\n",
              "        \n",
              "  <svg xmlns=\"http://www.w3.org/2000/svg\" height=\"24px\"viewBox=\"0 0 24 24\"\n",
              "       width=\"24px\">\n",
              "    <path d=\"M0 0h24v24H0V0z\" fill=\"none\"/>\n",
              "    <path d=\"M18.56 5.44l.94 2.06.94-2.06 2.06-.94-2.06-.94-.94-2.06-.94 2.06-2.06.94zm-11 1L8.5 8.5l.94-2.06 2.06-.94-2.06-.94L8.5 2.5l-.94 2.06-2.06.94zm10 10l.94 2.06.94-2.06 2.06-.94-2.06-.94-.94-2.06-.94 2.06-2.06.94z\"/><path d=\"M17.41 7.96l-1.37-1.37c-.4-.4-.92-.59-1.43-.59-.52 0-1.04.2-1.43.59L10.3 9.45l-7.72 7.72c-.78.78-.78 2.05 0 2.83L4 21.41c.39.39.9.59 1.41.59.51 0 1.02-.2 1.41-.59l7.78-7.78 2.81-2.81c.8-.78.8-2.07 0-2.86zM5.41 20L4 18.59l7.72-7.72 1.47 1.35L5.41 20z\"/>\n",
              "  </svg>\n",
              "      </button>\n",
              "      \n",
              "  <style>\n",
              "    .colab-df-container {\n",
              "      display:flex;\n",
              "      flex-wrap:wrap;\n",
              "      gap: 12px;\n",
              "    }\n",
              "\n",
              "    .colab-df-convert {\n",
              "      background-color: #E8F0FE;\n",
              "      border: none;\n",
              "      border-radius: 50%;\n",
              "      cursor: pointer;\n",
              "      display: none;\n",
              "      fill: #1967D2;\n",
              "      height: 32px;\n",
              "      padding: 0 0 0 0;\n",
              "      width: 32px;\n",
              "    }\n",
              "\n",
              "    .colab-df-convert:hover {\n",
              "      background-color: #E2EBFA;\n",
              "      box-shadow: 0px 1px 2px rgba(60, 64, 67, 0.3), 0px 1px 3px 1px rgba(60, 64, 67, 0.15);\n",
              "      fill: #174EA6;\n",
              "    }\n",
              "\n",
              "    [theme=dark] .colab-df-convert {\n",
              "      background-color: #3B4455;\n",
              "      fill: #D2E3FC;\n",
              "    }\n",
              "\n",
              "    [theme=dark] .colab-df-convert:hover {\n",
              "      background-color: #434B5C;\n",
              "      box-shadow: 0px 1px 3px 1px rgba(0, 0, 0, 0.15);\n",
              "      filter: drop-shadow(0px 1px 2px rgba(0, 0, 0, 0.3));\n",
              "      fill: #FFFFFF;\n",
              "    }\n",
              "  </style>\n",
              "\n",
              "      <script>\n",
              "        const buttonEl =\n",
              "          document.querySelector('#df-e84bccab-cf3b-4f18-b8fb-b1e511c6dbcb button.colab-df-convert');\n",
              "        buttonEl.style.display =\n",
              "          google.colab.kernel.accessAllowed ? 'block' : 'none';\n",
              "\n",
              "        async function convertToInteractive(key) {\n",
              "          const element = document.querySelector('#df-e84bccab-cf3b-4f18-b8fb-b1e511c6dbcb');\n",
              "          const dataTable =\n",
              "            await google.colab.kernel.invokeFunction('convertToInteractive',\n",
              "                                                     [key], {});\n",
              "          if (!dataTable) return;\n",
              "\n",
              "          const docLinkHtml = 'Like what you see? Visit the ' +\n",
              "            '<a target=\"_blank\" href=https://colab.research.google.com/notebooks/data_table.ipynb>data table notebook</a>'\n",
              "            + ' to learn more about interactive tables.';\n",
              "          element.innerHTML = '';\n",
              "          dataTable['output_type'] = 'display_data';\n",
              "          await google.colab.output.renderOutput(dataTable, element);\n",
              "          const docLink = document.createElement('div');\n",
              "          docLink.innerHTML = docLinkHtml;\n",
              "          element.appendChild(docLink);\n",
              "        }\n",
              "      </script>\n",
              "    </div>\n",
              "  </div>\n",
              "  "
            ]
          },
          "metadata": {},
          "execution_count": 75
        }
      ],
      "source": [
        "train_labels_cat = pd.get_dummies(train_labels,drop_first=False)\n",
        "val_labels_cat = pd.get_dummies(val_labels,drop_first=False)\n",
        "train_labels_cat"
      ]
    },
    {
      "cell_type": "code",
      "execution_count": null,
      "metadata": {
        "id": "yI-md3IEQqlo",
        "colab": {
          "base_uri": "https://localhost:8080/"
        },
        "outputId": "ea08f197-5b49-405e-c624-770f8d3417ec"
      },
      "outputs": [
        {
          "output_type": "execute_result",
          "data": {
            "text/plain": [
              "((8907,), (8907, 140), (990,), (990,), (990, 140))"
            ]
          },
          "metadata": {},
          "execution_count": 76
        }
      ],
      "source": [
        "train_annotations.shape, train_labels_cat.shape, val_annotations.shape, val_labels.shape, val_labels_cat.shape"
      ]
    },
    {
      "cell_type": "code",
      "execution_count": null,
      "metadata": {
        "id": "kaddTpzeMDf1"
      },
      "outputs": [],
      "source": [
        "#checkpoint_path = '/content/gdrive/My Drive/NBME/SavedModel/cp1.ckpt'\n",
        "#cp_callback = tf.keras.callbacks.ModelCheckpoint(filepath=checkpoint_path, save_weights_only=True, verbose=1)"
      ]
    },
    {
      "cell_type": "code",
      "execution_count": null,
      "metadata": {
        "id": "hNb5_fkx058I"
      },
      "outputs": [],
      "source": [
        "#print(f'Training model with {tfhub_handle_encoder}')\n",
        "#history = classifier_model.fit(train_annotations, train_labels_cat, epochs=1, validation_data=(val_annotations, val_labels_cat), callbacks=[cp_callback])\n"
      ]
    },
    {
      "cell_type": "code",
      "execution_count": null,
      "metadata": {
        "id": "g200g0pfh0Pl",
        "colab": {
          "base_uri": "https://localhost:8080/"
        },
        "outputId": "787b3bf3-228d-44e3-e548-9f769628084a"
      },
      "outputs": [
        {
          "output_type": "execute_result",
          "data": {
            "text/plain": [
              "(116, 36)"
            ]
          },
          "metadata": {},
          "execution_count": 79
        }
      ],
      "source": [
        "# Test model for new phrase\n",
        "new_annotations = np.array(['pressure in chest','shortness of breath'])\n",
        "new_annotations.shape\n",
        "predicted_output = classifier_model.predict(new_annotations)\n",
        "predicted_output.shape\n",
        "predicted_output0 = np.argmax(predicted_output[0])\n",
        "predicted_output1 = np.argmax(predicted_output[1])\n",
        "predicted_output0, predicted_output1"
      ]
    },
    {
      "cell_type": "code",
      "execution_count": null,
      "metadata": {
        "id": "0hFYfLphQjNY"
      },
      "outputs": [],
      "source": [
        ""
      ]
    },
    {
      "cell_type": "code",
      "execution_count": null,
      "metadata": {
        "id": "jVGkNL8wh0dm",
        "colab": {
          "base_uri": "https://localhost:8080/"
        },
        "outputId": "c4d4ca35-6b53-4c34-99a2-337598ea0824"
      },
      "outputs": [
        {
          "output_type": "stream",
          "name": "stdout",
          "text": [
            "Sentence --> 17-year-old male has come to the student health clinic complaining of heart pounding\n",
            "Sentence --> Mr\n",
            "Sentence --> Clevelands mother has given verbal consent for a history physical examination and treatment\n",
            "Sentence --> -began 2-3 months ago sudden intermittent for 2 days(lasting 3-4 min) worsening non-allev aggrav\n",
            "Sentence --> -associated with dispnea on exersion and rest stressed out about school\n",
            "Sentence --> -reports fe feels like his heart is jumping out of his chest\n",
            "Sentence --> -ros:denies chest pain dyaphoresis wt loss chills fever nausea vomiting pedal edeam\n",
            "Sentence --> -pmh:non meds :aderol (from a friend) nkda\n",
            "Sentence --> -fh:father had MI recently mother has thyroid dz\n",
            "Sentence --> -sh:non-smoker mariguana 5-6 months ago 3 beers on the weekend basketball at school\n",
            "Sentence --> -sh:no std \n"
          ]
        }
      ],
      "source": [
        "#Test full notes para\n",
        "input_para = '17-year-old male, has come to the student health clinic complaining of heart pounding. Mr. Cleveland\\'s mother has given verbal consent for a history, physical examination, and treatment\\r\\n-began 2-3 months ago,sudden,intermittent for 2 days(lasting 3-4 min),worsening,non-allev/aggrav\\r\\n-associated with dispnea on exersion and rest,stressed out about school\\r\\n-reports fe feels like his heart is jumping out of his chest\\r\\n-ros:denies chest pain,dyaphoresis,wt loss,chills,fever,nausea,vomiting,pedal edeam\\r\\n-pmh:non,meds :aderol (from a friend),nkda\\r\\n-fh:father had MI recently,mother has thyroid dz\\r\\n-sh:non-smoker,mariguana 5-6 months ago,3 beers on the weekend, basketball at school\\r\\n-sh:no std '\n",
        "input_para = cleanText(input_para)\n",
        "test_sentences = re.split('; |\\. |\\* |\\n', input_para)\n",
        "\n",
        "for test_sentence in test_sentences:\n",
        "  print(f\"Sentence --> {test_sentence}\")"
      ]
    },
    {
      "cell_type": "code",
      "execution_count": null,
      "metadata": {
        "id": "I0t1PvDJkw3B"
      },
      "outputs": [],
      "source": [
        "def PrintTop3OtherClasses(arraylen, test_predictions):\n",
        "  #arraylen = len(test_predictions_class)\n",
        "  #thistype = test_predictions_class.dtype\n",
        "  sorted_predictions = np.argsort(test_predictions)\n",
        "  print(f\"Top 3 args - {ind_to_label[sorted_predictions[arraylen-1]]}-{test_predictions[sorted_predictions[arraylen-1]]}\")\n",
        "  print(f\"             {ind_to_label[sorted_predictions[arraylen-2]]}-{test_predictions[sorted_predictions[arraylen-2]]}\")\n",
        "  print(f\"             {ind_to_label[sorted_predictions[arraylen-3]]}-{test_predictions[sorted_predictions[arraylen-3]]}\")\n",
        "  #print (f\"Type is {thistype}\")\n",
        "  return"
      ]
    },
    {
      "cell_type": "code",
      "execution_count": null,
      "metadata": {
        "id": "8y3T6-jolhsN",
        "colab": {
          "base_uri": "https://localhost:8080/"
        },
        "outputId": "939985f0-f529-489a-fc90-893ed7eddfc1"
      },
      "outputs": [
        {
          "output_type": "execute_result",
          "data": {
            "text/plain": [
              "48"
            ]
          },
          "metadata": {},
          "execution_count": 82
        }
      ],
      "source": [
        "labelvocab = sorted(set(train_labels))\n",
        "labelvocab\n",
        "\n",
        "# Assign unique integers to each char\n",
        "label_to_ind = {u:i for i, u in enumerate(labelvocab)}\n",
        "label_to_ind['3306']"
      ]
    },
    {
      "cell_type": "code",
      "execution_count": null,
      "metadata": {
        "id": "Xe0l-gJOliVH",
        "colab": {
          "base_uri": "https://localhost:8080/",
          "height": 36
        },
        "outputId": "17e18331-2c8c-43fd-d4c4-01e22ed46cbf"
      },
      "outputs": [
        {
          "output_type": "execute_result",
          "data": {
            "text/plain": [
              "'3306'"
            ],
            "application/vnd.google.colaboratory.intrinsic+json": {
              "type": "string"
            }
          },
          "metadata": {},
          "execution_count": 83
        }
      ],
      "source": [
        "ind_to_label = np.array(labelvocab)\n",
        "ind_to_label[48]"
      ]
    },
    {
      "cell_type": "code",
      "execution_count": null,
      "metadata": {
        "id": "l1MEwBVamU7i",
        "colab": {
          "base_uri": "https://localhost:8080/",
          "height": 36
        },
        "outputId": "7891644e-f1d5-42ff-bc9b-75a317d92ef1"
      },
      "outputs": [
        {
          "output_type": "execute_result",
          "data": {
            "text/plain": [
              "'8810'"
            ],
            "application/vnd.google.colaboratory.intrinsic+json": {
              "type": "string"
            }
          },
          "metadata": {},
          "execution_count": 84
        }
      ],
      "source": [
        "new_annotations = np.array(['17-year-old male, has come to the student health clinic complaining of heart pounding'])\n",
        "predicted_output = classifier_model.predict(new_annotations)\n",
        "ind_to_label[np.argmax(predicted_output)]"
      ]
    },
    {
      "cell_type": "code",
      "execution_count": null,
      "metadata": {
        "id": "rm30fZCMmVKx"
      },
      "outputs": [],
      "source": [
        ""
      ]
    },
    {
      "cell_type": "code",
      "execution_count": null,
      "metadata": {
        "id": "mhj_gUFjkxC1",
        "colab": {
          "base_uri": "https://localhost:8080/"
        },
        "outputId": "3dd887dc-7b3e-4549-da80-edfe0b969377"
      },
      "outputs": [
        {
          "output_type": "stream",
          "name": "stdout",
          "text": [
            "Sentence - 17-year-old male has come to the student health clinic complaining of heart pounding\n",
            "----> Class 2213/38\n",
            "Top 3 args - 2213-0.021633759140968323\n",
            "             8810-0.021097999066114426\n",
            "             4403-0.020617568865418434\n",
            "Sentence - Mr\n",
            "----> Class 2211/36\n",
            "Top 3 args - 2211-0.020523542538285255\n",
            "             8810-0.01596352644264698\n",
            "             1112-0.014698300510644913\n",
            "Sentence - Clevelands mother has given verbal consent for a history physical examination and treatment\n",
            "----> Class 2213/38\n",
            "Top 3 args - 2213-0.02216741070151329\n",
            "             8810-0.018368756398558617\n",
            "             2211-0.017605232074856758\n",
            "Sentence - -began 2-3 months ago sudden intermittent for 2 days(lasting 3-4 min) worsening non-allev aggrav\n",
            "----> Class 8810/116\n",
            "Top 3 args - 8810-0.024426346644759178\n",
            "             2213-0.018852798268198967\n",
            "             2211-0.018680300563573837\n",
            "Sentence - -associated with dispnea on exersion and rest stressed out about school\n",
            "----> Class 2211/36\n",
            "Top 3 args - 2211-0.01725703850388527\n",
            "             8810-0.016354650259017944\n",
            "             2213-0.016064366325736046\n",
            "Sentence - -reports fe feels like his heart is jumping out of his chest\n",
            "----> Class 2213/38\n",
            "Top 3 args - 2213-0.02356084994971752\n",
            "             4403-0.02061655931174755\n",
            "             8810-0.019458621740341187\n",
            "Sentence - -ros:denies chest pain dyaphoresis wt loss chills fever nausea vomiting pedal edeam\n",
            "----> Class 8810/116\n",
            "Top 3 args - 8810-0.021494966000318527\n",
            "             2211-0.01784520223736763\n",
            "             4403-0.01759650558233261\n",
            "Sentence - -pmh:non meds :aderol (from a friend) nkda\n",
            "----> Class 8810/116\n",
            "Top 3 args - 8810-0.021740976721048355\n",
            "             2213-0.01895417459309101\n",
            "             4403-0.01822151243686676\n",
            "Sentence - -fh:father had MI recently mother has thyroid dz\n",
            "----> Class 8810/116\n",
            "Top 3 args - 8810-0.02056167647242546\n",
            "             8801-0.01955198310315609\n",
            "             4403-0.0182955302298069\n",
            "Sentence - -sh:non-smoker mariguana 5-6 months ago 3 beers on the weekend basketball at school\n",
            "----> Class 2213/38\n",
            "Top 3 args - 2213-0.021244078874588013\n",
            "             4403-0.01977277547121048\n",
            "             8801-0.01921892538666725\n",
            "Sentence - -sh:no std \n",
            "----> Class 8810/116\n",
            "Top 3 args - 8810-0.020400458946824074\n",
            "             4403-0.017539007589221\n",
            "             8803-0.016934877261519432\n"
          ]
        },
        {
          "output_type": "execute_result",
          "data": {
            "text/plain": [
              "('17-year-old male has come to the student health clinic complaining of heart pounding',\n",
              " array([0.00890714, 0.0018902 , 0.00323203, 0.01062412, 0.00483721,\n",
              "        0.00402004, 0.00931679, 0.006478  , 0.00465052, 0.01449628,\n",
              "        0.00287899, 0.01431544, 0.00409612, 0.00887787, 0.00288097,\n",
              "        0.00256338, 0.01515909, 0.00704327, 0.00557247, 0.00316956,\n",
              "        0.0059529 , 0.00797321, 0.0053382 , 0.00988334, 0.00568489,\n",
              "        0.00954142, 0.00317516, 0.00994974, 0.00656027, 0.00831207,\n",
              "        0.01006704, 0.00245654, 0.00245349, 0.00232769, 0.00557653,\n",
              "        0.00750821, 0.01774448, 0.01206024, 0.02163376, 0.00424702,\n",
              "        0.01324609, 0.00862621, 0.00464336, 0.00398764, 0.00642515,\n",
              "        0.00485009, 0.00769926, 0.01261759, 0.00664806, 0.00414133,\n",
              "        0.0056314 , 0.0149384 , 0.00366762, 0.00559459, 0.00252887,\n",
              "        0.00326564, 0.00502231, 0.00519836, 0.00481131, 0.00699128,\n",
              "        0.00684899, 0.02061757, 0.006403  , 0.00692926, 0.00950954,\n",
              "        0.00480032, 0.00511224, 0.00181382, 0.00947417, 0.01166414,\n",
              "        0.00454002, 0.00602799, 0.00397838, 0.00987093, 0.00433909,\n",
              "        0.01002375, 0.00549784, 0.00700747, 0.00560432, 0.00456748,\n",
              "        0.00573789, 0.00359331, 0.00520103, 0.00255522, 0.00176665,\n",
              "        0.00191623, 0.00560084, 0.00634768, 0.01260207, 0.00562198,\n",
              "        0.00791234, 0.00300272, 0.00582072, 0.01249284, 0.0043955 ,\n",
              "        0.00594561, 0.00393401, 0.00795438, 0.00465506, 0.0106995 ,\n",
              "        0.00468507, 0.01692677, 0.01744377, 0.00696173, 0.00365915,\n",
              "        0.00663617, 0.01015417, 0.00907874, 0.01734431, 0.00315037,\n",
              "        0.0151028 , 0.00476686, 0.01104644, 0.00343733, 0.00777201,\n",
              "        0.00443769, 0.021098  , 0.0064838 , 0.0072138 , 0.00443959,\n",
              "        0.00824683, 0.00241644, 0.00780263, 0.01027151, 0.01166273,\n",
              "        0.00267703, 0.00483145, 0.008017  , 0.00954329, 0.00466993,\n",
              "        0.00343119, 0.0064787 , 0.00222434, 0.00684111, 0.0070385 ,\n",
              "        0.00255886, 0.00836615, 0.00614414, 0.01236522, 0.00619829],\n",
              "       dtype=float32))"
            ]
          },
          "metadata": {},
          "execution_count": 85
        }
      ],
      "source": [
        "# For each sentence, call NN model and get output\n",
        "\n",
        "test_predictions = classifier_model.predict(test_sentences)\n",
        "test_predictions_class = np.argmax(test_predictions,axis=1)\n",
        "\n",
        "arraylen = len(test_predictions_class)\n",
        "test_predictions_class_label = np.empty(arraylen,dtype='U100')\n",
        "for i in range(arraylen): \n",
        "  test_predictions_class_label[i] = ind_to_label[test_predictions_class[i]]\n",
        "  print(f\"Sentence - {test_sentences[i]}\")\n",
        "  print(f\"----> Class {test_predictions_class_label[i]}/{test_predictions_class[i]}\")\n",
        "  PrintTop3OtherClasses(num_features, test_predictions[i])\n",
        "#test_predictions_class, test_predictions_class_label, test_predictions_class.dtype\n",
        "test_sentences[0], test_predictions[0]"
      ]
    },
    {
      "cell_type": "code",
      "execution_count": null,
      "metadata": {
        "id": "F7gUkfyzkxOT",
        "colab": {
          "base_uri": "https://localhost:8080/"
        },
        "outputId": "ecd6b6aa-1994-4133-c0b0-71ba5a30ba7b"
      },
      "outputs": [
        {
          "output_type": "stream",
          "name": "stdout",
          "text": [
            "Now what?\n"
          ]
        }
      ],
      "source": [
        "print(\"Now what?\")"
      ]
    },
    {
      "cell_type": "markdown",
      "metadata": {
        "id": "DMcLYQlpQGEe"
      },
      "source": [
        "============================================================================================================================================================"
      ]
    },
    {
      "cell_type": "code",
      "execution_count": null,
      "metadata": {
        "id": "V-H6u7-WPkEp"
      },
      "outputs": [],
      "source": [
        "# How to bias the model, so it makes use of the known person info\n",
        "# Idea 1: Apply weights to the loss function to weigh the person related classes more\n",
        "#      Ref: https://www.tensorflow.org/tutorials/structured_data/imbalanced_data\n",
        "# Idea 2: Develop different models for different standard patients\n",
        "# Idea 3: One model to determine sex, one model to determine symptoms, one model to determine family history"
      ]
    },
    {
      "cell_type": "code",
      "execution_count": null,
      "metadata": {
        "id": "g92Ausd96r49"
      },
      "outputs": [],
      "source": [
        "# Read test data\n",
        "test_case = 0"
      ]
    },
    {
      "cell_type": "code",
      "execution_count": null,
      "metadata": {
        "id": "YAhZkOll6xa1"
      },
      "outputs": [],
      "source": [
        "def getCaseForFeature(i):\n",
        "  label = ind_to_label[i]\n",
        "  case = int(label[0])\n",
        "  return case"
      ]
    },
    {
      "cell_type": "code",
      "execution_count": null,
      "metadata": {
        "id": "-9aN7PIe5LfW"
      },
      "outputs": [],
      "source": [
        "# Define feature weights\n",
        "\n",
        "feature_weights = np.empty(num_features,dtype='int')\n",
        "for i in range(num_features):\n",
        "  this_case = getCaseForFeature(i)\n",
        "  #print(f\"This case {this_case}\")\n",
        "  if (this_case == test_case):\n",
        "    feature_weights[i] = 100\n",
        "  else:\n",
        "    feature_weights[i] = 1\n",
        "\n",
        "#feature_weights[num_features-1] = 1"
      ]
    },
    {
      "cell_type": "code",
      "execution_count": null,
      "metadata": {
        "id": "_LDa2sVk7Ejr",
        "colab": {
          "base_uri": "https://localhost:8080/"
        },
        "outputId": "694bb34c-4b6f-47ee-89ae-c5c105d882fd"
      },
      "outputs": [
        {
          "output_type": "execute_result",
          "data": {
            "text/plain": [
              "(140, array([100, 100, 100, 100, 100, 100, 100, 100, 100, 100, 100, 100, 100,\n",
              "          1,   1,   1,   1,   1,   1,   1,   1,   1,   1,   1,   1,   1,\n",
              "          1,   1,   1,   1,   1,   1,   1,   1,   1,   1,   1,   1,   1,\n",
              "          1,   1,   1,   1,   1,   1,   1,   1,   1,   1,   1,   1,   1,\n",
              "          1,   1,   1,   1,   1,   1,   1,   1,   1,   1,   1,   1,   1,\n",
              "          1,   1,   1,   1,   1,   1,   1,   1,   1,   1,   1,   1,   1,\n",
              "          1,   1,   1,   1,   1,   1,   1,   1,   1,   1,   1,   1,   1,\n",
              "          1,   1,   1,   1,   1,   1,   1,   1,   1,   1,   1,   1,   1,\n",
              "          1,   1,   1,   1,   1,   1,   1,   1,   1,   1,   1,   1,   1,\n",
              "          1,   1,   1,   1,   1,   1,   1,   1,   1,   1,   1,   1,   1,\n",
              "          1,   1,   1,   1,   1,   1,   1,   1,   1,   1]))"
            ]
          },
          "metadata": {},
          "execution_count": 91
        }
      ],
      "source": [
        "num_features,feature_weights"
      ]
    },
    {
      "cell_type": "code",
      "execution_count": null,
      "metadata": {
        "id": "9SXLm_4JJbEd"
      },
      "outputs": [],
      "source": [
        "# Define class_weight dictionary\n",
        "\n",
        "#wi = [0,10,20,30]\n",
        "#d = dict(enumerate(wi, 45))\n",
        "#d\n",
        "\n",
        "class_weight = dict(enumerate(feature_weights,0))\n",
        "#class_weight"
      ]
    },
    {
      "cell_type": "code",
      "execution_count": null,
      "metadata": {
        "id": "ofKdKUFjH9bE"
      },
      "outputs": [],
      "source": [
        "#classifier_model.fit(train_annotations, train_labels_cat, epochs=1, validation_data=(val_annotations, val_labels_cat), callbacks=[cp_callback], class_weight=class_weight)\n"
      ]
    },
    {
      "cell_type": "code",
      "execution_count": null,
      "metadata": {
        "id": "RSCOr2UYH9mG",
        "colab": {
          "base_uri": "https://localhost:8080/"
        },
        "outputId": "f758ba1c-c9b5-4454-9fc6-21875b0e403e"
      },
      "outputs": [
        {
          "output_type": "stream",
          "name": "stdout",
          "text": [
            "Sentence - 17-year-old male has come to the student health clinic complaining of heart pounding\n",
            "----> Class 2213/38\n",
            "Top 3 args - 2213-0.021633759140968323\n",
            "             8810-0.021097999066114426\n",
            "             4403-0.020617568865418434\n",
            "Sentence - Mr\n",
            "----> Class 2211/36\n",
            "Top 3 args - 2211-0.020523542538285255\n",
            "             8810-0.01596352644264698\n",
            "             1112-0.014698300510644913\n",
            "Sentence - Clevelands mother has given verbal consent for a history physical examination and treatment\n",
            "----> Class 2213/38\n",
            "Top 3 args - 2213-0.02216741070151329\n",
            "             8810-0.018368756398558617\n",
            "             2211-0.017605232074856758\n",
            "Sentence - -began 2-3 months ago sudden intermittent for 2 days(lasting 3-4 min) worsening non-allev aggrav\n",
            "----> Class 8810/116\n",
            "Top 3 args - 8810-0.024426346644759178\n",
            "             2213-0.018852798268198967\n",
            "             2211-0.018680300563573837\n",
            "Sentence - -associated with dispnea on exersion and rest stressed out about school\n",
            "----> Class 2211/36\n",
            "Top 3 args - 2211-0.01725703850388527\n",
            "             8810-0.016354650259017944\n",
            "             2213-0.016064366325736046\n",
            "Sentence - -reports fe feels like his heart is jumping out of his chest\n",
            "----> Class 2213/38\n",
            "Top 3 args - 2213-0.02356084994971752\n",
            "             4403-0.02061655931174755\n",
            "             8810-0.019458621740341187\n",
            "Sentence - -ros:denies chest pain dyaphoresis wt loss chills fever nausea vomiting pedal edeam\n",
            "----> Class 8810/116\n",
            "Top 3 args - 8810-0.021494966000318527\n",
            "             2211-0.01784520223736763\n",
            "             4403-0.01759650558233261\n",
            "Sentence - -pmh:non meds :aderol (from a friend) nkda\n",
            "----> Class 8810/116\n",
            "Top 3 args - 8810-0.021740976721048355\n",
            "             2213-0.01895417459309101\n",
            "             4403-0.01822151243686676\n",
            "Sentence - -fh:father had MI recently mother has thyroid dz\n",
            "----> Class 8810/116\n",
            "Top 3 args - 8810-0.02056167647242546\n",
            "             8801-0.01955198310315609\n",
            "             4403-0.0182955302298069\n",
            "Sentence - -sh:non-smoker mariguana 5-6 months ago 3 beers on the weekend basketball at school\n",
            "----> Class 2213/38\n",
            "Top 3 args - 2213-0.021244078874588013\n",
            "             4403-0.01977277547121048\n",
            "             8801-0.01921892538666725\n",
            "Sentence - -sh:no std \n",
            "----> Class 8810/116\n",
            "Top 3 args - 8810-0.020400458946824074\n",
            "             4403-0.017539007589221\n",
            "             8803-0.016934877261519432\n"
          ]
        }
      ],
      "source": [
        "# For each sentence, call NN model and get output\n",
        "\n",
        "test_predictions = classifier_model.predict(test_sentences)\n",
        "test_predictions_class = np.argmax(test_predictions,axis=1)\n",
        "\n",
        "arraylen = len(test_predictions_class)\n",
        "test_predictions_class_label = np.empty(arraylen,dtype='U100')\n",
        "for i in range(arraylen): \n",
        "  test_predictions_class_label[i] = ind_to_label[test_predictions_class[i]]\n",
        "  print(f\"Sentence - {test_sentences[i]}\")\n",
        "  print(f\"----> Class {test_predictions_class_label[i]}/{test_predictions_class[i]}\")\n",
        "  PrintTop3OtherClasses(num_features, test_predictions[i])\n",
        "#test_predictions_class, test_predictions_class_label, test_predictions_class.dtype\n",
        "#test_sentences[0], test_predictions[0]"
      ]
    },
    {
      "cell_type": "code",
      "execution_count": null,
      "metadata": {
        "id": "6tkLs18kRl87",
        "colab": {
          "base_uri": "https://localhost:8080/"
        },
        "outputId": "c0b69404-147c-4b38-aca8-ad9c40cb9b02"
      },
      "outputs": [
        {
          "output_type": "stream",
          "name": "stdout",
          "text": [
            "GO to next step)\n"
          ]
        }
      ],
      "source": [
        "print(\"GO to next step)\")"
      ]
    },
    {
      "cell_type": "code",
      "execution_count": null,
      "metadata": {
        "id": "NyjAKgW5H9xf"
      },
      "outputs": [],
      "source": [
        "# Answers unsatisfactory\n",
        "# Try sending smaller text sequences to model for each test annotation rather than the whole sentence\n"
      ]
    },
    {
      "cell_type": "markdown",
      "metadata": {
        "id": "oHCbG-QO5vys"
      },
      "source": [
        "\n",
        "\n",
        "---\n",
        "\n"
      ]
    },
    {
      "cell_type": "code",
      "execution_count": null,
      "metadata": {
        "id": "75O1oOJy2Xc5"
      },
      "outputs": [],
      "source": [
        "model1 = build_classifier_model()"
      ]
    },
    {
      "cell_type": "code",
      "execution_count": null,
      "metadata": {
        "id": "F7M1mJ8Q3Q6n"
      },
      "outputs": [],
      "source": [
        "model1.compile(optimizer=optimizer,loss=loss,metrics=metrics)"
      ]
    },
    {
      "cell_type": "code",
      "execution_count": null,
      "metadata": {
        "id": "0VkDqBMN2Xpk",
        "colab": {
          "base_uri": "https://localhost:8080/"
        },
        "outputId": "9d7790c4-6ace-4111-fdee-a246556e168f"
      },
      "outputs": [
        {
          "output_type": "stream",
          "name": "stderr",
          "text": [
            "/usr/local/lib/python3.7/dist-packages/tensorflow/python/util/dispatch.py:1082: UserWarning: \"`categorical_crossentropy` received `from_logits=True`, but the `output` argument was produced by a sigmoid or softmax activation and thus does not represent logits. Was this intended?\"\n",
            "  return dispatch_target(*args, **kwargs)\n"
          ]
        },
        {
          "output_type": "stream",
          "name": "stdout",
          "text": [
            "31/31 - 7s - loss: 5.1103 - categorical_accuracy: 0.0131 - 7s/epoch - 241ms/step\n",
            "Untrained model, accuracy =  1.31%\n"
          ]
        }
      ],
      "source": [
        "loss,acc = model1.evaluate(val_annotations, val_labels_cat, verbose=2)\n",
        "print(\"Untrained model, accuracy = {:5.2f}%\".format(100*acc))"
      ]
    },
    {
      "cell_type": "code",
      "execution_count": null,
      "metadata": {
        "id": "s7Tl8YMr2X0R",
        "colab": {
          "base_uri": "https://localhost:8080/"
        },
        "outputId": "3caecc5a-a9e5-46d5-b19f-fb4acb9a4dc1"
      },
      "outputs": [
        {
          "output_type": "stream",
          "name": "stdout",
          "text": [
            "31/31 - 7s - loss: 0.3483 - categorical_accuracy: 0.8414 - 7s/epoch - 213ms/step\n",
            "Trained model, accuracy = 84.14%\n",
            "GO to next step)\n"
          ]
        }
      ],
      "source": [
        "checkpoint_path = '/content/gdrive/My Drive/NBME/SavedModel/cp1.ckpt'\n",
        "model1.load_weights(checkpoint_path)\n",
        "loss,acc = model1.evaluate(val_annotations, val_labels_cat, verbose=2)\n",
        "print(\"Trained model, accuracy = {:5.2f}%\".format(100*acc))\n",
        "print(\"GO to next step)\")"
      ]
    },
    {
      "cell_type": "code",
      "execution_count": null,
      "metadata": {
        "id": "Ut9UJsra40W7",
        "colab": {
          "base_uri": "https://localhost:8080/"
        },
        "outputId": "527bdf91-5fa7-40bd-ea5b-5e460a468ff0"
      },
      "outputs": [
        {
          "output_type": "stream",
          "name": "stdout",
          "text": [
            "Sentence --> 17-year-old male has come to the student health clinic complaining of heart pounding\n",
            "Sentence --> Mr\n",
            "Sentence --> Clevelands mother has given verbal consent for a history physical examination and treatment\n",
            "Sentence --> -began 2-3 months ago sudden intermittent for 2 days(lasting 3-4 min) worsening non-allev aggrav\n",
            "Sentence --> -associated with dispnea on exersion and rest stressed out about school\n",
            "Sentence --> -reports fe feels like his heart is jumping out of his chest\n",
            "Sentence --> -ros:denies chest pain dyaphoresis wt loss chills fever nausea vomiting pedal edeam\n",
            "Sentence --> -pmh:non meds :aderol (from a friend) nkda\n",
            "Sentence --> -fh:father had MI recently mother has thyroid dz\n",
            "Sentence --> -sh:non-smoker mariguana 5-6 months ago 3 beers on the weekend basketball at school\n",
            "Sentence --> -sh:no std \n"
          ]
        }
      ],
      "source": [
        "#Test full notes para\n",
        "input_para = '17-year-old male, has come to the student health clinic complaining of heart pounding. Mr. Cleveland\\'s mother has given verbal consent for a history, physical examination, and treatment\\r\\n-began 2-3 months ago,sudden,intermittent for 2 days(lasting 3-4 min),worsening,non-allev/aggrav\\r\\n-associated with dispnea on exersion and rest,stressed out about school\\r\\n-reports fe feels like his heart is jumping out of his chest\\r\\n-ros:denies chest pain,dyaphoresis,wt loss,chills,fever,nausea,vomiting,pedal edeam\\r\\n-pmh:non,meds :aderol (from a friend),nkda\\r\\n-fh:father had MI recently,mother has thyroid dz\\r\\n-sh:non-smoker,mariguana 5-6 months ago,3 beers on the weekend, basketball at school\\r\\n-sh:no std '\n",
        "input_para = cleanText(input_para)\n",
        "test_sentences = re.split('; |\\. |\\* |\\n', input_para)\n",
        "\n",
        "\n",
        "for test_sentence in test_sentences:\n",
        "  print(f\"Sentence --> {test_sentence}\")"
      ]
    },
    {
      "cell_type": "code",
      "source": [
        "test_string = \"abcd \"\n",
        "test_string1 = test_string[:-1]\n",
        "test_string, test_string1"
      ],
      "metadata": {
        "colab": {
          "base_uri": "https://localhost:8080/"
        },
        "id": "G84kKdTS62bn",
        "outputId": "562216a8-ab9a-4e33-d756-37e2706d1bf5"
      },
      "execution_count": null,
      "outputs": [
        {
          "output_type": "execute_result",
          "data": {
            "text/plain": [
              "('abcd ', 'abcd')"
            ]
          },
          "metadata": {},
          "execution_count": 102
        }
      ]
    },
    {
      "cell_type": "code",
      "execution_count": null,
      "metadata": {
        "id": "B7bbaMQ0lRPY"
      },
      "outputs": [],
      "source": [
        "def GetPhrase(wordlist, start, mylength):\n",
        "  newstring = ''\n",
        "  for i in range(start,start+mylength):\n",
        "    newstring = newstring + wordlist[i] + \" \"\n",
        "    \n",
        "  #remove last space\n",
        "  newstring = newstring[:-1]\n",
        "  \n",
        "  return newstring\n"
      ]
    },
    {
      "cell_type": "code",
      "execution_count": null,
      "metadata": {
        "id": "w8Tg3yNrnExv",
        "colab": {
          "base_uri": "https://localhost:8080/",
          "height": 36
        },
        "outputId": "3ea13e91-8e31-437f-f49b-24f6b05dffa4"
      },
      "outputs": [
        {
          "output_type": "execute_result",
          "data": {
            "text/plain": [
              "'Mr'"
            ],
            "application/vnd.google.colaboratory.intrinsic+json": {
              "type": "string"
            }
          },
          "metadata": {},
          "execution_count": 104
        }
      ],
      "source": [
        "test_sentences[1]"
      ]
    },
    {
      "cell_type": "code",
      "execution_count": null,
      "metadata": {
        "id": "hDiX1e98okA_"
      },
      "outputs": [],
      "source": [
        ""
      ]
    },
    {
      "cell_type": "code",
      "execution_count": null,
      "metadata": {
        "id": "aafA5CVTokQK",
        "colab": {
          "base_uri": "https://localhost:8080/"
        },
        "outputId": "8754109c-8f22-483c-a251-2d3cfd863555"
      },
      "outputs": [
        {
          "output_type": "stream",
          "name": "stdout",
          "text": [
            "Sentence - Male has come to the student health clinic complaining of heart pounding.\n",
            "----> Class 09/12\n",
            "Top 3 args - 09-0.37857019901275635\n",
            "             5504-0.2651226818561554\n",
            "             5505-0.11379439383745193\n"
          ]
        },
        {
          "output_type": "execute_result",
          "data": {
            "text/plain": [
              "array([4.84672812e-04, 7.46891252e-04, 1.76277442e-03, 1.36875419e-03,\n",
              "       5.57353313e-04, 8.64524685e-04, 2.54564482e-04, 4.09991408e-05,\n",
              "       6.24283799e-04, 3.81917926e-05, 3.56281118e-04, 8.25841562e-04,\n",
              "       3.78570199e-01, 6.33655058e-04, 2.47183343e-04, 7.80763730e-05,\n",
              "       2.19749357e-03, 1.38955086e-03, 1.29763939e-04, 2.13033869e-04,\n",
              "       4.91888355e-03, 5.68185933e-04, 6.59407116e-04, 1.26928114e-03,\n",
              "       1.49367697e-04, 2.66556483e-04, 1.47180763e-04, 5.79197076e-05,\n",
              "       2.21943413e-03, 4.80595278e-03, 1.09614497e-02, 7.24604644e-04,\n",
              "       4.48890822e-03, 5.75035717e-03, 5.87704671e-05, 2.22949806e-04,\n",
              "       3.03416373e-03, 8.24586779e-04, 2.69979155e-05, 3.32829106e-04,\n",
              "       2.81212095e-04, 3.86416708e-04, 9.20700096e-03, 1.59430746e-02,\n",
              "       2.64684227e-03, 1.45535378e-04, 5.79516229e-04, 9.75516450e-05,\n",
              "       1.56385312e-03, 1.05253542e-02, 9.14241537e-04, 1.09260948e-03,\n",
              "       1.85865781e-03, 1.54553927e-04, 3.32168420e-04, 5.00802742e-03,\n",
              "       3.29623092e-03, 3.02386965e-04, 3.94833088e-03, 1.62080990e-03,\n",
              "       3.63312611e-05, 4.77565918e-03, 1.73531691e-04, 3.22744854e-05,\n",
              "       2.10376111e-05, 6.70257359e-05, 5.91028693e-05, 9.79829638e-05,\n",
              "       3.18446342e-04, 3.41129815e-03, 3.01574427e-03, 4.05243272e-03,\n",
              "       2.65122682e-01, 1.13794394e-01, 4.12458368e-03, 1.20549026e-04,\n",
              "       4.81981691e-03, 5.95843419e-03, 2.81530060e-03, 3.23697059e-05,\n",
              "       2.33313040e-04, 4.20773961e-03, 2.09718171e-04, 1.57059031e-03,\n",
              "       3.13603639e-04, 2.24991865e-03, 1.79493485e-03, 3.26332753e-04,\n",
              "       1.09323021e-03, 3.31197330e-03, 7.11556524e-03, 1.15505839e-02,\n",
              "       1.85611396e-04, 8.41731264e-04, 9.11931711e-05, 3.25353141e-03,\n",
              "       1.97396788e-04, 4.83591080e-04, 4.29781619e-04, 2.03391886e-03,\n",
              "       3.37360078e-04, 5.17134722e-05, 5.23737763e-05, 1.67655307e-05,\n",
              "       1.15493334e-04, 2.67851725e-03, 1.84894925e-05, 1.71127822e-03,\n",
              "       2.23992602e-03, 2.79960572e-04, 5.45929745e-03, 3.62569808e-05,\n",
              "       8.14429513e-05, 8.48601194e-05, 4.76273068e-04, 1.08661203e-04,\n",
              "       1.97163783e-03, 2.15843110e-03, 2.80235981e-04, 7.52784777e-03,\n",
              "       6.37855483e-05, 7.49785162e-04, 1.74058587e-04, 6.21928484e-05,\n",
              "       1.54166686e-04, 7.88746460e-04, 6.79452962e-04, 8.28968710e-04,\n",
              "       7.55761005e-03, 2.02732946e-04, 1.74178655e-04, 3.02008586e-04,\n",
              "       9.96701187e-04, 3.27382656e-03, 1.67298422e-04, 2.16758883e-04,\n",
              "       1.24160098e-04, 1.96882035e-03, 5.41813578e-03, 3.29034519e-03],\n",
              "      dtype=float32)"
            ]
          },
          "metadata": {},
          "execution_count": 105
        }
      ],
      "source": [
        "test_sentences = [\"Male has come to the student health clinic complaining of heart pounding.\"]\n",
        "test_predictions = model1.predict(test_sentences)\n",
        "test_predictions_class = np.argmax(test_predictions,axis=1)\n",
        "\n",
        "arraylen = len(test_predictions_class)\n",
        "test_predictions_class_label = np.empty(arraylen,dtype='U100')\n",
        "for i in range(arraylen): \n",
        "  test_predictions_class_label[i] = ind_to_label[test_predictions_class[i]]\n",
        "  print(f\"Sentence - {test_sentences[i]}\")\n",
        "  print(f\"----> Class {test_predictions_class_label[i]}/{test_predictions_class[i]}\")\n",
        "  PrintTop3OtherClasses(num_features, test_predictions[i])\n",
        "\n",
        "test_predictions[0]"
      ]
    },
    {
      "cell_type": "code",
      "execution_count": null,
      "metadata": {
        "id": "6kaUxJZb41oB",
        "colab": {
          "base_uri": "https://localhost:8080/"
        },
        "outputId": "a72fdd53-d47b-4c34-ff0a-9d20fe7bdb8a"
      },
      "outputs": [
        {
          "output_type": "stream",
          "name": "stdout",
          "text": [
            "Number of phrases - 29\n"
          ]
        },
        {
          "output_type": "execute_result",
          "data": {
            "text/plain": [
              "['17',\n",
              " 'year',\n",
              " 'old',\n",
              " 'Male',\n",
              " 'has',\n",
              " 'come',\n",
              " 'to',\n",
              " 'the',\n",
              " 'student',\n",
              " 'health',\n",
              " 'clinic',\n",
              " 'complaining',\n",
              " 'of',\n",
              " 'heart',\n",
              " 'pounding',\n",
              " '17 year',\n",
              " 'year old',\n",
              " 'old Male',\n",
              " 'Male has',\n",
              " 'has come',\n",
              " 'come to',\n",
              " 'to the',\n",
              " 'the student',\n",
              " 'student health',\n",
              " 'health clinic',\n",
              " 'clinic complaining',\n",
              " 'complaining of',\n",
              " 'of heart',\n",
              " 'heart pounding']"
            ]
          },
          "metadata": {},
          "execution_count": 106
        }
      ],
      "source": [
        "input_para = '17-year-old male, has come to the student health clinic complaining of heart pounding. Mr. Cleveland\\'s mother has given verbal consent for a history, physical examination, and treatment\\r\\n-began 2-3 months ago,sudden,intermittent for 2 days(lasting 3-4 min),worsening,non-allev/aggrav\\r\\n-associated with dispnea on exersion and rest,stressed out about school\\r\\n-reports fe feels like his heart is jumping out of his chest\\r\\n-ros:denies chest pain,dyaphoresis,wt loss,chills,fever,nausea,vomiting,pedal edeam\\r\\n-pmh:non,meds :aderol (from a friend),nkda\\r\\n-fh:father had MI recently,mother has thyroid dz\\r\\n-sh:non-smoker,mariguana 5-6 months ago,3 beers on the weekend, basketball at school\\r\\n-sh:no std '\n",
        "input_para = cleanText(input_para)\n",
        "test_sentences = re.split('; |\\. |\\* |\\n', input_para)\n",
        "\n",
        "phraselengthmin = 1\n",
        "phraselengthmax = 2\n",
        "phraselist = []\n",
        "test_sentence = \"17 year old Male has come to the student health clinic complaining of heart pounding\"\n",
        "\n",
        "for mylength in range(phraselengthmin,phraselengthmax+1):\n",
        "  wordlist = word_tokenize(test_sentence)\n",
        "  sentlength = len(wordlist)\n",
        "  for i in range(sentlength-mylength+1):\n",
        "    newphrase = GetPhrase(wordlist,i,mylength)\n",
        "    phraselist.append(newphrase)\n",
        "\n",
        "print(f\"Number of phrases - {len(phraselist)}\")\n",
        "numphrases = len(phraselist)\n",
        "phraselist\n",
        "\n"
      ]
    },
    {
      "cell_type": "code",
      "execution_count": null,
      "metadata": {
        "id": "H0tUdqRpnep2",
        "colab": {
          "base_uri": "https://localhost:8080/"
        },
        "outputId": "e9319c02-d72d-4961-a654-9403aca32331"
      },
      "outputs": [
        {
          "output_type": "stream",
          "name": "stdout",
          "text": [
            "Sentence - 17\n",
            "----> Class 011/3\n",
            "Top 3 args - 011-0.626376748085022\n",
            "             6602-0.3409867286682129\n",
            "             5517-0.0029828734695911407\n",
            "Sentence - year\n",
            "----> Class 7702/100\n",
            "Top 3 args - 7702-0.18930009007453918\n",
            "             6607-0.1792762726545334\n",
            "             8808-0.09649467468261719\n",
            "Sentence - old\n",
            "----> Class 08/11\n",
            "Top 3 args - 08-0.09880245476961136\n",
            "             3307-0.06399565935134888\n",
            "             9902-0.058586232364177704\n",
            "Sentence - Male\n",
            "----> Class 6601/87\n",
            "Top 3 args - 6601-0.356054425239563\n",
            "             012-0.3229348957538605\n",
            "             3308-0.2921576201915741\n",
            "Sentence - has\n",
            "----> Class 3312/54\n",
            "Top 3 args - 3312-0.1399216204881668\n",
            "             4401-0.06599903106689453\n",
            "             7702-0.054103244096040726\n",
            "Sentence - come\n",
            "----> Class 2208/34\n",
            "Top 3 args - 2208-0.12584897875785828\n",
            "             08-0.07793334871530533\n",
            "             8802-0.07629863172769547\n",
            "Sentence - to\n",
            "----> Class 2208/34\n",
            "Top 3 args - 2208-0.33137765526771545\n",
            "             5501-0.1100856214761734\n",
            "             8802-0.10152216255664825\n",
            "Sentence - the\n",
            "----> Class 012/4\n",
            "Top 3 args - 012-0.27440786361694336\n",
            "             3308-0.207046240568161\n",
            "             6601-0.18454058468341827\n",
            "Sentence - student\n",
            "----> Class 012/4\n",
            "Top 3 args - 012-0.3429889380931854\n",
            "             3308-0.2650603950023651\n",
            "             6601-0.09289515018463135\n",
            "Sentence - health\n",
            "----> Class 3301/43\n",
            "Top 3 args - 3301-0.0744595006108284\n",
            "             3306-0.05544771999120712\n",
            "             6605-0.051930543035268784\n",
            "Sentence - clinic\n",
            "----> Class 5504/72\n",
            "Top 3 args - 5504-0.16290578246116638\n",
            "             6605-0.11737992614507675\n",
            "             5505-0.08606639504432678\n",
            "Sentence - complaining\n",
            "----> Class 3305/47\n",
            "Top 3 args - 3305-0.29490983486175537\n",
            "             9906-0.10330338031053543\n",
            "             6603-0.08717785775661469\n",
            "Sentence - of\n",
            "----> Class 3308/50\n",
            "Top 3 args - 3308-0.5204107761383057\n",
            "             012-0.2003690004348755\n",
            "             6601-0.09152302891016006\n",
            "Sentence - heart\n",
            "----> Class 09/12\n",
            "Top 3 args - 09-0.8158958554267883\n",
            "             5504-0.14444050192832947\n",
            "             5506-0.0021605906076729298\n",
            "Sentence - pounding\n",
            "----> Class 09/12\n",
            "Top 3 args - 09-0.8884393572807312\n",
            "             3304-0.0343085378408432\n",
            "             3314-0.025936778634786606\n",
            "Sentence - 17 year\n",
            "----> Class 011/3\n",
            "Top 3 args - 011-0.6106123924255371\n",
            "             6602-0.3614947497844696\n",
            "             9901-0.0023723936174064875\n",
            "Sentence - year old\n",
            "----> Class 6607/93\n",
            "Top 3 args - 6607-0.1611243486404419\n",
            "             8805-0.08786746859550476\n",
            "             3315-0.07360106706619263\n",
            "Sentence - old Male\n",
            "----> Class 012/4\n",
            "Top 3 args - 012-0.3755444288253784\n",
            "             3308-0.26502764225006104\n",
            "             6601-0.2610331177711487\n",
            "Sentence - Male has\n",
            "----> Class 012/4\n",
            "Top 3 args - 012-0.34058377146720886\n",
            "             3308-0.31225091218948364\n",
            "             6601-0.28722548484802246\n",
            "Sentence - has come\n",
            "----> Class 3312/54\n",
            "Top 3 args - 3312-0.3785615861415863\n",
            "             8811-0.05761454999446869\n",
            "             03-0.04915172979235649\n",
            "Sentence - come to\n",
            "----> Class 3312/54\n",
            "Top 3 args - 3312-0.5249540209770203\n",
            "             03-0.10509110242128372\n",
            "             9914-0.03450893238186836\n",
            "Sentence - to the\n",
            "----> Class 6611/97\n",
            "Top 3 args - 6611-0.18642884492874146\n",
            "             5510-0.09255897253751755\n",
            "             2212-0.043922390788793564\n",
            "Sentence - the student\n",
            "----> Class 3308/50\n",
            "Top 3 args - 3308-0.579824686050415\n",
            "             012-0.16734477877616882\n",
            "             6601-0.14778466522693634\n",
            "Sentence - student health\n",
            "----> Class 5505/73\n",
            "Top 3 args - 5505-0.3126041889190674\n",
            "             3313-0.09374844282865524\n",
            "             2207-0.0415121354162693\n",
            "Sentence - health clinic\n",
            "----> Class 6605/91\n",
            "Top 3 args - 6605-0.08796770125627518\n",
            "             5505-0.05954352766275406\n",
            "             6609-0.05544446408748627\n",
            "Sentence - clinic complaining\n",
            "----> Class 6603/89\n",
            "Top 3 args - 6603-0.1980157196521759\n",
            "             9915-0.12445523589849472\n",
            "             9905-0.09280259162187576\n",
            "Sentence - complaining of\n",
            "----> Class 3305/47\n",
            "Top 3 args - 3305-0.25193533301353455\n",
            "             6603-0.13912922143936157\n",
            "             9906-0.12357373535633087\n",
            "Sentence - of heart\n",
            "----> Class 5503/71\n",
            "Top 3 args - 5503-0.28545820713043213\n",
            "             09-0.10318805277347565\n",
            "             4404-0.0802769735455513\n",
            "Sentence - heart pounding\n",
            "----> Class 09/12\n",
            "Top 3 args - 09-0.9915607571601868\n",
            "             3314-0.0015659112250432372\n",
            "             5504-0.0012400532141327858\n",
            "Test Predictions probs - [0.62637675 0.18930009 0.09880245 0.35605443 0.13992162 0.12584898\n",
            " 0.33137766 0.27440786 0.34298894 0.0744595  0.16290578 0.29490983\n",
            " 0.5204108  0.81589586 0.88843936 0.6106124  0.16112435 0.37554443\n",
            " 0.34058377 0.3785616  0.524954   0.18642884 0.5798247  0.3126042\n",
            " 0.0879677  0.19801572 0.25193533 0.2854582  0.99156076]\n",
            "Final prediction class 09/12\n",
            "Final prediction probability 0.9915607571601868\n",
            "TAGGED PHRASE --> heart pounding\n"
          ]
        }
      ],
      "source": [
        "#phraselist = ['heart pounding']\n",
        "test_predictions = model1.predict(phraselist)\n",
        "test_predictions_class = np.argmax(test_predictions,axis=1)\n",
        "test_predictions_probs = np.amax(test_predictions,axis=1)\n",
        "\n",
        "final_prediction_prob  = np.amax(test_predictions_probs)\n",
        "max_prediction_phrase_index = np.argmax(test_predictions_probs)\n",
        "final_prediction_class =  test_predictions_class[max_prediction_phrase_index]\n",
        "\n",
        "\n",
        "arraylen = len(test_predictions_class)\n",
        "test_predictions_class_label = np.empty(arraylen,dtype='U100')\n",
        "for i in range(arraylen): \n",
        "  test_predictions_class_label[i] = ind_to_label[test_predictions_class[i]]\n",
        "  print(f\"Sentence - {phraselist[i]}\")\n",
        "  print(f\"----> Class {test_predictions_class_label[i]}/{test_predictions_class[i]}\")\n",
        "  PrintTop3OtherClasses(num_features, test_predictions[i])\n",
        "\n",
        "#test_predictions[0]\n",
        "print(f\"Test Predictions probs - {test_predictions_probs}\")\n",
        "print(f\"Final prediction class {ind_to_label[final_prediction_class]}/{final_prediction_class}\")\n",
        "print(f\"Final prediction probability {final_prediction_prob}\")\n",
        "print(f\"TAGGED PHRASE --> {phraselist[max_prediction_phrase_index]}\")\n"
      ]
    },
    {
      "cell_type": "code",
      "source": [
        "a = np.arange(6).reshape(2,3) + 10\n",
        "print(a)\n",
        "print(np.argmax(a, axis=1))\n",
        "print(np.amax(a,axis=1))"
      ],
      "metadata": {
        "colab": {
          "base_uri": "https://localhost:8080/"
        },
        "id": "gDjN_xYfb5Pc",
        "outputId": "75bab447-32b1-49ce-b8e1-359ab46447a7"
      },
      "execution_count": null,
      "outputs": [
        {
          "output_type": "stream",
          "name": "stdout",
          "text": [
            "[[10 11 12]\n",
            " [13 14 15]]\n",
            "[2 2]\n",
            "[12 15]\n"
          ]
        }
      ]
    },
    {
      "cell_type": "code",
      "execution_count": null,
      "metadata": {
        "colab": {
          "base_uri": "https://localhost:8080/",
          "height": 206
        },
        "id": "D8fABIopVuEU",
        "outputId": "1a3ed6ea-bd45-466e-cf87-908207c57fab"
      },
      "outputs": [
        {
          "output_type": "execute_result",
          "data": {
            "text/plain": [
              "          id  case_num  pn_num  feature_num\n",
              "0  00016_000         0      16            0\n",
              "1  00016_001         0      16            1\n",
              "2  00016_002         0      16            2\n",
              "3  00016_003         0      16            3\n",
              "4  00016_004         0      16            4"
            ],
            "text/html": [
              "\n",
              "  <div id=\"df-899da5ae-bc5b-4838-964f-079e9aedd9df\">\n",
              "    <div class=\"colab-df-container\">\n",
              "      <div>\n",
              "<style scoped>\n",
              "    .dataframe tbody tr th:only-of-type {\n",
              "        vertical-align: middle;\n",
              "    }\n",
              "\n",
              "    .dataframe tbody tr th {\n",
              "        vertical-align: top;\n",
              "    }\n",
              "\n",
              "    .dataframe thead th {\n",
              "        text-align: right;\n",
              "    }\n",
              "</style>\n",
              "<table border=\"1\" class=\"dataframe\">\n",
              "  <thead>\n",
              "    <tr style=\"text-align: right;\">\n",
              "      <th></th>\n",
              "      <th>id</th>\n",
              "      <th>case_num</th>\n",
              "      <th>pn_num</th>\n",
              "      <th>feature_num</th>\n",
              "    </tr>\n",
              "  </thead>\n",
              "  <tbody>\n",
              "    <tr>\n",
              "      <th>0</th>\n",
              "      <td>00016_000</td>\n",
              "      <td>0</td>\n",
              "      <td>16</td>\n",
              "      <td>0</td>\n",
              "    </tr>\n",
              "    <tr>\n",
              "      <th>1</th>\n",
              "      <td>00016_001</td>\n",
              "      <td>0</td>\n",
              "      <td>16</td>\n",
              "      <td>1</td>\n",
              "    </tr>\n",
              "    <tr>\n",
              "      <th>2</th>\n",
              "      <td>00016_002</td>\n",
              "      <td>0</td>\n",
              "      <td>16</td>\n",
              "      <td>2</td>\n",
              "    </tr>\n",
              "    <tr>\n",
              "      <th>3</th>\n",
              "      <td>00016_003</td>\n",
              "      <td>0</td>\n",
              "      <td>16</td>\n",
              "      <td>3</td>\n",
              "    </tr>\n",
              "    <tr>\n",
              "      <th>4</th>\n",
              "      <td>00016_004</td>\n",
              "      <td>0</td>\n",
              "      <td>16</td>\n",
              "      <td>4</td>\n",
              "    </tr>\n",
              "  </tbody>\n",
              "</table>\n",
              "</div>\n",
              "      <button class=\"colab-df-convert\" onclick=\"convertToInteractive('df-899da5ae-bc5b-4838-964f-079e9aedd9df')\"\n",
              "              title=\"Convert this dataframe to an interactive table.\"\n",
              "              style=\"display:none;\">\n",
              "        \n",
              "  <svg xmlns=\"http://www.w3.org/2000/svg\" height=\"24px\"viewBox=\"0 0 24 24\"\n",
              "       width=\"24px\">\n",
              "    <path d=\"M0 0h24v24H0V0z\" fill=\"none\"/>\n",
              "    <path d=\"M18.56 5.44l.94 2.06.94-2.06 2.06-.94-2.06-.94-.94-2.06-.94 2.06-2.06.94zm-11 1L8.5 8.5l.94-2.06 2.06-.94-2.06-.94L8.5 2.5l-.94 2.06-2.06.94zm10 10l.94 2.06.94-2.06 2.06-.94-2.06-.94-.94-2.06-.94 2.06-2.06.94z\"/><path d=\"M17.41 7.96l-1.37-1.37c-.4-.4-.92-.59-1.43-.59-.52 0-1.04.2-1.43.59L10.3 9.45l-7.72 7.72c-.78.78-.78 2.05 0 2.83L4 21.41c.39.39.9.59 1.41.59.51 0 1.02-.2 1.41-.59l7.78-7.78 2.81-2.81c.8-.78.8-2.07 0-2.86zM5.41 20L4 18.59l7.72-7.72 1.47 1.35L5.41 20z\"/>\n",
              "  </svg>\n",
              "      </button>\n",
              "      \n",
              "  <style>\n",
              "    .colab-df-container {\n",
              "      display:flex;\n",
              "      flex-wrap:wrap;\n",
              "      gap: 12px;\n",
              "    }\n",
              "\n",
              "    .colab-df-convert {\n",
              "      background-color: #E8F0FE;\n",
              "      border: none;\n",
              "      border-radius: 50%;\n",
              "      cursor: pointer;\n",
              "      display: none;\n",
              "      fill: #1967D2;\n",
              "      height: 32px;\n",
              "      padding: 0 0 0 0;\n",
              "      width: 32px;\n",
              "    }\n",
              "\n",
              "    .colab-df-convert:hover {\n",
              "      background-color: #E2EBFA;\n",
              "      box-shadow: 0px 1px 2px rgba(60, 64, 67, 0.3), 0px 1px 3px 1px rgba(60, 64, 67, 0.15);\n",
              "      fill: #174EA6;\n",
              "    }\n",
              "\n",
              "    [theme=dark] .colab-df-convert {\n",
              "      background-color: #3B4455;\n",
              "      fill: #D2E3FC;\n",
              "    }\n",
              "\n",
              "    [theme=dark] .colab-df-convert:hover {\n",
              "      background-color: #434B5C;\n",
              "      box-shadow: 0px 1px 3px 1px rgba(0, 0, 0, 0.15);\n",
              "      filter: drop-shadow(0px 1px 2px rgba(0, 0, 0, 0.3));\n",
              "      fill: #FFFFFF;\n",
              "    }\n",
              "  </style>\n",
              "\n",
              "      <script>\n",
              "        const buttonEl =\n",
              "          document.querySelector('#df-899da5ae-bc5b-4838-964f-079e9aedd9df button.colab-df-convert');\n",
              "        buttonEl.style.display =\n",
              "          google.colab.kernel.accessAllowed ? 'block' : 'none';\n",
              "\n",
              "        async function convertToInteractive(key) {\n",
              "          const element = document.querySelector('#df-899da5ae-bc5b-4838-964f-079e9aedd9df');\n",
              "          const dataTable =\n",
              "            await google.colab.kernel.invokeFunction('convertToInteractive',\n",
              "                                                     [key], {});\n",
              "          if (!dataTable) return;\n",
              "\n",
              "          const docLinkHtml = 'Like what you see? Visit the ' +\n",
              "            '<a target=\"_blank\" href=https://colab.research.google.com/notebooks/data_table.ipynb>data table notebook</a>'\n",
              "            + ' to learn more about interactive tables.';\n",
              "          element.innerHTML = '';\n",
              "          dataTable['output_type'] = 'display_data';\n",
              "          await google.colab.output.renderOutput(dataTable, element);\n",
              "          const docLink = document.createElement('div');\n",
              "          docLink.innerHTML = docLinkHtml;\n",
              "          element.appendChild(docLink);\n",
              "        }\n",
              "      </script>\n",
              "    </div>\n",
              "  </div>\n",
              "  "
            ]
          },
          "metadata": {},
          "execution_count": 109
        }
      ],
      "source": [
        "# Loop over test file - for everyline , loop over train data to implement min & max for phrase length for a feature\n",
        "# Loop over sentences in notes to create phrase list to run model on\n",
        "# Run model for phrase list for a sentence, looking for feature\n",
        "# If feature found (prob > clip level), add to annotations list with positions\n",
        "\n",
        "#num_test_entries\n",
        "dftest = pd.read_csv('/content/gdrive/My Drive/NBME/test.csv')\n",
        "num_test_file_entries = dftest.shape[0]\n",
        "dftest.head(10)\n",
        "#print(f\"Number of test file entries - {num_test_file_entries}\")"
      ]
    },
    {
      "cell_type": "code",
      "source": [
        "# Assign a category variable to the test file\n",
        "dftest['case_num'] = dftest['case_num'].apply(str)\n",
        "dftest['feature_num'] = dftest['feature_num'].apply(str)\n",
        "\n",
        "dftest['Category']= dftest.apply(lambda x: defineCaseFeatureVar(x['case_num'],x['feature_num'] ), axis=1)\n",
        "#dff = dff.drop(dff.columns[3], axis=1)\n",
        "dftest.head(5)"
      ],
      "metadata": {
        "colab": {
          "base_uri": "https://localhost:8080/",
          "height": 206
        },
        "id": "1-nQiAq522y-",
        "outputId": "176fd479-3d9b-4745-bd83-729a1d430057"
      },
      "execution_count": null,
      "outputs": [
        {
          "output_type": "execute_result",
          "data": {
            "text/plain": [
              "          id case_num  pn_num feature_num Category\n",
              "0  00016_000        0      16           0       00\n",
              "1  00016_001        0      16           1       01\n",
              "2  00016_002        0      16           2       02\n",
              "3  00016_003        0      16           3       03\n",
              "4  00016_004        0      16           4       04"
            ],
            "text/html": [
              "\n",
              "  <div id=\"df-a24e18f9-77cd-4a45-ac15-ab9a77499856\">\n",
              "    <div class=\"colab-df-container\">\n",
              "      <div>\n",
              "<style scoped>\n",
              "    .dataframe tbody tr th:only-of-type {\n",
              "        vertical-align: middle;\n",
              "    }\n",
              "\n",
              "    .dataframe tbody tr th {\n",
              "        vertical-align: top;\n",
              "    }\n",
              "\n",
              "    .dataframe thead th {\n",
              "        text-align: right;\n",
              "    }\n",
              "</style>\n",
              "<table border=\"1\" class=\"dataframe\">\n",
              "  <thead>\n",
              "    <tr style=\"text-align: right;\">\n",
              "      <th></th>\n",
              "      <th>id</th>\n",
              "      <th>case_num</th>\n",
              "      <th>pn_num</th>\n",
              "      <th>feature_num</th>\n",
              "      <th>Category</th>\n",
              "    </tr>\n",
              "  </thead>\n",
              "  <tbody>\n",
              "    <tr>\n",
              "      <th>0</th>\n",
              "      <td>00016_000</td>\n",
              "      <td>0</td>\n",
              "      <td>16</td>\n",
              "      <td>0</td>\n",
              "      <td>00</td>\n",
              "    </tr>\n",
              "    <tr>\n",
              "      <th>1</th>\n",
              "      <td>00016_001</td>\n",
              "      <td>0</td>\n",
              "      <td>16</td>\n",
              "      <td>1</td>\n",
              "      <td>01</td>\n",
              "    </tr>\n",
              "    <tr>\n",
              "      <th>2</th>\n",
              "      <td>00016_002</td>\n",
              "      <td>0</td>\n",
              "      <td>16</td>\n",
              "      <td>2</td>\n",
              "      <td>02</td>\n",
              "    </tr>\n",
              "    <tr>\n",
              "      <th>3</th>\n",
              "      <td>00016_003</td>\n",
              "      <td>0</td>\n",
              "      <td>16</td>\n",
              "      <td>3</td>\n",
              "      <td>03</td>\n",
              "    </tr>\n",
              "    <tr>\n",
              "      <th>4</th>\n",
              "      <td>00016_004</td>\n",
              "      <td>0</td>\n",
              "      <td>16</td>\n",
              "      <td>4</td>\n",
              "      <td>04</td>\n",
              "    </tr>\n",
              "  </tbody>\n",
              "</table>\n",
              "</div>\n",
              "      <button class=\"colab-df-convert\" onclick=\"convertToInteractive('df-a24e18f9-77cd-4a45-ac15-ab9a77499856')\"\n",
              "              title=\"Convert this dataframe to an interactive table.\"\n",
              "              style=\"display:none;\">\n",
              "        \n",
              "  <svg xmlns=\"http://www.w3.org/2000/svg\" height=\"24px\"viewBox=\"0 0 24 24\"\n",
              "       width=\"24px\">\n",
              "    <path d=\"M0 0h24v24H0V0z\" fill=\"none\"/>\n",
              "    <path d=\"M18.56 5.44l.94 2.06.94-2.06 2.06-.94-2.06-.94-.94-2.06-.94 2.06-2.06.94zm-11 1L8.5 8.5l.94-2.06 2.06-.94-2.06-.94L8.5 2.5l-.94 2.06-2.06.94zm10 10l.94 2.06.94-2.06 2.06-.94-2.06-.94-.94-2.06-.94 2.06-2.06.94z\"/><path d=\"M17.41 7.96l-1.37-1.37c-.4-.4-.92-.59-1.43-.59-.52 0-1.04.2-1.43.59L10.3 9.45l-7.72 7.72c-.78.78-.78 2.05 0 2.83L4 21.41c.39.39.9.59 1.41.59.51 0 1.02-.2 1.41-.59l7.78-7.78 2.81-2.81c.8-.78.8-2.07 0-2.86zM5.41 20L4 18.59l7.72-7.72 1.47 1.35L5.41 20z\"/>\n",
              "  </svg>\n",
              "      </button>\n",
              "      \n",
              "  <style>\n",
              "    .colab-df-container {\n",
              "      display:flex;\n",
              "      flex-wrap:wrap;\n",
              "      gap: 12px;\n",
              "    }\n",
              "\n",
              "    .colab-df-convert {\n",
              "      background-color: #E8F0FE;\n",
              "      border: none;\n",
              "      border-radius: 50%;\n",
              "      cursor: pointer;\n",
              "      display: none;\n",
              "      fill: #1967D2;\n",
              "      height: 32px;\n",
              "      padding: 0 0 0 0;\n",
              "      width: 32px;\n",
              "    }\n",
              "\n",
              "    .colab-df-convert:hover {\n",
              "      background-color: #E2EBFA;\n",
              "      box-shadow: 0px 1px 2px rgba(60, 64, 67, 0.3), 0px 1px 3px 1px rgba(60, 64, 67, 0.15);\n",
              "      fill: #174EA6;\n",
              "    }\n",
              "\n",
              "    [theme=dark] .colab-df-convert {\n",
              "      background-color: #3B4455;\n",
              "      fill: #D2E3FC;\n",
              "    }\n",
              "\n",
              "    [theme=dark] .colab-df-convert:hover {\n",
              "      background-color: #434B5C;\n",
              "      box-shadow: 0px 1px 3px 1px rgba(0, 0, 0, 0.15);\n",
              "      filter: drop-shadow(0px 1px 2px rgba(0, 0, 0, 0.3));\n",
              "      fill: #FFFFFF;\n",
              "    }\n",
              "  </style>\n",
              "\n",
              "      <script>\n",
              "        const buttonEl =\n",
              "          document.querySelector('#df-a24e18f9-77cd-4a45-ac15-ab9a77499856 button.colab-df-convert');\n",
              "        buttonEl.style.display =\n",
              "          google.colab.kernel.accessAllowed ? 'block' : 'none';\n",
              "\n",
              "        async function convertToInteractive(key) {\n",
              "          const element = document.querySelector('#df-a24e18f9-77cd-4a45-ac15-ab9a77499856');\n",
              "          const dataTable =\n",
              "            await google.colab.kernel.invokeFunction('convertToInteractive',\n",
              "                                                     [key], {});\n",
              "          if (!dataTable) return;\n",
              "\n",
              "          const docLinkHtml = 'Like what you see? Visit the ' +\n",
              "            '<a target=\"_blank\" href=https://colab.research.google.com/notebooks/data_table.ipynb>data table notebook</a>'\n",
              "            + ' to learn more about interactive tables.';\n",
              "          element.innerHTML = '';\n",
              "          dataTable['output_type'] = 'display_data';\n",
              "          await google.colab.output.renderOutput(dataTable, element);\n",
              "          const docLink = document.createElement('div');\n",
              "          docLink.innerHTML = docLinkHtml;\n",
              "          element.appendChild(docLink);\n",
              "        }\n",
              "      </script>\n",
              "    </div>\n",
              "  </div>\n",
              "  "
            ]
          },
          "metadata": {},
          "execution_count": 110
        }
      ]
    },
    {
      "cell_type": "code",
      "execution_count": null,
      "metadata": {
        "colab": {
          "base_uri": "https://localhost:8080/",
          "height": 677
        },
        "id": "dOrAqnlNC6ol",
        "outputId": "fedf5cbc-9e5f-4265-edd2-513d4fb6f247"
      },
      "outputs": [
        {
          "output_type": "execute_result",
          "data": {
            "text/plain": [
              "    pn_num  case_num                                         pn_history\n",
              "0        0         0  17-year-old male, has come to the student heal...\n",
              "1        1         0  17 yo male with recurrent palpitations for the...\n",
              "2        2         0  Dillon Cleveland is a 17 y.o. male patient wit...\n",
              "3        3         0  a 17 yo m c/o palpitation started 3 mos ago; \\...\n",
              "4        4         0  17yo male with no pmh here for evaluation of p...\n",
              "5        5         0  17 yo m, presenting with palpitations/increase...\n",
              "6        6         0  17 yo male presents with 3-4 month history of ...\n",
              "7        7         0  17 yo male presents with a 2-3 month history o...\n",
              "8        8         0  HPI: 17 YO complains of intermittent heart pal...\n",
              "9        9         0  Mr. Cleveland is a 17 yo M who presents to cli...\n",
              "10      10         0  Mr. Cleveland is a 17 year old male with no si...\n",
              "11      11         0  Dillon Cleveland is a 17 year old male with no...\n",
              "12      12         0  Patient is a 17 yo male presenting to student ...\n",
              "13      13         0  17 yr old boy complaining of heart pounding fo...\n",
              "14      14         0  17 year old male with no significant PMH. Comp...\n",
              "15      15         0  Mr. Cleveland is a 17 yo male who presents tod...\n",
              "16      16         0  HPI: 17yo M presents with palpitations. Patien...\n",
              "17      17         0  17 yo male presents with 2-3 months of \"poundi...\n",
              "18      18         0  HPI Mr. Cleveland is a 17yo male presenting fo...\n",
              "19      19         0  17yo M presents with heart palpitations. He ha..."
            ],
            "text/html": [
              "\n",
              "  <div id=\"df-0aad0b81-c857-4387-b6f7-1636790573e8\">\n",
              "    <div class=\"colab-df-container\">\n",
              "      <div>\n",
              "<style scoped>\n",
              "    .dataframe tbody tr th:only-of-type {\n",
              "        vertical-align: middle;\n",
              "    }\n",
              "\n",
              "    .dataframe tbody tr th {\n",
              "        vertical-align: top;\n",
              "    }\n",
              "\n",
              "    .dataframe thead th {\n",
              "        text-align: right;\n",
              "    }\n",
              "</style>\n",
              "<table border=\"1\" class=\"dataframe\">\n",
              "  <thead>\n",
              "    <tr style=\"text-align: right;\">\n",
              "      <th></th>\n",
              "      <th>pn_num</th>\n",
              "      <th>case_num</th>\n",
              "      <th>pn_history</th>\n",
              "    </tr>\n",
              "  </thead>\n",
              "  <tbody>\n",
              "    <tr>\n",
              "      <th>0</th>\n",
              "      <td>0</td>\n",
              "      <td>0</td>\n",
              "      <td>17-year-old male, has come to the student heal...</td>\n",
              "    </tr>\n",
              "    <tr>\n",
              "      <th>1</th>\n",
              "      <td>1</td>\n",
              "      <td>0</td>\n",
              "      <td>17 yo male with recurrent palpitations for the...</td>\n",
              "    </tr>\n",
              "    <tr>\n",
              "      <th>2</th>\n",
              "      <td>2</td>\n",
              "      <td>0</td>\n",
              "      <td>Dillon Cleveland is a 17 y.o. male patient wit...</td>\n",
              "    </tr>\n",
              "    <tr>\n",
              "      <th>3</th>\n",
              "      <td>3</td>\n",
              "      <td>0</td>\n",
              "      <td>a 17 yo m c/o palpitation started 3 mos ago; \\...</td>\n",
              "    </tr>\n",
              "    <tr>\n",
              "      <th>4</th>\n",
              "      <td>4</td>\n",
              "      <td>0</td>\n",
              "      <td>17yo male with no pmh here for evaluation of p...</td>\n",
              "    </tr>\n",
              "    <tr>\n",
              "      <th>5</th>\n",
              "      <td>5</td>\n",
              "      <td>0</td>\n",
              "      <td>17 yo m, presenting with palpitations/increase...</td>\n",
              "    </tr>\n",
              "    <tr>\n",
              "      <th>6</th>\n",
              "      <td>6</td>\n",
              "      <td>0</td>\n",
              "      <td>17 yo male presents with 3-4 month history of ...</td>\n",
              "    </tr>\n",
              "    <tr>\n",
              "      <th>7</th>\n",
              "      <td>7</td>\n",
              "      <td>0</td>\n",
              "      <td>17 yo male presents with a 2-3 month history o...</td>\n",
              "    </tr>\n",
              "    <tr>\n",
              "      <th>8</th>\n",
              "      <td>8</td>\n",
              "      <td>0</td>\n",
              "      <td>HPI: 17 YO complains of intermittent heart pal...</td>\n",
              "    </tr>\n",
              "    <tr>\n",
              "      <th>9</th>\n",
              "      <td>9</td>\n",
              "      <td>0</td>\n",
              "      <td>Mr. Cleveland is a 17 yo M who presents to cli...</td>\n",
              "    </tr>\n",
              "    <tr>\n",
              "      <th>10</th>\n",
              "      <td>10</td>\n",
              "      <td>0</td>\n",
              "      <td>Mr. Cleveland is a 17 year old male with no si...</td>\n",
              "    </tr>\n",
              "    <tr>\n",
              "      <th>11</th>\n",
              "      <td>11</td>\n",
              "      <td>0</td>\n",
              "      <td>Dillon Cleveland is a 17 year old male with no...</td>\n",
              "    </tr>\n",
              "    <tr>\n",
              "      <th>12</th>\n",
              "      <td>12</td>\n",
              "      <td>0</td>\n",
              "      <td>Patient is a 17 yo male presenting to student ...</td>\n",
              "    </tr>\n",
              "    <tr>\n",
              "      <th>13</th>\n",
              "      <td>13</td>\n",
              "      <td>0</td>\n",
              "      <td>17 yr old boy complaining of heart pounding fo...</td>\n",
              "    </tr>\n",
              "    <tr>\n",
              "      <th>14</th>\n",
              "      <td>14</td>\n",
              "      <td>0</td>\n",
              "      <td>17 year old male with no significant PMH. Comp...</td>\n",
              "    </tr>\n",
              "    <tr>\n",
              "      <th>15</th>\n",
              "      <td>15</td>\n",
              "      <td>0</td>\n",
              "      <td>Mr. Cleveland is a 17 yo male who presents tod...</td>\n",
              "    </tr>\n",
              "    <tr>\n",
              "      <th>16</th>\n",
              "      <td>16</td>\n",
              "      <td>0</td>\n",
              "      <td>HPI: 17yo M presents with palpitations. Patien...</td>\n",
              "    </tr>\n",
              "    <tr>\n",
              "      <th>17</th>\n",
              "      <td>17</td>\n",
              "      <td>0</td>\n",
              "      <td>17 yo male presents with 2-3 months of \"poundi...</td>\n",
              "    </tr>\n",
              "    <tr>\n",
              "      <th>18</th>\n",
              "      <td>18</td>\n",
              "      <td>0</td>\n",
              "      <td>HPI Mr. Cleveland is a 17yo male presenting fo...</td>\n",
              "    </tr>\n",
              "    <tr>\n",
              "      <th>19</th>\n",
              "      <td>19</td>\n",
              "      <td>0</td>\n",
              "      <td>17yo M presents with heart palpitations. He ha...</td>\n",
              "    </tr>\n",
              "  </tbody>\n",
              "</table>\n",
              "</div>\n",
              "      <button class=\"colab-df-convert\" onclick=\"convertToInteractive('df-0aad0b81-c857-4387-b6f7-1636790573e8')\"\n",
              "              title=\"Convert this dataframe to an interactive table.\"\n",
              "              style=\"display:none;\">\n",
              "        \n",
              "  <svg xmlns=\"http://www.w3.org/2000/svg\" height=\"24px\"viewBox=\"0 0 24 24\"\n",
              "       width=\"24px\">\n",
              "    <path d=\"M0 0h24v24H0V0z\" fill=\"none\"/>\n",
              "    <path d=\"M18.56 5.44l.94 2.06.94-2.06 2.06-.94-2.06-.94-.94-2.06-.94 2.06-2.06.94zm-11 1L8.5 8.5l.94-2.06 2.06-.94-2.06-.94L8.5 2.5l-.94 2.06-2.06.94zm10 10l.94 2.06.94-2.06 2.06-.94-2.06-.94-.94-2.06-.94 2.06-2.06.94z\"/><path d=\"M17.41 7.96l-1.37-1.37c-.4-.4-.92-.59-1.43-.59-.52 0-1.04.2-1.43.59L10.3 9.45l-7.72 7.72c-.78.78-.78 2.05 0 2.83L4 21.41c.39.39.9.59 1.41.59.51 0 1.02-.2 1.41-.59l7.78-7.78 2.81-2.81c.8-.78.8-2.07 0-2.86zM5.41 20L4 18.59l7.72-7.72 1.47 1.35L5.41 20z\"/>\n",
              "  </svg>\n",
              "      </button>\n",
              "      \n",
              "  <style>\n",
              "    .colab-df-container {\n",
              "      display:flex;\n",
              "      flex-wrap:wrap;\n",
              "      gap: 12px;\n",
              "    }\n",
              "\n",
              "    .colab-df-convert {\n",
              "      background-color: #E8F0FE;\n",
              "      border: none;\n",
              "      border-radius: 50%;\n",
              "      cursor: pointer;\n",
              "      display: none;\n",
              "      fill: #1967D2;\n",
              "      height: 32px;\n",
              "      padding: 0 0 0 0;\n",
              "      width: 32px;\n",
              "    }\n",
              "\n",
              "    .colab-df-convert:hover {\n",
              "      background-color: #E2EBFA;\n",
              "      box-shadow: 0px 1px 2px rgba(60, 64, 67, 0.3), 0px 1px 3px 1px rgba(60, 64, 67, 0.15);\n",
              "      fill: #174EA6;\n",
              "    }\n",
              "\n",
              "    [theme=dark] .colab-df-convert {\n",
              "      background-color: #3B4455;\n",
              "      fill: #D2E3FC;\n",
              "    }\n",
              "\n",
              "    [theme=dark] .colab-df-convert:hover {\n",
              "      background-color: #434B5C;\n",
              "      box-shadow: 0px 1px 3px 1px rgba(0, 0, 0, 0.15);\n",
              "      filter: drop-shadow(0px 1px 2px rgba(0, 0, 0, 0.3));\n",
              "      fill: #FFFFFF;\n",
              "    }\n",
              "  </style>\n",
              "\n",
              "      <script>\n",
              "        const buttonEl =\n",
              "          document.querySelector('#df-0aad0b81-c857-4387-b6f7-1636790573e8 button.colab-df-convert');\n",
              "        buttonEl.style.display =\n",
              "          google.colab.kernel.accessAllowed ? 'block' : 'none';\n",
              "\n",
              "        async function convertToInteractive(key) {\n",
              "          const element = document.querySelector('#df-0aad0b81-c857-4387-b6f7-1636790573e8');\n",
              "          const dataTable =\n",
              "            await google.colab.kernel.invokeFunction('convertToInteractive',\n",
              "                                                     [key], {});\n",
              "          if (!dataTable) return;\n",
              "\n",
              "          const docLinkHtml = 'Like what you see? Visit the ' +\n",
              "            '<a target=\"_blank\" href=https://colab.research.google.com/notebooks/data_table.ipynb>data table notebook</a>'\n",
              "            + ' to learn more about interactive tables.';\n",
              "          element.innerHTML = '';\n",
              "          dataTable['output_type'] = 'display_data';\n",
              "          await google.colab.output.renderOutput(dataTable, element);\n",
              "          const docLink = document.createElement('div');\n",
              "          docLink.innerHTML = docLinkHtml;\n",
              "          element.appendChild(docLink);\n",
              "        }\n",
              "      </script>\n",
              "    </div>\n",
              "  </div>\n",
              "  "
            ]
          },
          "metadata": {},
          "execution_count": 111
        }
      ],
      "source": [
        "dfn.head(20)\n",
        "#this_pn = dfn[dfn['pn_num'] == this_testfile_pn][pn_history]\n",
        "#print(dfn['pn_history'][16])\n",
        "#print(dfn['pn_history'][17])\n",
        "\n",
        "  #this_pn = df[df['pn_num'] == this_testfile_pn]['patient_notes'][0]"
      ]
    },
    {
      "cell_type": "code",
      "source": [
        "!pip install fuzzyfinder"
      ],
      "metadata": {
        "colab": {
          "base_uri": "https://localhost:8080/"
        },
        "id": "qZdZIBzhysw0",
        "outputId": "312f231b-f4b7-4534-dd3b-f1415a829572"
      },
      "execution_count": null,
      "outputs": [
        {
          "output_type": "stream",
          "name": "stdout",
          "text": [
            "Collecting fuzzyfinder\n",
            "  Downloading fuzzyfinder-2.1.0-py2.py3-none-any.whl (4.8 kB)\n",
            "Installing collected packages: fuzzyfinder\n",
            "Successfully installed fuzzyfinder-2.1.0\n"
          ]
        }
      ]
    },
    {
      "cell_type": "code",
      "source": [
        "from fuzzyfinder import fuzzyfinder\n",
        "suggestions = fuzzyfinder('abc', ['abc ', 'defabca', 'aagbec', 'xyz', 'qux'])\n",
        "#print(list(suggestions))\n",
        "next(suggestions)"
      ],
      "metadata": {
        "colab": {
          "base_uri": "https://localhost:8080/",
          "height": 36
        },
        "id": "lhpSt5ZNy1y3",
        "outputId": "6fb8488f-8a8c-4894-a374-51af00283d31"
      },
      "execution_count": null,
      "outputs": [
        {
          "output_type": "execute_result",
          "data": {
            "text/plain": [
              "'abc '"
            ],
            "application/vnd.google.colaboratory.intrinsic+json": {
              "type": "string"
            }
          },
          "metadata": {},
          "execution_count": 113
        }
      ]
    },
    {
      "cell_type": "code",
      "source": [
        "!pip install fuzzysearch"
      ],
      "metadata": {
        "colab": {
          "base_uri": "https://localhost:8080/"
        },
        "id": "oy0rsbCh3nkS",
        "outputId": "43329159-cf4b-44ea-b8a1-d52462d52caf"
      },
      "execution_count": null,
      "outputs": [
        {
          "output_type": "stream",
          "name": "stdout",
          "text": [
            "Collecting fuzzysearch\n",
            "  Downloading fuzzysearch-0.7.3.tar.gz (112 kB)\n",
            "\u001b[?25l\r\u001b[K     |███                             | 10 kB 29.8 MB/s eta 0:00:01\r\u001b[K     |█████▉                          | 20 kB 13.9 MB/s eta 0:00:01\r\u001b[K     |████████▊                       | 30 kB 9.9 MB/s eta 0:00:01\r\u001b[K     |███████████▋                    | 40 kB 8.6 MB/s eta 0:00:01\r\u001b[K     |██████████████▌                 | 51 kB 3.7 MB/s eta 0:00:01\r\u001b[K     |█████████████████▌              | 61 kB 4.3 MB/s eta 0:00:01\r\u001b[K     |████████████████████▍           | 71 kB 4.6 MB/s eta 0:00:01\r\u001b[K     |███████████████████████▎        | 81 kB 5.2 MB/s eta 0:00:01\r\u001b[K     |██████████████████████████▏     | 92 kB 5.0 MB/s eta 0:00:01\r\u001b[K     |█████████████████████████████   | 102 kB 4.2 MB/s eta 0:00:01\r\u001b[K     |████████████████████████████████| 112 kB 4.2 MB/s eta 0:00:01\r\u001b[K     |████████████████████████████████| 112 kB 4.2 MB/s \n",
            "\u001b[?25hRequirement already satisfied: attrs>=19.3 in /usr/local/lib/python3.7/dist-packages (from fuzzysearch) (21.4.0)\n",
            "Building wheels for collected packages: fuzzysearch\n",
            "  Building wheel for fuzzysearch (setup.py) ... \u001b[?25l\u001b[?25hdone\n",
            "  Created wheel for fuzzysearch: filename=fuzzysearch-0.7.3-cp37-cp37m-linux_x86_64.whl size=280769 sha256=f73533a3430237981a0bb3c8098af0266f1b25810c9c057981ecb6375ab7609a\n",
            "  Stored in directory: /root/.cache/pip/wheels/59/11/b5/bae34cc61880d909103c30a1c547df857f5a46adeabfd922b5\n",
            "Successfully built fuzzysearch\n",
            "Installing collected packages: fuzzysearch\n",
            "Successfully installed fuzzysearch-0.7.3\n"
          ]
        }
      ]
    },
    {
      "cell_type": "code",
      "source": [
        "from fuzzysearch import find_near_matches\n",
        "# search for 'PATTERN' with a maximum Levenshtein Distance of 1\n",
        "mymatch = find_near_matches('PATTERN', '---PATERN---', max_l_dist=1)\n",
        "print(mymatch)\n",
        "this_start = mymatch[0].start\n",
        "this_end = mymatch[0].end\n",
        "matched_pattern = mymatch[0].matched\n",
        "this_start, this_end, matched_pattern"
      ],
      "metadata": {
        "colab": {
          "base_uri": "https://localhost:8080/"
        },
        "id": "GWLaGLIQ3ylF",
        "outputId": "08f153aa-1b27-4023-ae26-b946b29f2a6a"
      },
      "execution_count": null,
      "outputs": [
        {
          "output_type": "stream",
          "name": "stdout",
          "text": [
            "[Match(start=3, end=9, dist=1, matched='PATERN')]\n"
          ]
        },
        {
          "output_type": "execute_result",
          "data": {
            "text/plain": [
              "(3, 9, 'PATERN')"
            ]
          },
          "metadata": {},
          "execution_count": 115
        }
      ]
    },
    {
      "cell_type": "code",
      "source": [
        "found_phrase = 'I found a phrase\\r\\n ; Hey there'\n",
        "phraselist = found_phrase.split()\n",
        "phraselist[0]+\" \" + phraselist[1], phraselist\n",
        "newone = phraselist[3]+\" \" + phraselist[4] + \" \" + phraselist[5]\n",
        "num = len(phraselist)\n",
        "position = np.zeros(num)\n",
        "temp = 0\n",
        "position[0] = 0\n",
        "for i in range(1,num):\n",
        "  position[i] = position[i-1]+len(phraselist[i-1])+1\n",
        "\n",
        "\n",
        "print(f\"{newone}\")\n",
        "num, position"
      ],
      "metadata": {
        "colab": {
          "base_uri": "https://localhost:8080/"
        },
        "id": "kg8PDGp3RNSF",
        "outputId": "a1e48ae3-cb15-4eac-cdd3-faf31619e25b"
      },
      "execution_count": null,
      "outputs": [
        {
          "output_type": "stream",
          "name": "stdout",
          "text": [
            "phrase ; Hey\n"
          ]
        },
        {
          "output_type": "execute_result",
          "data": {
            "text/plain": [
              "(7, array([ 0.,  2.,  8., 10., 17., 19., 23.]))"
            ]
          },
          "metadata": {},
          "execution_count": 116
        }
      ]
    },
    {
      "cell_type": "code",
      "source": [
        "num_test_file_entries\n",
        "dfn"
      ],
      "metadata": {
        "colab": {
          "base_uri": "https://localhost:8080/",
          "height": 424
        },
        "id": "Iei7YjNt7QSS",
        "outputId": "5aaff351-caec-41de-c290-ebd683c45ad8"
      },
      "execution_count": null,
      "outputs": [
        {
          "output_type": "execute_result",
          "data": {
            "text/plain": [
              "       pn_num  case_num                                         pn_history\n",
              "0           0         0  17-year-old male, has come to the student heal...\n",
              "1           1         0  17 yo male with recurrent palpitations for the...\n",
              "2           2         0  Dillon Cleveland is a 17 y.o. male patient wit...\n",
              "3           3         0  a 17 yo m c/o palpitation started 3 mos ago; \\...\n",
              "4           4         0  17yo male with no pmh here for evaluation of p...\n",
              "...       ...       ...                                                ...\n",
              "42141   95330         9  Ms. Madden is a 20 yo female presenting w/ the...\n",
              "42142   95331         9  A 20 YO F CAME COMPLAIN A DULL 8/10 HEADACHE T...\n",
              "42143   95332         9  Ms. Madden is a 20yo female who presents with ...\n",
              "42144   95333         9  Stephanie madden is a 20 year old woman compla...\n",
              "42145   95334         9  patient is a 20 yo F who presents with a heada...\n",
              "\n",
              "[42146 rows x 3 columns]"
            ],
            "text/html": [
              "\n",
              "  <div id=\"df-cdbeabed-4c18-4a00-8fe0-c5d4b5529329\">\n",
              "    <div class=\"colab-df-container\">\n",
              "      <div>\n",
              "<style scoped>\n",
              "    .dataframe tbody tr th:only-of-type {\n",
              "        vertical-align: middle;\n",
              "    }\n",
              "\n",
              "    .dataframe tbody tr th {\n",
              "        vertical-align: top;\n",
              "    }\n",
              "\n",
              "    .dataframe thead th {\n",
              "        text-align: right;\n",
              "    }\n",
              "</style>\n",
              "<table border=\"1\" class=\"dataframe\">\n",
              "  <thead>\n",
              "    <tr style=\"text-align: right;\">\n",
              "      <th></th>\n",
              "      <th>pn_num</th>\n",
              "      <th>case_num</th>\n",
              "      <th>pn_history</th>\n",
              "    </tr>\n",
              "  </thead>\n",
              "  <tbody>\n",
              "    <tr>\n",
              "      <th>0</th>\n",
              "      <td>0</td>\n",
              "      <td>0</td>\n",
              "      <td>17-year-old male, has come to the student heal...</td>\n",
              "    </tr>\n",
              "    <tr>\n",
              "      <th>1</th>\n",
              "      <td>1</td>\n",
              "      <td>0</td>\n",
              "      <td>17 yo male with recurrent palpitations for the...</td>\n",
              "    </tr>\n",
              "    <tr>\n",
              "      <th>2</th>\n",
              "      <td>2</td>\n",
              "      <td>0</td>\n",
              "      <td>Dillon Cleveland is a 17 y.o. male patient wit...</td>\n",
              "    </tr>\n",
              "    <tr>\n",
              "      <th>3</th>\n",
              "      <td>3</td>\n",
              "      <td>0</td>\n",
              "      <td>a 17 yo m c/o palpitation started 3 mos ago; \\...</td>\n",
              "    </tr>\n",
              "    <tr>\n",
              "      <th>4</th>\n",
              "      <td>4</td>\n",
              "      <td>0</td>\n",
              "      <td>17yo male with no pmh here for evaluation of p...</td>\n",
              "    </tr>\n",
              "    <tr>\n",
              "      <th>...</th>\n",
              "      <td>...</td>\n",
              "      <td>...</td>\n",
              "      <td>...</td>\n",
              "    </tr>\n",
              "    <tr>\n",
              "      <th>42141</th>\n",
              "      <td>95330</td>\n",
              "      <td>9</td>\n",
              "      <td>Ms. Madden is a 20 yo female presenting w/ the...</td>\n",
              "    </tr>\n",
              "    <tr>\n",
              "      <th>42142</th>\n",
              "      <td>95331</td>\n",
              "      <td>9</td>\n",
              "      <td>A 20 YO F CAME COMPLAIN A DULL 8/10 HEADACHE T...</td>\n",
              "    </tr>\n",
              "    <tr>\n",
              "      <th>42143</th>\n",
              "      <td>95332</td>\n",
              "      <td>9</td>\n",
              "      <td>Ms. Madden is a 20yo female who presents with ...</td>\n",
              "    </tr>\n",
              "    <tr>\n",
              "      <th>42144</th>\n",
              "      <td>95333</td>\n",
              "      <td>9</td>\n",
              "      <td>Stephanie madden is a 20 year old woman compla...</td>\n",
              "    </tr>\n",
              "    <tr>\n",
              "      <th>42145</th>\n",
              "      <td>95334</td>\n",
              "      <td>9</td>\n",
              "      <td>patient is a 20 yo F who presents with a heada...</td>\n",
              "    </tr>\n",
              "  </tbody>\n",
              "</table>\n",
              "<p>42146 rows × 3 columns</p>\n",
              "</div>\n",
              "      <button class=\"colab-df-convert\" onclick=\"convertToInteractive('df-cdbeabed-4c18-4a00-8fe0-c5d4b5529329')\"\n",
              "              title=\"Convert this dataframe to an interactive table.\"\n",
              "              style=\"display:none;\">\n",
              "        \n",
              "  <svg xmlns=\"http://www.w3.org/2000/svg\" height=\"24px\"viewBox=\"0 0 24 24\"\n",
              "       width=\"24px\">\n",
              "    <path d=\"M0 0h24v24H0V0z\" fill=\"none\"/>\n",
              "    <path d=\"M18.56 5.44l.94 2.06.94-2.06 2.06-.94-2.06-.94-.94-2.06-.94 2.06-2.06.94zm-11 1L8.5 8.5l.94-2.06 2.06-.94-2.06-.94L8.5 2.5l-.94 2.06-2.06.94zm10 10l.94 2.06.94-2.06 2.06-.94-2.06-.94-.94-2.06-.94 2.06-2.06.94z\"/><path d=\"M17.41 7.96l-1.37-1.37c-.4-.4-.92-.59-1.43-.59-.52 0-1.04.2-1.43.59L10.3 9.45l-7.72 7.72c-.78.78-.78 2.05 0 2.83L4 21.41c.39.39.9.59 1.41.59.51 0 1.02-.2 1.41-.59l7.78-7.78 2.81-2.81c.8-.78.8-2.07 0-2.86zM5.41 20L4 18.59l7.72-7.72 1.47 1.35L5.41 20z\"/>\n",
              "  </svg>\n",
              "      </button>\n",
              "      \n",
              "  <style>\n",
              "    .colab-df-container {\n",
              "      display:flex;\n",
              "      flex-wrap:wrap;\n",
              "      gap: 12px;\n",
              "    }\n",
              "\n",
              "    .colab-df-convert {\n",
              "      background-color: #E8F0FE;\n",
              "      border: none;\n",
              "      border-radius: 50%;\n",
              "      cursor: pointer;\n",
              "      display: none;\n",
              "      fill: #1967D2;\n",
              "      height: 32px;\n",
              "      padding: 0 0 0 0;\n",
              "      width: 32px;\n",
              "    }\n",
              "\n",
              "    .colab-df-convert:hover {\n",
              "      background-color: #E2EBFA;\n",
              "      box-shadow: 0px 1px 2px rgba(60, 64, 67, 0.3), 0px 1px 3px 1px rgba(60, 64, 67, 0.15);\n",
              "      fill: #174EA6;\n",
              "    }\n",
              "\n",
              "    [theme=dark] .colab-df-convert {\n",
              "      background-color: #3B4455;\n",
              "      fill: #D2E3FC;\n",
              "    }\n",
              "\n",
              "    [theme=dark] .colab-df-convert:hover {\n",
              "      background-color: #434B5C;\n",
              "      box-shadow: 0px 1px 3px 1px rgba(0, 0, 0, 0.15);\n",
              "      filter: drop-shadow(0px 1px 2px rgba(0, 0, 0, 0.3));\n",
              "      fill: #FFFFFF;\n",
              "    }\n",
              "  </style>\n",
              "\n",
              "      <script>\n",
              "        const buttonEl =\n",
              "          document.querySelector('#df-cdbeabed-4c18-4a00-8fe0-c5d4b5529329 button.colab-df-convert');\n",
              "        buttonEl.style.display =\n",
              "          google.colab.kernel.accessAllowed ? 'block' : 'none';\n",
              "\n",
              "        async function convertToInteractive(key) {\n",
              "          const element = document.querySelector('#df-cdbeabed-4c18-4a00-8fe0-c5d4b5529329');\n",
              "          const dataTable =\n",
              "            await google.colab.kernel.invokeFunction('convertToInteractive',\n",
              "                                                     [key], {});\n",
              "          if (!dataTable) return;\n",
              "\n",
              "          const docLinkHtml = 'Like what you see? Visit the ' +\n",
              "            '<a target=\"_blank\" href=https://colab.research.google.com/notebooks/data_table.ipynb>data table notebook</a>'\n",
              "            + ' to learn more about interactive tables.';\n",
              "          element.innerHTML = '';\n",
              "          dataTable['output_type'] = 'display_data';\n",
              "          await google.colab.output.renderOutput(dataTable, element);\n",
              "          const docLink = document.createElement('div');\n",
              "          docLink.innerHTML = docLinkHtml;\n",
              "          element.appendChild(docLink);\n",
              "        }\n",
              "      </script>\n",
              "    </div>\n",
              "  </div>\n",
              "  "
            ]
          },
          "metadata": {},
          "execution_count": 117
        }
      ]
    },
    {
      "cell_type": "code",
      "source": [
        "import csv\n",
        "header = ['id','location']\n",
        "test_row = ['0000','25 45']\n",
        "\n",
        "with open('/content/gdrive/My Drive/NBME/annotation_outputs.csv', 'w', encoding='UTF8') as csv_output_file:\n",
        "  my_csv_writer = csv.writer(csv_output_file)\n",
        "  my_csv_writer.writerow(header)\n",
        "\n",
        "\n",
        "with open('/content/gdrive/My Drive/NBME/annotation_outputs.csv', 'w', encoding='UTF8') as csv_output_file:\n",
        "  my_csv_writer = csv.writer(csv_output_file)\n",
        "  my_csv_writer.writerow(test_row)\n"
      ],
      "metadata": {
        "id": "ppEmJ2FdT7DO"
      },
      "execution_count": null,
      "outputs": []
    },
    {
      "cell_type": "code",
      "source": [
        "this_testfile_case = 0\n",
        "this_testfile_feature = 12\n",
        "dftemp = dff[ (dff['case_num'] == str(this_testfile_case)) & (dff['feature_num'] == str(this_testfile_feature)) ]\n",
        "  #this_testfile_feature_sexflag = int(dftemp['sex_variable'][0])\n",
        "tempval = 10* dftemp['sex_variable']\n",
        "'''\n",
        "print(f\"value = {tempval}\")\n",
        "dftemp['sex_variable'].iloc[0]\n",
        "'''\n",
        "\n",
        "np.maximum(0.4523, 0.8765)"
      ],
      "metadata": {
        "colab": {
          "base_uri": "https://localhost:8080/"
        },
        "id": "rERvFYPS-XnJ",
        "outputId": "014f5fe0-876b-4d14-e6a0-6012b797f8c6"
      },
      "execution_count": null,
      "outputs": [
        {
          "output_type": "execute_result",
          "data": {
            "text/plain": [
              "0.8765"
            ]
          },
          "metadata": {},
          "execution_count": 119
        }
      ]
    },
    {
      "cell_type": "code",
      "source": [
        "csv_df = pd.DataFrame()\n",
        "dfnew = {'id': '0000', 'annotation': '25-87'}\n",
        "csv_df = csv_df.append(dfnew,ignore_index=True)\n",
        "print(csv_df)\n",
        "dfnew2 = {'id': '0001', 'annotation': '25-870'}\n",
        "csv_df = csv_df.append(dfnew2,ignore_index=True)\n",
        "print(csv_df)\n",
        "csv_df.to_csv('/content/gdrive/My Drive/NBME/annotation_outputs.csv',index=False)"
      ],
      "metadata": {
        "colab": {
          "base_uri": "https://localhost:8080/"
        },
        "id": "M2hyduQac5kE",
        "outputId": "54ec1fd8-f5c0-42f4-d609-4c28e090923d"
      },
      "execution_count": null,
      "outputs": [
        {
          "output_type": "stream",
          "name": "stdout",
          "text": [
            "     id annotation\n",
            "0  0000      25-87\n",
            "     id annotation\n",
            "0  0000      25-87\n",
            "1  0001     25-870\n"
          ]
        }
      ]
    },
    {
      "cell_type": "code",
      "source": [
        ""
      ],
      "metadata": {
        "id": "GKLn0Cdec3y5"
      },
      "execution_count": null,
      "outputs": []
    },
    {
      "cell_type": "code",
      "execution_count": null,
      "metadata": {
        "colab": {
          "base_uri": "https://localhost:8080/"
        },
        "id": "xlOV5YGRVuS2",
        "outputId": "74ab166f-3e16-4cf2-be11-adba366f74fd"
      },
      "outputs": [
        {
          "output_type": "stream",
          "name": "stdout",
          "text": [
            "Working through Test file Line 0  ....\n",
            "   Case 0; PN 16; Feature 0\n",
            "   Category 00;  Index 0 \n",
            "   Num = 88\n",
            "Min length 1;  Max length 11\n",
            "Input para - HPI: 17yo M presents with palpitations. Patient reports 3-4 months of intermittent episodes of heart beating pounding out of my chest. 2 days ago during a soccer game had an episode but this time had chest pressure and felt as if he were going to pass out (did not lose conciousness). Of note patient endorses abusing adderall primarily to study (1-3 times per week). Before recent soccer game took adderrall night before and morning of game. Denies shortness of breath diaphoresis fevers chills headache fatigue changes in sleep changes in vision hearing abdominal paun changes in bowel or urinary habits. \n",
            "PMHx: none\n",
            "Rx: uses friends adderrall\n",
            "FHx: mom with thyroid disease dad with recent heart attcak\n",
            "All: none\n",
            "Immunizations: up to date\n",
            "SHx: Freshmen in college. Endorses 3-4 drinks 3 nights  week (on weekends) denies tabacco endorses trying marijuana. Sexually active with girlfriend x 1 year uses condoms\n",
            "Number of sentences - 7\n",
            "Sentence - HPI: 17yo M presents with palpitations. Patient reports 3-4 months of intermittent episodes of heart beating pounding out of my chest. 2 days ago during a soccer game had an episode but this time had chest pressure and felt as if he were going to pass out (did not lose conciousness). Of note patient endorses abusing adderall primarily to study (1-3 times per week). Before recent soccer game took adderrall night before and morning of game. Denies shortness of breath diaphoresis fevers chills headache fatigue changes in sleep changes in vision hearing abdominal paun changes in bowel or urinary habits. \n",
            "Sentence - PMHx: none\n",
            "Sentence - Rx: uses friends adderrall\n",
            "Sentence - FHx: mom with thyroid disease dad with recent heart attcak\n",
            "Sentence - All: none\n",
            "Sentence - Immunizations: up to date\n",
            "Sentence - SHx: Freshmen in college. Endorses 3-4 drinks 3 nights  week (on weekends) denies tabacco endorses trying marijuana. Sexually active with girlfriend x 1 year uses condoms\n",
            "Number of phrases = 1357\n",
            "Final prediction probability 0.9845494031906128\n",
            "TAGGED PHRASE --> dad with recent heart\n",
            "Top 3 args - 00-0.9845494031906128\n",
            "             3300-0.0028091836720705032\n",
            "             02-0.001800422091037035\n",
            "FILE 0 676 696\n",
            "\n",
            "\n",
            "\n",
            "Working through Test file Line 1  ....\n",
            "   Case 0; PN 16; Feature 1\n",
            "   Category 01;  Index 1 \n",
            "   Num = 90\n",
            "Min length 2;  Max length 10\n",
            "Input para - HPI: 17yo M presents with palpitations. Patient reports 3-4 months of intermittent episodes of heart beating pounding out of my chest. 2 days ago during a soccer game had an episode but this time had chest pressure and felt as if he were going to pass out (did not lose conciousness). Of note patient endorses abusing adderall primarily to study (1-3 times per week). Before recent soccer game took adderrall night before and morning of game. Denies shortness of breath diaphoresis fevers chills headache fatigue changes in sleep changes in vision hearing abdominal paun changes in bowel or urinary habits. \n",
            "PMHx: none\n",
            "Rx: uses friends adderrall\n",
            "FHx: mom with thyroid disease dad with recent heart attcak\n",
            "All: none\n",
            "Immunizations: up to date\n",
            "SHx: Freshmen in college. Endorses 3-4 drinks 3 nights  week (on weekends) denies tabacco endorses trying marijuana. Sexually active with girlfriend x 1 year uses condoms\n",
            "Number of sentences - 7\n",
            "Sentence - HPI: 17yo M presents with palpitations. Patient reports 3-4 months of intermittent episodes of heart beating pounding out of my chest. 2 days ago during a soccer game had an episode but this time had chest pressure and felt as if he were going to pass out (did not lose conciousness). Of note patient endorses abusing adderall primarily to study (1-3 times per week). Before recent soccer game took adderrall night before and morning of game. Denies shortness of breath diaphoresis fevers chills headache fatigue changes in sleep changes in vision hearing abdominal paun changes in bowel or urinary habits. \n",
            "Sentence - PMHx: none\n",
            "Sentence - Rx: uses friends adderrall\n",
            "Sentence - FHx: mom with thyroid disease dad with recent heart attcak\n",
            "Sentence - All: none\n",
            "Sentence - Immunizations: up to date\n",
            "Sentence - SHx: Freshmen in college. Endorses 3-4 drinks 3 nights  week (on weekends) denies tabacco endorses trying marijuana. Sexually active with girlfriend x 1 year uses condoms\n",
            "Number of phrases = 1103\n",
            "Final prediction probability 0.992519736289978\n",
            "TAGGED PHRASE --> mom with thyroid disease\n",
            "Top 3 args - 01-0.992519736289978\n",
            "             7706-0.0005081700510345399\n",
            "             5514-0.00042909590410999954\n",
            "FILE 1 651 674\n",
            "\n",
            "\n",
            "\n",
            "Working through Test file Line 2  ....\n",
            "   Case 0; PN 16; Feature 2\n",
            "   Category 02;  Index 5 \n",
            "   Num = 69\n",
            "Min length 1;  Max length 8\n",
            "Input para - HPI: 17yo M presents with palpitations. Patient reports 3-4 months of intermittent episodes of heart beating pounding out of my chest. 2 days ago during a soccer game had an episode but this time had chest pressure and felt as if he were going to pass out (did not lose conciousness). Of note patient endorses abusing adderall primarily to study (1-3 times per week). Before recent soccer game took adderrall night before and morning of game. Denies shortness of breath diaphoresis fevers chills headache fatigue changes in sleep changes in vision hearing abdominal paun changes in bowel or urinary habits. \n",
            "PMHx: none\n",
            "Rx: uses friends adderrall\n",
            "FHx: mom with thyroid disease dad with recent heart attcak\n",
            "All: none\n",
            "Immunizations: up to date\n",
            "SHx: Freshmen in college. Endorses 3-4 drinks 3 nights  week (on weekends) denies tabacco endorses trying marijuana. Sexually active with girlfriend x 1 year uses condoms\n",
            "Number of sentences - 7\n",
            "Sentence - HPI: 17yo M presents with palpitations. Patient reports 3-4 months of intermittent episodes of heart beating pounding out of my chest. 2 days ago during a soccer game had an episode but this time had chest pressure and felt as if he were going to pass out (did not lose conciousness). Of note patient endorses abusing adderall primarily to study (1-3 times per week). Before recent soccer game took adderrall night before and morning of game. Denies shortness of breath diaphoresis fevers chills headache fatigue changes in sleep changes in vision hearing abdominal paun changes in bowel or urinary habits. \n",
            "Sentence - PMHx: none\n",
            "Sentence - Rx: uses friends adderrall\n",
            "Sentence - FHx: mom with thyroid disease dad with recent heart attcak\n",
            "Sentence - All: none\n",
            "Sentence - Immunizations: up to date\n",
            "Sentence - SHx: Freshmen in college. Endorses 3-4 drinks 3 nights  week (on weekends) denies tabacco endorses trying marijuana. Sexually active with girlfriend x 1 year uses condoms\n",
            "Number of phrases = 1030\n",
            "Final prediction probability 0.9899319410324097\n",
            "TAGGED PHRASE --> chest pressure\n",
            "Top 3 args - 02-0.9899319410324097\n",
            "             3304-0.0013028135290369391\n",
            "             6606-0.0010584028204903007\n",
            "FILE 2 200 213\n",
            "\n",
            "\n",
            "\n",
            "Working through Test file Line 3  ....\n",
            "   Case 0; PN 16; Feature 3\n",
            "   Category 03;  Index 6 \n",
            "   Num = 88\n",
            "Min length 1;  Max length 11\n",
            "Input para - HPI: 17yo M presents with palpitations. Patient reports 3-4 months of intermittent episodes of heart beating pounding out of my chest. 2 days ago during a soccer game had an episode but this time had chest pressure and felt as if he were going to pass out (did not lose conciousness). Of note patient endorses abusing adderall primarily to study (1-3 times per week). Before recent soccer game took adderrall night before and morning of game. Denies shortness of breath diaphoresis fevers chills headache fatigue changes in sleep changes in vision hearing abdominal paun changes in bowel or urinary habits. \n",
            "PMHx: none\n",
            "Rx: uses friends adderrall\n",
            "FHx: mom with thyroid disease dad with recent heart attcak\n",
            "All: none\n",
            "Immunizations: up to date\n",
            "SHx: Freshmen in college. Endorses 3-4 drinks 3 nights  week (on weekends) denies tabacco endorses trying marijuana. Sexually active with girlfriend x 1 year uses condoms\n",
            "Number of sentences - 7\n",
            "Sentence - HPI: 17yo M presents with palpitations. Patient reports 3-4 months of intermittent episodes of heart beating pounding out of my chest. 2 days ago during a soccer game had an episode but this time had chest pressure and felt as if he were going to pass out (did not lose conciousness). Of note patient endorses abusing adderall primarily to study (1-3 times per week). Before recent soccer game took adderrall night before and morning of game. Denies shortness of breath diaphoresis fevers chills headache fatigue changes in sleep changes in vision hearing abdominal paun changes in bowel or urinary habits. \n",
            "Sentence - PMHx: none\n",
            "Sentence - Rx: uses friends adderrall\n",
            "Sentence - FHx: mom with thyroid disease dad with recent heart attcak\n",
            "Sentence - All: none\n",
            "Sentence - Immunizations: up to date\n",
            "Sentence - SHx: Freshmen in college. Endorses 3-4 drinks 3 nights  week (on weekends) denies tabacco endorses trying marijuana. Sexually active with girlfriend x 1 year uses condoms\n",
            "Number of phrases = 1357\n",
            "Final prediction probability 0.9956496357917786\n",
            "TAGGED PHRASE --> episodes\n",
            "Top 3 args - 03-0.9956496357917786\n",
            "             3312-0.0010869988473132253\n",
            "             1108-0.00019575598707888275\n",
            "FILE 3 83 90\n",
            "\n",
            "\n",
            "\n",
            "Working through Test file Line 4  ....\n",
            "   Case 0; PN 16; Feature 4\n",
            "   Category 04;  Index 7 \n",
            "   Num = 50\n",
            "Min length 1;  Max length 10\n",
            "Input para - HPI: 17yo M presents with palpitations. Patient reports 3-4 months of intermittent episodes of heart beating pounding out of my chest. 2 days ago during a soccer game had an episode but this time had chest pressure and felt as if he were going to pass out (did not lose conciousness). Of note patient endorses abusing adderall primarily to study (1-3 times per week). Before recent soccer game took adderrall night before and morning of game. Denies shortness of breath diaphoresis fevers chills headache fatigue changes in sleep changes in vision hearing abdominal paun changes in bowel or urinary habits. \n",
            "PMHx: none\n",
            "Rx: uses friends adderrall\n",
            "FHx: mom with thyroid disease dad with recent heart attcak\n",
            "All: none\n",
            "Immunizations: up to date\n",
            "SHx: Freshmen in college. Endorses 3-4 drinks 3 nights  week (on weekends) denies tabacco endorses trying marijuana. Sexually active with girlfriend x 1 year uses condoms\n",
            "Number of sentences - 7\n",
            "Sentence - HPI: 17yo M presents with palpitations. Patient reports 3-4 months of intermittent episodes of heart beating pounding out of my chest. 2 days ago during a soccer game had an episode but this time had chest pressure and felt as if he were going to pass out (did not lose conciousness). Of note patient endorses abusing adderall primarily to study (1-3 times per week). Before recent soccer game took adderrall night before and morning of game. Denies shortness of breath diaphoresis fevers chills headache fatigue changes in sleep changes in vision hearing abdominal paun changes in bowel or urinary habits. \n",
            "Sentence - PMHx: none\n",
            "Sentence - Rx: uses friends adderrall\n",
            "Sentence - FHx: mom with thyroid disease dad with recent heart attcak\n",
            "Sentence - All: none\n",
            "Sentence - Immunizations: up to date\n",
            "Sentence - SHx: Freshmen in college. Endorses 3-4 drinks 3 nights  week (on weekends) denies tabacco endorses trying marijuana. Sexually active with girlfriend x 1 year uses condoms\n",
            "Number of phrases = 1251\n",
            "Final prediction probability 0.9665763974189758\n",
            "TAGGED PHRASE --> to pass out\n",
            "Top 3 args - 04-0.9665763974189758\n",
            "             6606-0.0032735143322497606\n",
            "             2207-0.002022350672632456\n",
            "FILE 4 244 254\n",
            "\n",
            "\n",
            "\n",
            "ALL DONE\n"
          ]
        }
      ],
      "source": [
        "#num_test_file_entries = 13\n",
        "csv_df = pd.DataFrame()\n",
        "for i in range(num_test_file_entries):\n",
        "  print(f\"Working through Test file Line {i}  ....\")\n",
        "  this_testfile_case = dftest['case_num'][i]\n",
        "  this_testfile_feature = dftest['feature_num'][i]\n",
        "  this_testfile_pn = dftest['pn_num'][i]\n",
        "  this_testfile_id = dftest['id'][i]\n",
        "  \n",
        "  this_test_file_category_index = label_to_ind[dftest['Category'][i]]\n",
        "  print(f\"   Case {this_testfile_case}; PN {this_testfile_pn}; Feature {this_testfile_feature}\")\n",
        "  print(f\"   Category {dftest['Category'][i]};  Index {this_test_file_category_index} \")\n",
        "\n",
        "  # Find min & max phrase length in annotations\n",
        "  dftemp = df[ (df['case_num'] == str(this_testfile_case)) & (df['feature_num'] == str(this_testfile_feature)) ]\n",
        "  numentries = dftemp.shape[0]\n",
        "  print(f\"   Num = {numentries}\")\n",
        "  dftemp_annotations = dftemp['clean_annotation']\n",
        "  phrases_min_length = 100\n",
        "  phrases_max_length = 0\n",
        "  for this_annotation in dftemp_annotations:\n",
        "    num_phrases = len(word_tokenize(this_annotation))\n",
        "    #print(f\"   This annotation - {this_annotation}; Length {num_phrases}\")\n",
        "    if num_phrases < phrases_min_length:\n",
        "      phrases_min_length = num_phrases\n",
        "    if num_phrases > phrases_max_length:\n",
        "      phrases_max_length = num_phrases\n",
        "  #print(f\"{this_testfile_case.dtype}\")\n",
        "  print(f\"Min length {phrases_min_length};  Max length {phrases_max_length}\")\n",
        "\n",
        "  # Create list of phrases of length between min & Max\n",
        "  input_para = dfn['pn_history'][this_testfile_pn]\n",
        "  #input_para = dfn['pn_history'][45]\n",
        "  input_para = cleanText(input_para)\n",
        "  print(f\"Input para - {input_para}\")\n",
        "  \n",
        "  #test_sentences = re.split('; |\\. |\\* |\\n', input_para)\n",
        "  test_sentences = re.split('\\n', input_para)\n",
        "  num_sentences = len(test_sentences)\n",
        "  print(f\"Number of sentences - {num_sentences}\")\n",
        "  phraselist = []\n",
        "  for sentence in test_sentences:\n",
        "    print(f\"Sentence - {sentence}\")\n",
        "    #wordlist = word_tokenize(sentence)\n",
        "    wordlist = sentence.split()\n",
        "    sentlength = len(wordlist)\n",
        "    for mylength in range(phrases_min_length,phrases_max_length+1):\n",
        "      for start in range(sentlength-mylength+1):\n",
        "        newphrase = GetPhrase(wordlist,start,mylength)\n",
        "        phraselist.append(newphrase)\n",
        "\n",
        "  # Evaluate phrases with model\n",
        "  print(f\"Number of phrases = {len(phraselist)}\")\n",
        "  test_predictions = model1.predict(phraselist)\n",
        "  test_predictions_phrase = np.argmax(test_predictions,axis=0)\n",
        "  test_predictions_probs = np.amax(test_predictions,axis=0)   \n",
        "\n",
        "  final_prediction_prob  = test_predictions_probs[this_test_file_category_index]\n",
        "  max_prediction_phrase_index = test_predictions_phrase[this_test_file_category_index]  \n",
        "\n",
        "  print(f\"Final prediction probability {final_prediction_prob}\")\n",
        "  print(f\"TAGGED PHRASE --> {phraselist[max_prediction_phrase_index]}\")\n",
        "  PrintTop3OtherClasses(num_features, test_predictions[max_prediction_phrase_index])\n",
        "\n",
        "  start = input_para.find(phraselist[max_prediction_phrase_index])\n",
        "  end = start + len(phraselist[max_prediction_phrase_index]) -1\n",
        "\n",
        "  #mymatch = find_near_matches(phraselist[max_prediction_phrase_index], input_para, max_l_dist=5)\n",
        "  #start = mymatch[0].start\n",
        "  #end = mymatch[0].end\n",
        "  #matched_phrase = mymatch[0].matched\n",
        "\n",
        "  #found_phrase = phraselist[max_prediction_phrase_index]\n",
        "  #start = input_para.find(found_phrase)\n",
        "  #if start != -1:\n",
        "  #  end = start + len(phraselist[max_prediction_phrase_index]) -1\n",
        "  #else:\n",
        "  #  first_word = found_phrase.split()[0]\n",
        "\n",
        "\n",
        "\n",
        "  annotation_string = str(start)+' '+str(end)\n",
        "  if final_prediction_prob > 0.25:\n",
        "    print(f\"FILE {this_testfile_feature} {start} {end}\")\n",
        "    dfnew = {'id': str(this_testfile_id), 'location': annotation_string}\n",
        "  else:\n",
        "    print(f\"FILE {this_testfile_feature}\")\n",
        "    dfnew = {'id': str(this_testfile_id), 'location':' '}\n",
        "  \n",
        "  print(f\"\\n\\n\")\n",
        "  csv_df = csv_df.append(dfnew,ignore_index=True)\n",
        "\n",
        "print(f\"ALL DONE\")\n",
        "csv_df.to_csv('/content/gdrive/My Drive/NBME/submission.csv',index=False)\n",
        "\n"
      ]
    },
    {
      "cell_type": "code",
      "source": [
        "#TO Do:\n",
        "# combine features relating to patients sex\n",
        "# if then condition to output or not depending on probability - DONE\n",
        "# output into file\n",
        "# re-optimize neural network based on test case patient#\n",
        "# check if only one patient note"
      ],
      "metadata": {
        "id": "sRfg938vL2-G"
      },
      "execution_count": null,
      "outputs": []
    },
    {
      "cell_type": "markdown",
      "source": [
        "Code to check for sex\n",
        "  dftemp = dff[ (dff['case_num'] == str(this_testfile_case)) & (dff['feature_num'] == str(this_testfile_feature)) ]\n",
        "  this_testfile_feature_sexflag = dftemp['sex_variable'].iloc[0]\n",
        "  #maleprob   =  (test_predictions_probs[12] + test_predictions_probs[51] + test_predictions_probs[88])/3\n",
        "  #femaleprob =  (test_predictions_probs[25] + test_predictions_probs[34] + test_predictions_probs[66] + test_predictions_probs[70] + test_predictions_probs[99] + test_predictions_probs[110] + test_predictions_probs[139])/7\n",
        "  maleprob   =  np.amax((test_predictions[12] + test_predictions[51] + test_predictions[88])/3, axis=0)\n",
        "  femaleprob =  np.amax((test_predictions[25] + test_predictions[34] + test_predictions[66] + test_predictions[70] + test_predictions[99] + test_predictions[110] + test_predictions[139])/7, axis=0)\n",
        "  if this_testfile_feature_sexflag == 0:\n",
        "    print(f\"REGULAR variable Category{this_testfile_feature} Index{this_test_file_category_index}\")\n",
        "  else:\n",
        "    print(f\"SEX variable Category{this_testfile_feature} Index{this_test_file_category_index}\")\n",
        "    print(f\"Male prob: {maleprob} ; Female prob: {femaleprob}\")\n",
        "    test_predictions[this_test_file_category_index] = np.maximum(maleprob,femaleprob)\n",
        "    print(f\"Testing: {test_predictions[this_test_file_category_index]}\")"
      ],
      "metadata": {
        "id": "HTvuNPiYQd1d"
      }
    },
    {
      "cell_type": "code",
      "source": [
        "ph1 = \"mom with thyroid disease\"\n",
        "sentence = \"FHx: mom with thyroid disease, dad with recent heart attcak\"\n",
        "start = sentence.find(ph1)\n",
        "start"
      ],
      "metadata": {
        "id": "8oa31Z9nM6An"
      },
      "execution_count": null,
      "outputs": []
    },
    {
      "cell_type": "code",
      "source": [
        "  this_pn = dfn['pn_history'][1587]\n",
        "  this_pn"
      ],
      "metadata": {
        "id": "EtFWKSnNHmnU"
      },
      "execution_count": null,
      "outputs": []
    },
    {
      "cell_type": "code",
      "source": [
        "  input_para = cleanText(this_pn)\n",
        "  #input_para = this_pn\n",
        "  print(f\"Input para - {input_para}\")"
      ],
      "metadata": {
        "id": "XcC-jjycIUkS"
      },
      "execution_count": null,
      "outputs": []
    },
    {
      "cell_type": "code",
      "source": [
        "test_sentences = re.split('\\n', input_para)\n",
        "num_sentences = len(test_sentences)\n",
        "print(f\"Number of sentences - {num_sentences}\")\n",
        "phraselist = []\n",
        "for sentence in test_sentences:\n",
        "  print(f\"Sentence - {sentence}\")"
      ],
      "metadata": {
        "id": "ZshLDwHoIqtO"
      },
      "execution_count": null,
      "outputs": []
    },
    {
      "cell_type": "code",
      "source": [
        "input_para\n",
        "start = input_para.find(ph1)\n",
        "start"
      ],
      "metadata": {
        "id": "oBdhZuwy47-w"
      },
      "execution_count": null,
      "outputs": []
    },
    {
      "cell_type": "code",
      "source": [
        "sentence = 'mom: thyroid issues father: heart attack'\n",
        "print(word_tokenize(sentence))\n",
        "x = sentence.split()\n",
        "print(x)"
      ],
      "metadata": {
        "id": "HoLwT0rZEHLH"
      },
      "execution_count": null,
      "outputs": []
    },
    {
      "cell_type": "code",
      "source": [
        "\n",
        "for sentence in test_sentences:\n",
        "  wordlist = word_tokenize(sentence)\n",
        "  sentlength = len(wordlist)\n",
        "  for mylength in range(phrases_min_length,phrases_max_length+1):\n",
        "    for start in range(sentlength-mylength+1):\n",
        "      newphrase = GetPhrase(wordlist,start,mylength)\n",
        "      print(f\"Phrase - {newphrase}\")\n",
        "      phraselist.append(newphrase)"
      ],
      "metadata": {
        "id": "D4pLx4tiHosZ"
      },
      "execution_count": null,
      "outputs": []
    },
    {
      "cell_type": "code",
      "execution_count": null,
      "metadata": {
        "id": "UjNcJDvtnZnb"
      },
      "outputs": [],
      "source": [
        "# TO DO: load Bert NN trained on Pubmed databases"
      ]
    },
    {
      "cell_type": "markdown",
      "metadata": {
        "id": "hmIOs0wiTyh9"
      },
      "source": [
        "# **References:**\n",
        "\n",
        "---\n",
        "\n",
        "\n",
        "\n",
        "---\n",
        "\n",
        "\n",
        "Named Entity Recognition\n",
        "https://towardsdatascience.com/named-entity-recognition-ner-meeting-industrys-requirement-by-applying-state-of-the-art-deep-698d2b3b4ede\n",
        "\n",
        "https://medium.com/analytics-vidhya/ner-tensorflow-2-2-0-9f10dcf5a0a\n",
        "\n",
        "Reweighting to address classification bias to certain class - https://stackoverflow.com/questions/68600997/full-cnn-model-classification-bias-to-specific-class\n",
        "\n",
        "Transfer Learning - https://towardsdatascience.com/a-comprehensive-hands-on-guide-to-transfer-learning-with-real-world-applications-in-deep-learning-212bf3b2f27a\n",
        "\n",
        "BERT - https://www.kaggle.com/code/pavansanagapati/knowledge-graph-nlp-tutorial-bert-spacy-nltk/notebook\n",
        "\n",
        "NER with BERT - https://colab.research.google.com/github/NielsRogge/Transformers-Tutorials/blob/master/BERT/Custom_Named_Entity_Recognition_with_BERT_only_first_wordpiece.ipynb\n",
        "\n",
        "POS tagging & chunking - https://machinelearningknowledge.ai/tutorial-on-pos-tagging-and-chunking-in-nltk-python/\n"
      ]
    },
    {
      "cell_type": "code",
      "execution_count": null,
      "metadata": {
        "id": "T1yZqIHPNI9d"
      },
      "outputs": [],
      "source": [
        ""
      ]
    }
  ],
  "metadata": {
    "accelerator": "GPU",
    "colab": {
      "collapsed_sections": [],
      "name": "NBME BERT model 2.ipynb",
      "provenance": []
    },
    "kernelspec": {
      "display_name": "Python 3",
      "name": "python3"
    },
    "language_info": {
      "name": "python"
    }
  },
  "nbformat": 4,
  "nbformat_minor": 0
}